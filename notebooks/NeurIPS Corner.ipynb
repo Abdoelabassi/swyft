{
 "cells": [
  {
   "cell_type": "code",
   "execution_count": 1,
   "metadata": {},
   "outputs": [
    {
     "data": {
      "text/plain": [
       "<torch._C.Generator at 0x151ede780720>"
      ]
     },
     "execution_count": 1,
     "metadata": {},
     "output_type": "execute_result"
    }
   ],
   "source": [
    "import numpy as np\n",
    "import pylab as plt\n",
    "import swyft\n",
    "import torch\n",
    "from scipy import stats\n",
    "%load_ext autoreload\n",
    "%autoreload 2\n",
    "\n",
    "np.random.seed(25)\n",
    "torch.manual_seed(25)"
   ]
  },
  {
   "cell_type": "code",
   "execution_count": 2,
   "metadata": {},
   "outputs": [],
   "source": [
    "DEVICE = 'cuda:0'\n",
    "MAX_EPOCHS = 100\n",
    "EXPECTED_N = 10000"
   ]
  },
  {
   "cell_type": "markdown",
   "metadata": {},
   "source": [
    "## Torus model"
   ]
  },
  {
   "cell_type": "code",
   "execution_count": 3,
   "metadata": {},
   "outputs": [],
   "source": [
    "def model(params, center = np.array([0.6, 0.8])):\n",
    "    a, b, c = params['a'], params['b'], params['c']\n",
    "    r = sum((c-center)**2)**0.5  # Return radial distance from center\n",
    "    x = np.array([a, r, c])\n",
    "    return dict(x=x)\n",
    "\n",
    "def noise(obs, params, noise = np.array([0.03, 0.005, 0.2])):\n",
    "    x = obs['x']\n",
    "    n = np.random.randn(*x.shape)*noise\n",
    "    return dict(x = x + n)\n",
    "\n",
    "par0 = dict(a=0.57, b=0.8, c=1.0)\n",
    "obs0 = model(par0)  # Using Asimov data"
   ]
  },
  {
   "cell_type": "code",
   "execution_count": 5,
   "metadata": {},
   "outputs": [
    {
     "name": "stdout",
     "output_type": "stream",
     "text": [
      "Creating new cache.\n"
     ]
    }
   ],
   "source": [
    "cache = swyft.MemoryCache(params = ['a', 'b', 'c'], obs_shapes = dict(x=(3,)))"
   ]
  },
  {
   "cell_type": "code",
   "execution_count": 6,
   "metadata": {},
   "outputs": [],
   "source": [
    "prior = swyft.Prior({\"a\": [\"uniform\", 0., 1.], \"b\": [\"uniform\",  0., 1.], \"c\": [\"uniform\", 0., 1.]})"
   ]
  },
  {
   "cell_type": "markdown",
   "metadata": {},
   "source": [
    "## Inference"
   ]
  },
  {
   "cell_type": "code",
   "execution_count": null,
   "metadata": {},
   "outputs": [
    {
     "name": "stderr",
     "output_type": "stream",
     "text": [
      "Simulate:   7%|▋         | 36/529 [00:00<00:01, 350.89it/s]"
     ]
    },
    {
     "name": "stdout",
     "output_type": "stream",
     "text": [
      "N = 500\n",
      "Round: 1\n",
      "Adding 529 new samples. Run simulator!\n"
     ]
    },
    {
     "name": "stderr",
     "output_type": "stream",
     "text": [
      "Simulate: 100%|██████████| 529/529 [00:01<00:00, 347.76it/s]\n"
     ]
    },
    {
     "name": "stdout",
     "output_type": "stream",
     "text": [
      "n_features = 3\n",
      "Start training\n",
      "LR iteration 0\n",
      "Validation loss: 4.0702338585486775\n",
      "Validation loss: 3.164757563517644\n",
      "Validation loss: 2.883050698500413\n",
      "Validation loss: 2.8072382486783543\n",
      "Validation loss: 2.8102125387925367\n",
      "Total epochs: 5\n",
      "LR iteration 1\n",
      "Validation loss: 2.7685034458453837\n",
      "Validation loss: 2.6877523202162523\n",
      "Validation loss: 2.756403299478384\n",
      "Total epochs: 3\n"
     ]
    },
    {
     "name": "stderr",
     "output_type": "stream",
     "text": [
      "Simulate:   0%|          | 0/281 [00:00<?, ?it/s]"
     ]
    },
    {
     "name": "stdout",
     "output_type": "stream",
     "text": [
      "Volume shrinkage: 0.8966771532265209\n",
      "N = 724\n",
      "Round: 2\n",
      "Adding 281 new samples. Run simulator!\n"
     ]
    },
    {
     "name": "stderr",
     "output_type": "stream",
     "text": [
      "Simulate: 100%|██████████| 281/281 [00:00<00:00, 347.16it/s]\n"
     ]
    },
    {
     "name": "stdout",
     "output_type": "stream",
     "text": [
      "n_features = 3\n",
      "Start training\n",
      "LR iteration 0\n",
      "Validation loss: 4.0214254591200085\n",
      "Validation loss: 3.3320137129889593\n",
      "Validation loss: 3.0513672961129084\n",
      "Validation loss: 3.0233454969194202\n",
      "Validation loss: 2.941438297430674\n",
      "Validation loss: 3.0595359007517495\n",
      "Total epochs: 6\n",
      "LR iteration 1\n",
      "Validation loss: 2.9844327767690024\n"
     ]
    }
   ],
   "source": [
    "s = swyft.SWYFT(model, noise, prior, cache, obs0, device = DEVICE)\n",
    "s.infer1d(Ninit = 500)"
   ]
  },
  {
   "cell_type": "code",
   "execution_count": null,
   "metadata": {},
   "outputs": [],
   "source": [
    "s.infer2d(N = 10000)"
   ]
  },
  {
   "cell_type": "code",
   "execution_count": null,
   "metadata": {},
   "outputs": [],
   "source": [
    "post = s.posteriors()\n",
    "swyft.corner(post, [\"a\", \"b\", \"c\"], color='r', figsize = (15,15), truth=par0)"
   ]
  },
  {
   "cell_type": "code",
   "execution_count": null,
   "metadata": {},
   "outputs": [],
   "source": []
  }
 ],
 "metadata": {
  "kernelspec": {
   "display_name": "Python 3",
   "language": "python",
   "name": "python3"
  },
  "language_info": {
   "codemirror_mode": {
    "name": "ipython",
    "version": 3
   },
   "file_extension": ".py",
   "mimetype": "text/x-python",
   "name": "python",
   "nbconvert_exporter": "python",
   "pygments_lexer": "ipython3",
   "version": "3.7.3"
  }
 },
 "nbformat": 4,
 "nbformat_minor": 4
}
