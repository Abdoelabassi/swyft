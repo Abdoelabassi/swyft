{
 "cells": [
  {
   "cell_type": "code",
   "execution_count": 1,
   "metadata": {},
   "outputs": [
    {
     "data": {
      "text/plain": [
       "<torch._C.Generator at 0x2aab3f220a50>"
      ]
     },
     "execution_count": 1,
     "metadata": {},
     "output_type": "execute_result"
    }
   ],
   "source": [
    "import numpy as np\n",
    "import pylab as plt\n",
    "import swyft\n",
    "import torch\n",
    "from scipy import stats\n",
    "%load_ext autoreload\n",
    "%autoreload 2\n",
    "\n",
    "np.random.seed(25)\n",
    "torch.manual_seed(25)"
   ]
  },
  {
   "cell_type": "code",
   "execution_count": 2,
   "metadata": {},
   "outputs": [],
   "source": [
    "DEVICE = 'cuda:0'\n",
    "MAX_EPOCHS = 100\n",
    "# EXPECTED_N = [2000,2000,4000,15000]\n",
    "EXPECTED_N = 10000\n",
    "#EXPECTED_N = [20000]*4"
   ]
  },
  {
   "cell_type": "markdown",
   "metadata": {},
   "source": [
    "## Torus model"
   ]
  },
  {
   "cell_type": "code",
   "execution_count": 3,
   "metadata": {},
   "outputs": [],
   "source": [
    "def simulator(z, center = np.array([0.6, 0.8])):\n",
    "    r = sum((z[:2]-center)**2)**0.5  # Return radial distance from center\n",
    "    x = np.array([z[0], r, z[2]])\n",
    "    return x\n",
    "\n",
    "def noise(x, z = None, noise = np.array([0.03, 0.005, 0.2])):\n",
    "    n = np.random.randn(*x.shape)*noise\n",
    "    return x + n\n",
    "\n",
    "z0 = np.array([0.57, 0.8, 1.0])\n",
    "zdim = len(z0)\n",
    "x0 = simulator(z0)  # Using Asimov data"
   ]
  },
  {
   "cell_type": "code",
   "execution_count": 4,
   "metadata": {},
   "outputs": [
    {
     "name": "stdout",
     "output_type": "stream",
     "text": [
      "Creating new cache.\n"
     ]
    }
   ],
   "source": [
    "cache = swyft.MemoryCache(zdim = zdim, xshape = x0.shape)"
   ]
  },
  {
   "cell_type": "markdown",
   "metadata": {},
   "source": [
    "## Inference"
   ]
  },
  {
   "cell_type": "code",
   "execution_count": 5,
   "metadata": {
    "scrolled": true
   },
   "outputs": [
    {
     "name": "stderr",
     "output_type": "stream",
     "text": [
      "Simulate:   2%|▏         | 216/10130 [00:00<00:04, 2152.02it/s]"
     ]
    },
    {
     "name": "stdout",
     "output_type": "stream",
     "text": [
      "Adding 10130 new samples. Run simulator!\n"
     ]
    },
    {
     "name": "stderr",
     "output_type": "stream",
     "text": [
      "Simulate: 100%|██████████| 10130/10130 [00:03<00:00, 3025.33it/s]\n"
     ]
    },
    {
     "name": "stdout",
     "output_type": "stream",
     "text": [
      "No new simulator runs required.\n",
      "yshape (shape of features between head and legs): 3\n",
      "Start training\n",
      "LR iteration 0\n",
      "Validation loss: 147.59297585487366\n",
      "Validation loss: 138.38098740577698\n",
      "Validation loss: 136.05979537963867\n",
      "Validation loss: 137.23055958747864\n",
      "Total epochs: 4\n",
      "LR iteration 1\n",
      "Validation loss: 133.48357582092285\n",
      "Validation loss: 130.82190561294556\n",
      "Validation loss: 131.75251650810242\n",
      "Total epochs: 3\n",
      "LR iteration 2\n",
      "Validation loss: 130.39817762374878\n",
      "Validation loss: 131.08727312088013\n",
      "Total epochs: 2\n"
     ]
    },
    {
     "name": "stderr",
     "output_type": "stream",
     "text": [
      "Simulate:   3%|▎         | 306/9060 [00:00<00:02, 3052.42it/s]"
     ]
    },
    {
     "name": "stdout",
     "output_type": "stream",
     "text": [
      "Constrained posterior area: 0.0820792660592144\n",
      "Adding 9060 new samples. Run simulator!\n"
     ]
    },
    {
     "name": "stderr",
     "output_type": "stream",
     "text": [
      "Simulate: 100%|██████████| 9060/9060 [00:03<00:00, 3003.51it/s]\n"
     ]
    },
    {
     "name": "stdout",
     "output_type": "stream",
     "text": [
      "No new simulator runs required.\n",
      "yshape (shape of features between head and legs): 3\n",
      "Start training\n",
      "LR iteration 0\n",
      "Validation loss: 169.98242807388306\n",
      "Validation loss: 170.60896921157837\n",
      "Total epochs: 2\n",
      "LR iteration 1\n",
      "Validation loss: 170.12873220443726\n",
      "Validation loss: 165.54908895492554\n",
      "Validation loss: 164.37572622299194\n",
      "Validation loss: 166.44426918029785\n",
      "Total epochs: 4\n",
      "LR iteration 2\n",
      "Validation loss: 164.27269840240479\n",
      "Validation loss: 164.63713026046753\n",
      "Total epochs: 2\n"
     ]
    },
    {
     "name": "stderr",
     "output_type": "stream",
     "text": [
      "Simulate:   5%|▍         | 307/6754 [00:00<00:02, 3061.62it/s]"
     ]
    },
    {
     "name": "stdout",
     "output_type": "stream",
     "text": [
      "Constrained posterior area: 0.026357198310615337\n",
      "Adding 6754 new samples. Run simulator!\n"
     ]
    },
    {
     "name": "stderr",
     "output_type": "stream",
     "text": [
      "Simulate: 100%|██████████| 6754/6754 [00:02<00:00, 2781.16it/s]\n"
     ]
    },
    {
     "name": "stdout",
     "output_type": "stream",
     "text": [
      "No new simulator runs required.\n",
      "yshape (shape of features between head and legs): 3\n",
      "Start training\n",
      "LR iteration 0\n",
      "Validation loss: 197.88930463790894\n",
      "Validation loss: 200.33187913894653\n",
      "Total epochs: 2\n",
      "LR iteration 1\n",
      "Validation loss: 199.98935222625732\n",
      "Validation loss: 197.56783628463745\n",
      "Validation loss: 195.346999168396\n",
      "Validation loss: 194.87450218200684\n",
      "Validation loss: 196.38836812973022\n",
      "Total epochs: 5\n",
      "LR iteration 2\n",
      "Validation loss: 191.48196411132812\n",
      "Validation loss: 193.4051685333252\n",
      "Total epochs: 2\n"
     ]
    },
    {
     "name": "stderr",
     "output_type": "stream",
     "text": [
      "Simulate:   6%|▌         | 312/5067 [00:00<00:01, 3113.71it/s]"
     ]
    },
    {
     "name": "stdout",
     "output_type": "stream",
     "text": [
      "Constrained posterior area: 0.012938391943644642\n",
      "Adding 5067 new samples. Run simulator!\n"
     ]
    },
    {
     "name": "stderr",
     "output_type": "stream",
     "text": [
      "Simulate: 100%|██████████| 5067/5067 [00:01<00:00, 3050.90it/s]\n"
     ]
    },
    {
     "name": "stdout",
     "output_type": "stream",
     "text": [
      "No new simulator runs required.\n",
      "yshape (shape of features between head and legs): 3\n",
      "Start training\n",
      "LR iteration 0\n",
      "Validation loss: 210.8883719444275\n",
      "Validation loss: 208.07169485092163\n",
      "Validation loss: 207.79463958740234\n",
      "Validation loss: 203.88846063613892\n",
      "Validation loss: 201.24616527557373\n",
      "Validation loss: 205.5830979347229\n",
      "Total epochs: 6\n",
      "LR iteration 1\n",
      "Validation loss: 203.29783010482788\n",
      "Validation loss: 203.9867558479309\n",
      "Total epochs: 2\n",
      "LR iteration 2\n",
      "Validation loss: 206.31553983688354\n",
      "Validation loss: 203.9621777534485\n",
      "Validation loss: 200.78311777114868\n",
      "Validation loss: 201.27006149291992\n",
      "Total epochs: 4\n"
     ]
    }
   ],
   "source": [
    "intensity = None\n",
    "pre = None\n",
    "rn = False\n",
    "\n",
    "for i in range(4):\n",
    "    if intensity is None:\n",
    "        intensity = swyft.get_unit_intensity(\n",
    "            expected_n=EXPECTED_N, \n",
    "            dim=zdim\n",
    "        )\n",
    "    else:\n",
    "        intensity = swyft.get_constrained_intensity(\n",
    "            expected_n=EXPECTED_N,\n",
    "            ratio_estimator=re,\n",
    "            x0=x0,\n",
    "            threshold=1e-4,\n",
    "        )\n",
    "    \n",
    "    cache.grow(intensity)\n",
    "    cache.simulate(simulator)\n",
    "    \n",
    "    points = swyft.Points(cache, intensity, noise)\n",
    "    \n",
    "    statistics = swyft.get_norms(points)\n",
    "    re = swyft.RatioEstimator(\n",
    "        points, \n",
    "        device=DEVICE, \n",
    "        previous_ratio_estimator=pre,\n",
    "        recycle_net=rn,\n",
    "        statistics=statistics\n",
    "    )\n",
    "    re.train(\n",
    "        max_epochs=MAX_EPOCHS, \n",
    "        batch_size=32, \n",
    "        lr_schedule=[1e-3, 3e-4, 1e-4]\n",
    "    )\n",
    "    \n",
    "    pre=re\n",
    "    rn=True"
   ]
  },
  {
   "cell_type": "code",
   "execution_count": 6,
   "metadata": {},
   "outputs": [
    {
     "data": {
      "image/png": "[encoded data removed]",
      "text/plain": [
       "<Figure size 864x288 with 3 Axes>"
      ]
     },
     "metadata": {
      "needs_background": "light"
     },
     "output_type": "display_data"
    }
   ],
   "source": [
    "swyft.plot1d(re, x0 = x0, z0 = z0, cmap = 'Greys', dims = (12, 4),max_n_points=10000);"
   ]
  },
  {
   "cell_type": "code",
   "execution_count": 7,
   "metadata": {},
   "outputs": [
    {
     "name": "stdout",
     "output_type": "stream",
     "text": [
      "yshape (shape of features between head and legs): 3\n"
     ]
    }
   ],
   "source": [
    "re2 = swyft.RatioEstimator(points, combinations = [[0, 1], [0, 2], [1, 2]], device=DEVICE)"
   ]
  },
  {
   "cell_type": "code",
   "execution_count": null,
   "metadata": {},
   "outputs": [
    {
     "name": "stdout",
     "output_type": "stream",
     "text": [
      "Start training\n",
      "LR iteration 0\n",
      "Validation loss: 207.06899404525757\n",
      "Validation loss: 205.99343061447144\n",
      "Validation loss: 201.35333681106567\n",
      "Validation loss: 197.5129108428955\n",
      "Validation loss: 194.35709476470947\n",
      "Validation loss: 193.95268630981445\n",
      "Validation loss: 195.09806060791016\n",
      "Validation loss: 196.95778226852417\n",
      "Validation loss: 194.30684089660645\n",
      "Validation loss: 186.87263679504395\n",
      "Validation loss: 182.5034260749817\n",
      "Validation loss: 182.04381132125854\n",
      "Validation loss: 189.08551740646362\n",
      "Validation loss: 180.38390588760376\n",
      "Validation loss: 183.0518193244934\n"
     ]
    }
   ],
   "source": [
    "re2.train(max_epochs=MAX_EPOCHS, batch_size=32, lr_schedule=[1e-3, 3e-4, 1e-4], early_stopping_patience=5)"
   ]
  },
  {
   "cell_type": "code",
   "execution_count": null,
   "metadata": {},
   "outputs": [],
   "source": [
    "swyft.corner(re, re2, x0 = x0, z0 = z0, cmap = 'Greys', dim = 10, max_n_points=20000)"
   ]
  },
  {
   "cell_type": "code",
   "execution_count": null,
   "metadata": {},
   "outputs": [],
   "source": []
  }
 ],
 "metadata": {
  "kernelspec": {
   "display_name": "Python 3",
   "language": "python",
   "name": "python3"
  },
  "language_info": {
   "codemirror_mode": {
    "name": "ipython",
    "version": 3
   },
   "file_extension": ".py",
   "mimetype": "text/x-python",
   "name": "python",
   "nbconvert_exporter": "python",
   "pygments_lexer": "ipython3",
   "version": "3.8.5"
  }
 },
 "nbformat": 4,
 "nbformat_minor": 4
}
