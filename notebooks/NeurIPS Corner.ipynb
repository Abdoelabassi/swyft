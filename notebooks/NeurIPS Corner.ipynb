{
 "cells": [
  {
   "cell_type": "code",
   "execution_count": 1,
   "metadata": {},
   "outputs": [],
   "source": [
    "import numpy as np\n",
    "import pylab as plt\n",
    "import swyft\n",
    "import torch\n",
    "from scipy import stats\n",
    "\n",
    "np.random.seed(27);\n",
    "torch.manual_seed(27);"
   ]
  },
  {
   "cell_type": "code",
   "execution_count": 2,
   "metadata": {},
   "outputs": [],
   "source": [
    "DEVICE = 'cuda'"
   ]
  },
  {
   "cell_type": "markdown",
   "metadata": {},
   "source": [
    "## Torus model"
   ]
  },
  {
   "cell_type": "code",
   "execution_count": 3,
   "metadata": {},
   "outputs": [],
   "source": [
    "def model(v, center = np.array([0.6, 0.8])):\n",
    "    a, b, c = v\n",
    "    r = ((a-center[0])**2+(b-center[1])**2)**0.5  # Return radial distance from center\n",
    "    x = np.array([a, r, c])\n",
    "    return dict(x=x)\n",
    "\n",
    "def noise(obs, v, noise = np.array([0.03, 0.005, 0.2])):\n",
    "    x = obs['x']\n",
    "    n = np.random.randn(*x.shape)*noise\n",
    "    return dict(x = x + n)"
   ]
  },
  {
   "cell_type": "code",
   "execution_count": 4,
   "metadata": {},
   "outputs": [],
   "source": [
    "v0 = np.array([0.57, 0.8, 1.0])\n",
    "obs0 = model(v0)  # Using Asimov data"
   ]
  },
  {
   "cell_type": "code",
   "execution_count": 5,
   "metadata": {},
   "outputs": [],
   "source": [
    "prior = swyft.Prior.from_uv(lambda u: u, 3)"
   ]
  },
  {
   "cell_type": "code",
   "execution_count": 6,
   "metadata": {},
   "outputs": [],
   "source": [
    "simulator = swyft.Simulator(model, sim_shapes = dict(x=(3,)))\n",
    "store = swyft.MemoryStore(3, simulator = simulator)"
   ]
  },
  {
   "cell_type": "code",
   "execution_count": null,
   "metadata": {},
   "outputs": [],
   "source": [
    "partitions = [0, 1, 2]\n",
    "micro = swyft.Microscope(partitions, prior, obs0, store = store, simhook = noise, device = DEVICE)\n",
    "micro.focus(max_rounds=5)"
   ]
  },
  {
   "cell_type": "code",
   "execution_count": null,
   "metadata": {},
   "outputs": [],
   "source": [
    "post = swyft.Posteriors.from_Microscope(micro)\n",
    "post.infer([(0, 1), (0, 2), (1, 2)], device = DEVICE)"
   ]
  },
  {
   "cell_type": "code",
   "execution_count": null,
   "metadata": {},
   "outputs": [],
   "source": [
    "samples = post.sample(1000000, obs0)"
   ]
  },
  {
   "cell_type": "code",
   "execution_count": null,
   "metadata": {},
   "outputs": [],
   "source": [
    "swyft.corner(samples, [0, 1, 2], color='r', figsize = (15,15), truth=v0)"
   ]
  },
  {
   "cell_type": "code",
   "execution_count": null,
   "metadata": {},
   "outputs": [],
   "source": [
    "len(store)"
   ]
  }
 ],
 "metadata": {
  "kernelspec": {
   "display_name": "Python 3",
   "language": "python",
   "name": "python3"
  },
  "language_info": {
   "codemirror_mode": {
    "name": "ipython",
    "version": 3
   },
   "file_extension": ".py",
   "mimetype": "text/x-python",
   "name": "python",
   "nbconvert_exporter": "python",
   "pygments_lexer": "ipython3",
   "version": "3.7.3"
  }
 },
 "nbformat": 4,
 "nbformat_minor": 4
}
