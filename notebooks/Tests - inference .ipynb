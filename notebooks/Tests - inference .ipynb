{
 "cells": [
  {
   "cell_type": "code",
   "execution_count": 19,
   "metadata": {},
   "outputs": [
    {
     "name": "stdout",
     "output_type": "stream",
     "text": [
      "The autoreload extension is already loaded. To reload it, use:\n",
      "  %reload_ext autoreload\n"
     ]
    }
   ],
   "source": [
    "import torch\n",
    "import corner\n",
    "import numpy as np\n",
    "import pylab as plt\n",
    "from swyft.intensity import BallMask, ComboMask, Prior1d, Prior, IntensityNew\n",
    "from tqdm import tqdm\n",
    "\n",
    "import swyft\n",
    "\n",
    "DEVICE = 'cuda'\n",
    "\n",
    "%load_ext autoreload\n",
    "%autoreload 2"
   ]
  },
  {
   "cell_type": "code",
   "execution_count": 20,
   "metadata": {},
   "outputs": [],
   "source": [
    "def model(par):\n",
    "    return dict(spec=np.linspace(-1, 1, 5)*par['A']+par['B'])\n",
    "\n",
    "def noise(obs, par):\n",
    "    obs['spec'] += np.random.randn(*obs['spec'].shape)*0.5\n",
    "    return obs"
   ]
  },
  {
   "cell_type": "markdown",
   "metadata": {},
   "source": [
    "### Storage"
   ]
  },
  {
   "cell_type": "code",
   "execution_count": 21,
   "metadata": {},
   "outputs": [
    {
     "name": "stdout",
     "output_type": "stream",
     "text": [
      "Creating new cache.\n"
     ]
    }
   ],
   "source": [
    "cache = swyft.MemoryCache(par_names = [\"A\", \"B\"], obs_shapes = {\"spec\": (5,)})"
   ]
  },
  {
   "cell_type": "markdown",
   "metadata": {},
   "source": [
    "### Prior"
   ]
  },
  {
   "cell_type": "code",
   "execution_count": 22,
   "metadata": {},
   "outputs": [],
   "source": [
    "prior_conf = {\"A\": [\"normal\", 0.0, 1.0], \"B\": [\"normal\",  0., 1.0]}\n",
    "prior = Prior(prior_conf)"
   ]
  },
  {
   "cell_type": "markdown",
   "metadata": {},
   "source": [
    "### Populating storage with simulations"
   ]
  },
  {
   "cell_type": "code",
   "execution_count": 23,
   "metadata": {},
   "outputs": [
    {
     "name": "stderr",
     "output_type": "stream",
     "text": [
      "Simulate:   1%|▏         | 39/2925 [00:00<00:07, 385.94it/s]"
     ]
    },
    {
     "name": "stdout",
     "output_type": "stream",
     "text": [
      "Adding 2925 new samples. Run simulator!\n"
     ]
    },
    {
     "name": "stderr",
     "output_type": "stream",
     "text": [
      "Simulate: 100%|██████████| 2925/2925 [00:07<00:00, 386.32it/s]\n"
     ]
    }
   ],
   "source": [
    "N = 3000\n",
    "cache.grow(prior, N)\n",
    "cache.simulate(model)"
   ]
  },
  {
   "cell_type": "code",
   "execution_count": 24,
   "metadata": {},
   "outputs": [],
   "source": [
    "indices = cache.sample(prior, N)\n",
    "points = swyft.Points(cache, indices, noise)"
   ]
  },
  {
   "cell_type": "code",
   "execution_count": 29,
   "metadata": {},
   "outputs": [
    {
     "name": "stdout",
     "output_type": "stream",
     "text": [
      "Automatic transformation\n",
      "Number of features from head network: 5\n",
      "Number of parameters to estimate: 3\n",
      "Maximum posterior dimensionality: 2\n",
      "Start training\n",
      "LR iteration 0\n",
      "Validation loss: 148.2859673500061\n",
      "Validation loss: 150.84847974777222\n",
      "Total epochs: 2\n",
      "LR iteration 1\n",
      "Validation loss: 138.98909258842468\n",
      "Validation loss: 138.7181851863861\n",
      "Validation loss: 141.75496172904968\n",
      "Total epochs: 3\n"
     ]
    }
   ],
   "source": [
    "re = swyft.RatioEstimator(points, [(\"A\"), (\"B\"), (\"A\", \"B\")], device=DEVICE)\n",
    "re.train(max_epochs=10, batch_size=8, lr_schedule=[1e-3, 1e-4])"
   ]
  },
  {
   "cell_type": "code",
   "execution_count": 30,
   "metadata": {},
   "outputs": [],
   "source": [
    "obs0, par0 = points[2]['obs'], points[2]['par']"
   ]
  },
  {
   "cell_type": "code",
   "execution_count": 31,
   "metadata": {},
   "outputs": [
    {
     "data": {
      "text/plain": [
       "<matplotlib.collections.PathCollection at 0x7fcf20f809d0>"
      ]
     },
     "execution_count": 31,
     "metadata": {},
     "output_type": "execute_result"
    },
    {
     "data": {
      "image/png": "[encoded data removed]",
      "text/plain": [
       "<Figure size 432x288 with 1 Axes>"
      ]
     },
     "metadata": {
      "needs_background": "light"
     },
     "output_type": "display_data"
    }
   ],
   "source": [
    "pars = prior.sample(100000)\n",
    "lnL = re.lnL(obs0, pars)\n",
    "plt.hist2d(pars['A'], pars['B'], weights = np.exp(lnL[('A', 'B')]), bins = 60, density = True);\n",
    "plt.scatter(par0['A'], par0['B'], marker='o', color='r')"
   ]
  },
  {
   "cell_type": "code",
   "execution_count": 32,
   "metadata": {},
   "outputs": [],
   "source": [
    "prior2 = prior.get_masked(obs0, re)"
   ]
  },
  {
   "cell_type": "code",
   "execution_count": 33,
   "metadata": {},
   "outputs": [
    {
     "name": "stderr",
     "output_type": "stream",
     "text": [
      "Simulate:   2%|▏         | 39/2264 [00:00<00:05, 388.12it/s]"
     ]
    },
    {
     "name": "stdout",
     "output_type": "stream",
     "text": [
      "Adding 2264 new samples. Run simulator!\n"
     ]
    },
    {
     "name": "stderr",
     "output_type": "stream",
     "text": [
      "Simulate: 100%|██████████| 2264/2264 [00:05<00:00, 380.76it/s]\n"
     ]
    }
   ],
   "source": [
    "cache.grow(prior2, N)\n",
    "cache.simulate(model)"
   ]
  },
  {
   "cell_type": "code",
   "execution_count": 34,
   "metadata": {},
   "outputs": [],
   "source": [
    "indices = cache.sample(prior2, N)\n",
    "points = swyft.Points(cache, indices, noise)"
   ]
  },
  {
   "cell_type": "code",
   "execution_count": 35,
   "metadata": {},
   "outputs": [
    {
     "name": "stdout",
     "output_type": "stream",
     "text": [
      "Number of features from head network: 5\n",
      "Number of parameters to estimate: 3\n",
      "Maximum posterior dimensionality: 2\n",
      "Start training\n",
      "LR iteration 0\n",
      "Validation loss: 212.55216360092163\n",
      "Validation loss: 199.56980514526367\n",
      "Validation loss: 201.05320811271667\n",
      "Total epochs: 3\n",
      "LR iteration 1\n",
      "Validation loss: 199.34226298332214\n",
      "Validation loss: 194.37027716636658\n",
      "Validation loss: 194.38472986221313\n",
      "Total epochs: 3\n"
     ]
    }
   ],
   "source": [
    "re = swyft.RatioEstimator(points, [(\"A\"), (\"B\"), (\"A\", \"B\")], device=DEVICE)\n",
    "re.train(max_epochs=10, batch_size=8, lr_schedule=[1e-3, 1e-4])"
   ]
  },
  {
   "cell_type": "code",
   "execution_count": 36,
   "metadata": {},
   "outputs": [
    {
     "data": {
      "text/plain": [
       "<matplotlib.collections.PathCollection at 0x7fcf20f0b7d0>"
      ]
     },
     "execution_count": 36,
     "metadata": {},
     "output_type": "execute_result"
    },
    {
     "data": {
      "image/png": "[encoded data removed]",
      "text/plain": [
       "<Figure size 432x288 with 1 Axes>"
      ]
     },
     "metadata": {
      "needs_background": "light"
     },
     "output_type": "display_data"
    }
   ],
   "source": [
    "pars = prior2.sample(100000)\n",
    "lnL = re.lnL(obs0, pars)\n",
    "plt.hist2d(pars['A'], pars['B'], weights = np.exp(lnL[('A', 'B')]), bins = 20, density = True);\n",
    "plt.scatter(par0['A'], par0['B'], marker='o', color='r')"
   ]
  },
  {
   "cell_type": "code",
   "execution_count": null,
   "metadata": {},
   "outputs": [],
   "source": []
  }
 ],
 "metadata": {
  "kernelspec": {
   "display_name": "Python 3",
   "language": "python",
   "name": "python3"
  },
  "language_info": {
   "codemirror_mode": {
    "name": "ipython",
    "version": 3
   },
   "file_extension": ".py",
   "mimetype": "text/x-python",
   "name": "python",
   "nbconvert_exporter": "python",
   "pygments_lexer": "ipython3",
   "version": "3.7.7"
  }
 },
 "nbformat": 4,
 "nbformat_minor": 4
}
