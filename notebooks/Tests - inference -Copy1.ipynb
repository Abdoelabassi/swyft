{
 "cells": [
  {
   "cell_type": "code",
   "execution_count": 1,
   "metadata": {},
   "outputs": [],
   "source": [
    "import torch\n",
    "import corner\n",
    "import numpy as np\n",
    "import pylab as plt\n",
    "\n",
    "import swyft\n",
    "\n",
    "DEVICE = 'cuda'\n",
    "\n",
    "%load_ext autoreload\n",
    "%autoreload 2"
   ]
  },
  {
   "cell_type": "code",
   "execution_count": 2,
   "metadata": {},
   "outputs": [],
   "source": [
    "def model(par):\n",
    "    return dict(spec=np.linspace(-1, 1, 5)*par['A']+par['B'])\n",
    "\n",
    "def noise(obs, par):\n",
    "    obs['spec'] += np.random.randn(*obs['spec'].shape)*0.5\n",
    "    return obs"
   ]
  },
  {
   "cell_type": "markdown",
   "metadata": {},
   "source": [
    "### Storage"
   ]
  },
  {
   "cell_type": "code",
   "execution_count": 3,
   "metadata": {},
   "outputs": [
    {
     "name": "stdout",
     "output_type": "stream",
     "text": [
      "Creating new cache.\n"
     ]
    }
   ],
   "source": [
    "cache = swyft.MemoryCache(par_names = [\"A\", \"B\"], obs_shapes = {\"spec\": (5,)})"
   ]
  },
  {
   "cell_type": "markdown",
   "metadata": {},
   "source": [
    "### Prior"
   ]
  },
  {
   "cell_type": "code",
   "execution_count": 4,
   "metadata": {},
   "outputs": [],
   "source": [
    "prior_conf = {\"A\": [\"normal\", 0.0, 1.0], \"B\": [\"normal\",  0., 1.0]}"
   ]
  },
  {
   "cell_type": "code",
   "execution_count": null,
   "metadata": {},
   "outputs": [],
   "source": [
    "par0 = {\"A\": 0.5, \"B\": 0.5}\n",
    "obs0 = noise(model(par0), par0)"
   ]
  },
  {
   "cell_type": "code",
   "execution_count": 10,
   "metadata": {},
   "outputs": [
    {
     "name": "stdout",
     "output_type": "stream",
     "text": [
      "No new simulator runs required.\n",
      "No simulations required.\n",
      "Number of features from head network: 5\n",
      "Number of parameters to estimate: 2\n",
      "Maximum posterior dimensionality: 1\n",
      "Start training\n",
      "LR iteration 0\n",
      "Validation loss: 13.88788366317749\n",
      "Validation loss: 11.466135740280151\n",
      "Validation loss: 12.19942331314087\n",
      "Total epochs: 3\n",
      "LR iteration 1\n",
      "Validation loss: 9.906060695648193\n",
      "Validation loss: 10.522135257720947\n",
      "Total epochs: 2\n"
     ]
    },
    {
     "name": "stderr",
     "output_type": "stream",
     "text": [
      "Simulate: 100%|██████████| 66/66 [00:00<00:00, 381.84it/s]"
     ]
    },
    {
     "name": "stdout",
     "output_type": "stream",
     "text": [
      "Adding 66 new samples. Run simulator!\n"
     ]
    },
    {
     "name": "stderr",
     "output_type": "stream",
     "text": [
      "\n"
     ]
    },
    {
     "name": "stdout",
     "output_type": "stream",
     "text": [
      "Number of features from head network: 5\n",
      "Number of parameters to estimate: 2\n",
      "Maximum posterior dimensionality: 1\n",
      "Start training\n",
      "LR iteration 0\n",
      "Validation loss: 17.495644569396973\n",
      "Validation loss: 14.66696310043335\n",
      "Validation loss: 14.436178207397461\n",
      "Validation loss: 13.33869457244873\n",
      "Validation loss: 15.516663789749146\n",
      "Total epochs: 5\n",
      "LR iteration 1\n",
      "Validation loss: 12.720489978790283\n",
      "Validation loss: 12.134520292282104\n",
      "Validation loss: 15.659820795059204\n",
      "Total epochs: 3\n"
     ]
    }
   ],
   "source": [
    "s = swyft.SWYFT(model, noise, prior_conf, cache, obs = obs0, device = DEVICE)\n",
    "s.run([300, 300])\n",
    "s.round(1000, [(\"A\", \"B\")])"
   ]
  },
  {
   "cell_type": "code",
   "execution_count": 11,
   "metadata": {},
   "outputs": [
    {
     "name": "stderr",
     "output_type": "stream",
     "text": [
      "Simulate:   6%|▌         | 45/818 [00:00<00:01, 446.33it/s]"
     ]
    },
    {
     "name": "stdout",
     "output_type": "stream",
     "text": [
      "Adding 818 new samples. Run simulator!\n"
     ]
    },
    {
     "name": "stderr",
     "output_type": "stream",
     "text": [
      "Simulate: 100%|██████████| 818/818 [00:01<00:00, 445.20it/s]\n"
     ]
    },
    {
     "name": "stdout",
     "output_type": "stream",
     "text": [
      "Number of features from head network: 5\n",
      "Number of parameters to estimate: 1\n",
      "Maximum posterior dimensionality: 2\n",
      "Start training\n",
      "LR iteration 0\n",
      "Validation loss: 17.584166288375854\n",
      "Validation loss: 16.570414125919342\n",
      "Validation loss: 17.001430869102478\n",
      "Total epochs: 3\n",
      "LR iteration 1\n",
      "Validation loss: 16.82401466369629\n",
      "Validation loss: 15.467629373073578\n",
      "Validation loss: 15.802135854959488\n",
      "Total epochs: 3\n"
     ]
    }
   ],
   "source": []
  },
  {
   "cell_type": "code",
   "execution_count": 15,
   "metadata": {},
   "outputs": [
    {
     "data": {
      "text/plain": [
       "<matplotlib.collections.PathCollection at 0x7f36179ffc10>"
      ]
     },
     "execution_count": 15,
     "metadata": {},
     "output_type": "execute_result"
    },
    {
     "data": {
      "image/png": "[encoded data removed]",
      "text/plain": [
       "<Figure size 432x288 with 1 Axes>"
      ]
     },
     "metadata": {
      "needs_background": "light"
     },
     "output_type": "display_data"
    }
   ],
   "source": [
    "pars, lnL = s.lnL(2)\n",
    "plt.hist2d(pars['A'], pars['B'], weights = np.exp(lnL[('A','B')]), bins = 60, density = True);\n",
    "plt.scatter(par0['A'], par0['B'], marker='o', color='r')"
   ]
  },
  {
   "cell_type": "code",
   "execution_count": null,
   "metadata": {},
   "outputs": [],
   "source": []
  }
 ],
 "metadata": {
  "kernelspec": {
   "display_name": "Python 3",
   "language": "python",
   "name": "python3"
  },
  "language_info": {
   "codemirror_mode": {
    "name": "ipython",
    "version": 3
   },
   "file_extension": ".py",
   "mimetype": "text/x-python",
   "name": "python",
   "nbconvert_exporter": "python",
   "pygments_lexer": "ipython3",
   "version": "3.7.7"
  }
 },
 "nbformat": 4,
 "nbformat_minor": 4
}
