{
 "cells": [
  {
   "cell_type": "markdown",
   "metadata": {},
   "source": [
    "# Marginal 1-dim posteriors from image data\n",
    "\n",
    "- Using SWYFT core functions (i.e. look at swyft/core.py)\n",
    "- Demonstrates `head` network\n",
    "\n",
    "Author: Christoph Weniger and Benjamin Miller, August 2020"
   ]
  },
  {
   "cell_type": "code",
   "execution_count": 67,
   "metadata": {},
   "outputs": [
    {
     "name": "stdout",
     "output_type": "stream",
     "text": [
      "The autoreload extension is already loaded. To reload it, use:\n",
      "  %reload_ext autoreload\n"
     ]
    },
    {
     "data": {
      "text/plain": [
       "<torch._C.Generator at 0x7ffa4cc739d0>"
      ]
     },
     "execution_count": 67,
     "metadata": {},
     "output_type": "execute_result"
    }
   ],
   "source": [
    "import numpy as np\n",
    "import pylab as plt\n",
    "import swyft\n",
    "import torch\n",
    "from scipy import stats\n",
    "%load_ext autoreload\n",
    "%autoreload 2\n",
    "\n",
    "np.random.seed(25)\n",
    "torch.manual_seed(25)"
   ]
  },
  {
   "cell_type": "code",
   "execution_count": 68,
   "metadata": {},
   "outputs": [],
   "source": [
    "DEVICE = 'cuda:0'\n",
    "NDIM = 2 # number of parameters\n",
    "NBINS = 1000\n",
    "SIGMA = 0.01"
   ]
  },
  {
   "cell_type": "code",
   "execution_count": 69,
   "metadata": {},
   "outputs": [],
   "source": [
    "# A toy model with a diffuse and point source component\n",
    "\n",
    "def model(z, sigma = SIGMA, w = 0.4):\n",
    "    x = z + np.random.randn(2)*sigma + (np.random.rand(2)-0.5)*w\n",
    "    return x"
   ]
  },
  {
   "cell_type": "code",
   "execution_count": 70,
   "metadata": {},
   "outputs": [
    {
     "name": "stdout",
     "output_type": "stream",
     "text": [
      "[0.41381831 0.3846334 ]\n"
     ]
    }
   ],
   "source": [
    "z0 = np.array([0.5, 0.5])\n",
    "x0 = model(z0)\n",
    "print(x0)"
   ]
  },
  {
   "cell_type": "code",
   "execution_count": 71,
   "metadata": {},
   "outputs": [
    {
     "name": "stdout",
     "output_type": "stream",
     "text": [
      "Creating empty datastore: /home/ubuntu/volume1/z6\n",
      "...don't forget to run `init` to set up storage parameters.\n",
      "Datastore initialized.\n"
     ]
    }
   ],
   "source": [
    "ds = swyft.DataStoreZarr(\"/home/ubuntu/volume1/z6\")\n",
    "ds.init(zdim = 2, xdim = (2,))"
   ]
  },
  {
   "cell_type": "code",
   "execution_count": 72,
   "metadata": {},
   "outputs": [],
   "source": [
    "# Instantiate network\n",
    "sw = swyft.SWYFT(x0, model, zdim = 2, device = DEVICE, head = None, datastore = ds)"
   ]
  },
  {
   "cell_type": "code",
   "execution_count": 73,
   "metadata": {},
   "outputs": [
    {
     "name": "stdout",
     "output_type": "stream",
     "text": [
      "Adding 494 new samples. Run simulator!\n"
     ]
    }
   ],
   "source": [
    "sw.advance_train_history(nsamples = 500)"
   ]
  },
  {
   "cell_type": "code",
   "execution_count": 74,
   "metadata": {},
   "outputs": [],
   "source": [
    "if sw.requires_sim():\n",
    "    for i in ds.require_sim():\n",
    "        z = ds.z[i]\n",
    "        x = model(z)\n",
    "        ds.add_sim(i, x)"
   ]
  },
  {
   "cell_type": "code",
   "execution_count": 75,
   "metadata": {},
   "outputs": [],
   "source": [
    "sw.advance_net1d_history()"
   ]
  },
  {
   "cell_type": "code",
   "execution_count": 76,
   "metadata": {},
   "outputs": [
    {
     "name": "stdout",
     "output_type": "stream",
     "text": [
      "Start training\n",
      "LR iteration 0\n",
      "Total epochs: 4\n",
      "Validation losses: [4.5920820236206055, 3.984037160873413, 3.9361050128936768, 3.7202019691467285]\n",
      "LR iteration 1\n",
      "Total epochs: 4\n",
      "Validation losses: [3.6301403045654297, 3.624016284942627, 3.60726261138916, 3.5963053703308105]\n",
      "LR iteration 2\n",
      "Total epochs: 4\n",
      "Validation losses: [3.5991387367248535, 3.599167823791504, 3.5987942218780518, 3.5981805324554443]\n"
     ]
    }
   ],
   "source": [
    "sw.train1d(max_epochs = 4)"
   ]
  },
  {
   "cell_type": "code",
   "execution_count": 77,
   "metadata": {},
   "outputs": [],
   "source": [
    "sw.advance_post1d_history()"
   ]
  },
  {
   "cell_type": "code",
   "execution_count": 78,
   "metadata": {},
   "outputs": [
    {
     "name": "stdout",
     "output_type": "stream",
     "text": [
      "1 1 1\n"
     ]
    }
   ],
   "source": [
    "print(len(sw.train_history), len(sw.net1d_history), len(sw.post1d_history))"
   ]
  },
  {
   "cell_type": "code",
   "execution_count": 79,
   "metadata": {},
   "outputs": [
    {
     "data": {
      "image/png": "[encoded data removed]",
      "text/plain": [
       "<Figure size 1440x360 with 1 Axes>"
      ]
     },
     "metadata": {
      "needs_background": "light"
     },
     "output_type": "display_data"
    }
   ],
   "source": [
    "plt.figure(figsize=(20, 5))\n",
    "for i in range(2):\n",
    "    zgrid, lnLgrid = sw.posterior(i)\n",
    "    plt.axvline(z0[i])\n",
    "    plt.scatter(zgrid[:], np.exp(lnLgrid[:]))"
   ]
  },
  {
   "cell_type": "code",
   "execution_count": 58,
   "metadata": {},
   "outputs": [
    {
     "name": "stdout",
     "output_type": "stream",
     "text": [
      "LR Iter 2\r"
     ]
    },
    {
     "name": "stderr",
     "output_type": "stream",
     "text": [
      "100%|██████████| 469/469 [00:00<00:00, 642.21it/s]\n"
     ]
    }
   ],
   "source": [
    "sw.comb([[0, 1]], max_epochs = 5)"
   ]
  },
  {
   "cell_type": "code",
   "execution_count": 62,
   "metadata": {},
   "outputs": [
    {
     "name": "stdout",
     "output_type": "stream",
     "text": [
      "WARNING: Did not find requested parameter combination.\n"
     ]
    },
    {
     "ename": "TypeError",
     "evalue": "cannot unpack non-iterable NoneType object",
     "output_type": "error",
     "traceback": [
      "\u001b[0;31m---------------------------------------------------------------------------\u001b[0m",
      "\u001b[0;31mTypeError\u001b[0m                                 Traceback (most recent call last)",
      "\u001b[0;32m<ipython-input-62-6202edcd3851>\u001b[0m in \u001b[0;36m<module>\u001b[0;34m\u001b[0m\n\u001b[0;32m----> 1\u001b[0;31m \u001b[0mzgrid\u001b[0m\u001b[0;34m,\u001b[0m \u001b[0mlnLgrid\u001b[0m \u001b[0;34m=\u001b[0m \u001b[0msw\u001b[0m\u001b[0;34m.\u001b[0m\u001b[0mposterior\u001b[0m\u001b[0;34m(\u001b[0m\u001b[0;34m[\u001b[0m\u001b[0;36m0\u001b[0m\u001b[0;34m,\u001b[0m \u001b[0;36m1\u001b[0m\u001b[0;34m]\u001b[0m\u001b[0;34m)\u001b[0m\u001b[0;34m\u001b[0m\u001b[0;34m\u001b[0m\u001b[0m\n\u001b[0m\u001b[1;32m      2\u001b[0m \u001b[0mplt\u001b[0m\u001b[0;34m.\u001b[0m\u001b[0mscatter\u001b[0m\u001b[0;34m(\u001b[0m\u001b[0mzgrid\u001b[0m\u001b[0;34m[\u001b[0m\u001b[0;34m:\u001b[0m\u001b[0;34m,\u001b[0m\u001b[0;36m0\u001b[0m\u001b[0;34m]\u001b[0m\u001b[0;34m,\u001b[0m \u001b[0mzgrid\u001b[0m\u001b[0;34m[\u001b[0m\u001b[0;34m:\u001b[0m\u001b[0;34m,\u001b[0m\u001b[0;36m1\u001b[0m\u001b[0;34m]\u001b[0m\u001b[0;34m,\u001b[0m \u001b[0mmarker\u001b[0m\u001b[0;34m=\u001b[0m\u001b[0;34m'.'\u001b[0m\u001b[0;34m,\u001b[0m \u001b[0mcolor\u001b[0m\u001b[0;34m=\u001b[0m\u001b[0;34m'0.8'\u001b[0m\u001b[0;34m)\u001b[0m\u001b[0;34m\u001b[0m\u001b[0;34m\u001b[0m\u001b[0m\n\u001b[1;32m      3\u001b[0m \u001b[0mmax_lnL\u001b[0m \u001b[0;34m=\u001b[0m \u001b[0mlnLgrid\u001b[0m\u001b[0;34m[\u001b[0m\u001b[0;34m:\u001b[0m\u001b[0;34m]\u001b[0m\u001b[0;34m.\u001b[0m\u001b[0mmax\u001b[0m\u001b[0;34m(\u001b[0m\u001b[0;34m)\u001b[0m\u001b[0;34m\u001b[0m\u001b[0;34m\u001b[0m\u001b[0m\n\u001b[1;32m      4\u001b[0m \u001b[0mplt\u001b[0m\u001b[0;34m.\u001b[0m\u001b[0mtricontour\u001b[0m\u001b[0;34m(\u001b[0m\u001b[0mzgrid\u001b[0m\u001b[0;34m[\u001b[0m\u001b[0;34m:\u001b[0m\u001b[0;34m,\u001b[0m\u001b[0;36m0\u001b[0m\u001b[0;34m]\u001b[0m\u001b[0;34m,\u001b[0m \u001b[0mzgrid\u001b[0m\u001b[0;34m[\u001b[0m\u001b[0;34m:\u001b[0m\u001b[0;34m,\u001b[0m\u001b[0;36m1\u001b[0m\u001b[0;34m]\u001b[0m\u001b[0;34m,\u001b[0m \u001b[0;34m-\u001b[0m\u001b[0mlnLgrid\u001b[0m\u001b[0;34m+\u001b[0m\u001b[0mmax_lnL\u001b[0m\u001b[0;34m,\u001b[0m \u001b[0mlevels\u001b[0m \u001b[0;34m=\u001b[0m \u001b[0;34m[\u001b[0m\u001b[0;36m1\u001b[0m\u001b[0;34m,\u001b[0m \u001b[0;36m4\u001b[0m\u001b[0;34m,\u001b[0m \u001b[0;36m9\u001b[0m\u001b[0;34m]\u001b[0m\u001b[0;34m)\u001b[0m\u001b[0;34m\u001b[0m\u001b[0;34m\u001b[0m\u001b[0m\n\u001b[1;32m      5\u001b[0m \u001b[0mplt\u001b[0m\u001b[0;34m.\u001b[0m\u001b[0mxlim\u001b[0m\u001b[0;34m(\u001b[0m\u001b[0;34m[\u001b[0m\u001b[0;36m0\u001b[0m\u001b[0;34m,\u001b[0m \u001b[0;36m1\u001b[0m\u001b[0;34m]\u001b[0m\u001b[0;34m)\u001b[0m\u001b[0;34m\u001b[0m\u001b[0;34m\u001b[0m\u001b[0m\n",
      "\u001b[0;31mTypeError\u001b[0m: cannot unpack non-iterable NoneType object"
     ]
    }
   ],
   "source": [
    "zgrid, lnLgrid = sw.posterior([0, 1])\n",
    "plt.scatter(zgrid[:,0], zgrid[:,1], marker='.', color='0.8')\n",
    "max_lnL = lnLgrid[:].max()\n",
    "plt.tricontour(zgrid[:,0], zgrid[:,1], -lnLgrid+max_lnL, levels = [1, 4, 9])\n",
    "plt.xlim([0, 1])\n",
    "plt.ylim([0, 1])"
   ]
  },
  {
   "cell_type": "code",
   "execution_count": 165,
   "metadata": {},
   "outputs": [],
   "source": [
    "net = sw.net1d_history[-1]\n",
    "x0 = sw.x0.cuda()\n",
    "z = torch.linspace(0, 1, 10000).repeat(2, 1).T.unsqueeze(-1).cuda()\n",
    "lnL = swyft.get_lnL(net, x0, z).cpu().numpy()"
   ]
  },
  {
   "cell_type": "code",
   "execution_count": 166,
   "metadata": {},
   "outputs": [
    {
     "data": {
      "text/plain": [
       "[[0.21742174, 0.5822582]]"
      ]
     },
     "execution_count": 166,
     "metadata": {},
     "output_type": "execute_result"
    }
   ],
   "source": [
    "def get_intervals(x, y):\n",
    "    \"\"\"Get x intervals where y is above 0.\"\"\"\n",
    "    m = np.where(y > 0., 1., 0.)\n",
    "    m = m[1:] - m[:-1]\n",
    "    i0 = np.argwhere(m == 1.)[:,0]  # Upcrossings\n",
    "    i1 = np.argwhere(m == -1.)[:,0]  # Downcrossings\n",
    "    \n",
    "    # No crossings --> return entire interval\n",
    "    if len(i0) == 0 and len(i1) == 0:\n",
    "        return [[x[0], x[-1]]]\n",
    "    \n",
    "    # One more upcrossing than downcrossing\n",
    "    # --> Treat right end as downcrossing\n",
    "    if len(i0) - len(i1) == 1:\n",
    "        i1 = np.append(i1, -1)\n",
    "  \n",
    "    # One more downcrossing than upcrossing\n",
    "    # --> Treat left end as upcrossing\n",
    "    if len(i0) - len(i1) == -1:\n",
    "        i0 = np.append(0, i0)\n",
    "      \n",
    "    intervals = []\n",
    "    for i in range(len(i0)):\n",
    "        intervals.append([x[i0[i]], x[i1[i]]])\n",
    "    \n",
    "    return intervals\n",
    "    \n",
    "get_intervals(z[:,0, 0].cpu().numpy(), lnL[:,0])"
   ]
  }
 ],
 "metadata": {
  "kernelspec": {
   "display_name": "Python 3",
   "language": "python",
   "name": "python3"
  },
  "language_info": {
   "codemirror_mode": {
    "name": "ipython",
    "version": 3
   },
   "file_extension": ".py",
   "mimetype": "text/x-python",
   "name": "python",
   "nbconvert_exporter": "python",
   "pygments_lexer": "ipython3",
   "version": "3.7.7"
  }
 },
 "nbformat": 4,
 "nbformat_minor": 4
}
