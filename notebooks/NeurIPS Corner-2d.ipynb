{
 "cells": [
  {
   "cell_type": "code",
   "execution_count": 3,
   "metadata": {},
   "outputs": [],
   "source": [
    "import numpy as np\n",
    "import pylab as plt\n",
    "import swyft\n",
    "import torch\n",
    "from scipy import stats\n",
    "%load_ext autoreload\n",
    "%autoreload 2"
   ]
  },
  {
   "cell_type": "code",
   "execution_count": 4,
   "metadata": {},
   "outputs": [],
   "source": [
    "DEVICE = 'cuda:0'"
   ]
  },
  {
   "cell_type": "markdown",
   "metadata": {},
   "source": [
    "## Torus model"
   ]
  },
  {
   "cell_type": "code",
   "execution_count": 16,
   "metadata": {},
   "outputs": [],
   "source": [
    "def model(params, center = np.array([0.6, 0.8])):\n",
    "    a, b, c = params['a'], params['b'], params['c']\n",
    "    r = ((a-center[0])**2+(b-center[1])**2)**0.5  # Return radial distance from center\n",
    "    x = np.array([a, r, c])\n",
    "    return dict(x=x)\n",
    "\n",
    "def noise(obs, params, noise = np.array([0.03, 0.005, 0.2])):\n",
    "    x = obs['x']\n",
    "    n = np.random.randn(*x.shape)*noise\n",
    "    return dict(x = x + n)\n",
    "\n",
    "par0 = dict(a=0.57, b=0.8, c=1.0)\n",
    "obs0 = model(par0)  # Using Asimov data"
   ]
  },
  {
   "cell_type": "code",
   "execution_count": 17,
   "metadata": {},
   "outputs": [],
   "source": [
    "prior = swyft.Prior({\"a\": [\"uniform\", 0., 1.], \"b\": [\"uniform\",  0., 1.], \"c\": [\"uniform\", 0., 1.]})"
   ]
  },
  {
   "cell_type": "code",
   "execution_count": 36,
   "metadata": {},
   "outputs": [
    {
     "name": "stderr",
     "output_type": "stream",
     "text": [
      "Simulate:  22%|██▏       | 64/296 [00:00<00:00, 634.00it/s]"
     ]
    },
    {
     "name": "stdout",
     "output_type": "stream",
     "text": [
      "Creating new cache.\n",
      "Adding 296 new samples. Run simulator!\n"
     ]
    },
    {
     "name": "stderr",
     "output_type": "stream",
     "text": [
      "Simulate: 100%|██████████| 296/296 [00:00<00:00, 629.50it/s]\n"
     ]
    },
    {
     "name": "stdout",
     "output_type": "stream",
     "text": [
      "n_features = 3\n",
      "Start training\n",
      "LR iteration 0\n",
      "Validation loss: 0.0\n",
      "Validation loss: 0.0\n",
      "Total epochs: 2\n",
      "LR iteration 1\n",
      "Validation loss: 0.0\n",
      "Validation loss: 0.0\n",
      "Total epochs: 2\n",
      "LR iteration 2\n",
      "Validation loss: 0.0\n",
      "Validation loss: 0.0\n",
      "Total epochs: 2\n"
     ]
    }
   ],
   "source": [
    "cache = swyft.MemoryCache.from_simulator(model, prior)\n",
    "posterior = swyft.amortize(model, prior, cache, noise = noise, N = 300)"
   ]
  },
  {
   "cell_type": "markdown",
   "metadata": {},
   "source": [
    "## Inference"
   ]
  },
  {
   "cell_type": "code",
   "execution_count": 37,
   "metadata": {},
   "outputs": [
    {
     "name": "stdout",
     "output_type": "stream",
     "text": [
      "Creating new cache.\n"
     ]
    }
   ],
   "source": [
    "s = swyft.SWYFT(model, prior, noise = noise, obs = obs0, device = DEVICE)"
   ]
  },
  {
   "cell_type": "code",
   "execution_count": 40,
   "metadata": {},
   "outputs": [
    {
     "name": "stderr",
     "output_type": "stream",
     "text": [
      "Simulate:   0%|          | 0/1939 [00:00<?, ?it/s]"
     ]
    },
    {
     "name": "stdout",
     "output_type": "stream",
     "text": [
      "N = 300\n",
      "Adding 1939 new samples. Run simulator!\n"
     ]
    },
    {
     "name": "stderr",
     "output_type": "stream",
     "text": [
      "Simulate: 100%|██████████| 1939/1939 [00:02<00:00, 783.61it/s]\n"
     ]
    },
    {
     "name": "stdout",
     "output_type": "stream",
     "text": [
      "n_features = 3\n",
      "Start training\n",
      "LR iteration 0\n",
      "Validation loss: 3.2842125627729626\n",
      "Validation loss: 3.2587495379977756\n",
      "Validation loss: 3.1152200963762073\n",
      "Validation loss: 3.196405039893256\n",
      "Total epochs: 4\n",
      "LR iteration 1\n",
      "Validation loss: 3.1401646402147083\n",
      "Validation loss: 3.1272286309136286\n",
      "Validation loss: 3.0902068085140653\n",
      "Validation loss: 3.0100533167521157\n",
      "Validation loss: 3.047556506262885\n",
      "Total epochs: 5\n",
      "LR iteration 2\n",
      "Validation loss: 2.968872759077284\n",
      "Validation loss: 3.0888656510247126\n",
      "Total epochs: 2\n",
      "Volume shrinkage: 0.553974994473567\n",
      "N = 383\n",
      "No new simulator runs required.\n",
      "No simulations required.\n",
      "n_features = 3\n",
      "Start training\n",
      "LR iteration 0\n",
      "Validation loss: 3.4005036883884006\n",
      "Validation loss: 3.3326423168182373\n",
      "Validation loss: 3.279906908671061\n",
      "Validation loss: 3.2678186098734536\n",
      "Validation loss: 3.194376760058933\n",
      "Validation loss: 3.1967846287621393\n",
      "Total epochs: 6\n",
      "LR iteration 1\n",
      "Validation loss: 3.1911941369374595\n",
      "Validation loss: 3.1488317913479276\n",
      "Validation loss: 3.067137506273058\n",
      "Validation loss: 3.2040288713243275\n",
      "Total epochs: 4\n",
      "LR iteration 2\n",
      "Validation loss: 3.1263752248552112\n",
      "Validation loss: 3.153814686669244\n",
      "Total epochs: 2\n",
      "Volume shrinkage: 0.43613064059885626\n"
     ]
    }
   ],
   "source": [
    "s.focus(Ninit = 300, max_rounds=2)"
   ]
  },
  {
   "cell_type": "code",
   "execution_count": 7,
   "metadata": {},
   "outputs": [
    {
     "name": "stdout",
     "output_type": "stream",
     "text": [
      "N = 20000\n",
      "Round: 8\n",
      "Adding 6832 new samples. Run simulator!\n"
     ]
    },
    {
     "name": "stderr",
     "output_type": "stream",
     "text": [
      "Simulate: 100%|██████████| 6832/6832 [00:08<00:00, 776.98it/s]\n"
     ]
    },
    {
     "name": "stdout",
     "output_type": "stream",
     "text": [
      "n_features = 3\n",
      "Start training\n",
      "LR iteration 0\n",
      "Validation loss: 5.830409311479138\n",
      "Validation loss: 5.817557819427982\n",
      "Validation loss: 5.748897160253217\n",
      "Validation loss: 5.700253140541815\n",
      "Validation loss: 5.7414001803244314\n",
      "Total epochs: 5\n",
      "LR iteration 1\n",
      "Validation loss: 5.566216991793725\n",
      "Validation loss: 5.692911624908447\n",
      "Total epochs: 2\n",
      "LR iteration 2\n",
      "Validation loss: 5.61087074587422\n",
      "Validation loss: 5.544128752523853\n",
      "Validation loss: 5.5616587977255545\n",
      "Total epochs: 3\n"
     ]
    }
   ],
   "source": [
    "s.posterior1d(N = 20000)"
   ]
  },
  {
   "cell_type": "code",
   "execution_count": 1,
   "metadata": {},
   "outputs": [
    {
     "ename": "NameError",
     "evalue": "name 's' is not defined",
     "output_type": "error",
     "traceback": [
      "\u001b[0;31m---------------------------------------------------------------------------\u001b[0m",
      "\u001b[0;31mNameError\u001b[0m                                 Traceback (most recent call last)",
      "\u001b[0;32m<ipython-input-1-2a4c20e916df>\u001b[0m in \u001b[0;36m<module>\u001b[0;34m\u001b[0m\n\u001b[0;32m----> 1\u001b[0;31m \u001b[0mpost\u001b[0m \u001b[0;34m=\u001b[0m \u001b[0ms\u001b[0m\u001b[0;34m.\u001b[0m\u001b[0mposteriors\u001b[0m\u001b[0;34m(\u001b[0m\u001b[0mn_samples\u001b[0m \u001b[0;34m=\u001b[0m \u001b[0;36m10000000\u001b[0m\u001b[0;34m)\u001b[0m\u001b[0;34m\u001b[0m\u001b[0;34m\u001b[0m\u001b[0m\n\u001b[0m\u001b[1;32m      2\u001b[0m \u001b[0mswyft\u001b[0m\u001b[0;34m.\u001b[0m\u001b[0mcorner\u001b[0m\u001b[0;34m(\u001b[0m\u001b[0mpost\u001b[0m\u001b[0;34m,\u001b[0m \u001b[0;34m[\u001b[0m\u001b[0;34m\"a\"\u001b[0m\u001b[0;34m,\u001b[0m \u001b[0;34m\"b\"\u001b[0m\u001b[0;34m,\u001b[0m \u001b[0;34m\"c\"\u001b[0m\u001b[0;34m]\u001b[0m\u001b[0;34m,\u001b[0m \u001b[0mcolor\u001b[0m\u001b[0;34m=\u001b[0m\u001b[0;34m'r'\u001b[0m\u001b[0;34m,\u001b[0m \u001b[0mfigsize\u001b[0m \u001b[0;34m=\u001b[0m \u001b[0;34m(\u001b[0m\u001b[0;36m15\u001b[0m\u001b[0;34m,\u001b[0m\u001b[0;36m15\u001b[0m\u001b[0;34m)\u001b[0m\u001b[0;34m,\u001b[0m \u001b[0mtruth\u001b[0m\u001b[0;34m=\u001b[0m\u001b[0mpar0\u001b[0m\u001b[0;34m)\u001b[0m\u001b[0;34m\u001b[0m\u001b[0;34m\u001b[0m\u001b[0m\n",
      "\u001b[0;31mNameError\u001b[0m: name 's' is not defined"
     ]
    }
   ],
   "source": [
    "post = s.posteriors(n_samples = 10000000)\n",
    "swyft.corner(post, [\"a\", \"b\", \"c\"], color='r', figsize = (15,15), truth=par0)"
   ]
  },
  {
   "cell_type": "code",
   "execution_count": null,
   "metadata": {},
   "outputs": [],
   "source": []
  }
 ],
 "metadata": {
  "kernelspec": {
   "display_name": "Python 3",
   "language": "python",
   "name": "python3"
  },
  "language_info": {
   "codemirror_mode": {
    "name": "ipython",
    "version": 3
   },
   "file_extension": ".py",
   "mimetype": "text/x-python",
   "name": "python",
   "nbconvert_exporter": "python",
   "pygments_lexer": "ipython3",
   "version": "3.7.3"
  }
 },
 "nbformat": 4,
 "nbformat_minor": 4
}
