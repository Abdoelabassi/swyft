{
 "cells": [
  {
   "cell_type": "markdown",
   "metadata": {},
   "source": [
    "# Resampling with SWYFT - a proof of concept"
   ]
  },
  {
   "cell_type": "code",
   "execution_count": 1,
   "metadata": {},
   "outputs": [],
   "source": [
    "import numpy as np\n",
    "from scipy import stats, random\n",
    "import pylab as plt"
   ]
  },
  {
   "cell_type": "code",
   "execution_count": 4,
   "metadata": {},
   "outputs": [],
   "source": [
    "# Datastore with N samples from normal distribution\n",
    "\n",
    "class DataStore:\n",
    "    def __init__(self, x, z, u):\n",
    "        assert len(x) == len(z)\n",
    "        self.z = z # samples\n",
    "        self.x = x # samples\n",
    "        self.N = len(z)  # number of samples\n",
    "        self.u = u  # intensity function\n",
    "    \n",
    "    def extract(self, p):\n",
    "        # Extract samples\n",
    "        \n",
    "    def update("
   ]
  },
  {
   "cell_type": "code",
   "execution_count": 46,
   "metadata": {},
   "outputs": [],
   "source": [
    "# Create datastore with points drawn from constrained distribution\n",
    "\n",
    "N = 10000     \n",
    "sigma = .3\n",
    "z = random.randn(N)*sigma + 0.5\n",
    "z = z[z > 0.]\n",
    "z = z[z < 1.]\n",
    "u = lambda z: stats.norm.pdf(z, 0.5, sigma)\n",
    "datastore = DataStore(z, u, u(0.5))"
   ]
  },
  {
   "cell_type": "code",
   "execution_count": 47,
   "metadata": {},
   "outputs": [
    {
     "data": {
      "image/png": "[encoded data removed]",
      "text/plain": [
       "<Figure size 432x288 with 1 Axes>"
      ]
     },
     "metadata": {
      "needs_background": "light"
     },
     "output_type": "display_data"
    }
   ],
   "source": [
    "plt.hist(z, bins = 100);"
   ]
  },
  {
   "cell_type": "code",
   "execution_count": 342,
   "metadata": {},
   "outputs": [],
   "source": [
    "class Sampler:\n",
    "    def __init__(self, datastore, epsilon):\n",
    "        self.epsilon = epsilon\n",
    "        self.datastore = datastore\n",
    "        self.available = np.ones(datastore.N, dtype = 'bool')\n",
    "        self.ui = self.datastore.u(self.datastore.z)\n",
    "    \n",
    "    def __call__(self):\n",
    "        zp = self._sample_prior()  # get proposal\n",
    "        up = self.datastore.u(zp)\n",
    "        umax = self.datastore.umax\n",
    "        p, u0, u1 = self._get_partition(up, umax, self.epsilon)\n",
    "        w = random.rand(1)[0]\n",
    "        mask_p = (self.ui <= u1) & (self.ui > u0)\n",
    "        avail_p = (mask_p & self.available).sum()\n",
    "        if w > up/u1 or avail_p == 0:\n",
    "            return zp\n",
    "        else:\n",
    "            i = list(mask_p & self.available).index(True)\n",
    "            z = self.datastore.z[i]\n",
    "            self.available[i] = False\n",
    "            return z\n",
    "    \n",
    "    @staticmethod\n",
    "    def _sample_prior():\n",
    "        return random.rand(1)[0]\n",
    "    \n",
    "    def _pull(self, z):\n",
    "        pass\n",
    "    \n",
    "    @staticmethod\n",
    "    def _get_partition(up, umax, epsilon):\n",
    "        \"\"\"up is between epsilon^p < up/umax < epsilon^(p-1)\n",
    "        \n",
    "        returns:\n",
    "            partition number p\n",
    "            low bound\n",
    "            up bound\n",
    "        \"\"\"\n",
    "        p = np.floor(np.log(up/umax)/np.log(epsilon))+1\n",
    "        p = int(p)\n",
    "        return p, epsilon**p*umax, epsilon**(p-1)*umax\n",
    "        "
   ]
  },
  {
   "cell_type": "code",
   "execution_count": 343,
   "metadata": {},
   "outputs": [
    {
     "name": "stdout",
     "output_type": "stream",
     "text": [
      "9050\n"
     ]
    }
   ],
   "source": [
    "sampler = Sampler(datastore, 0.99)\n",
    "print(sampler.available.sum())"
   ]
  },
  {
   "cell_type": "code",
   "execution_count": 344,
   "metadata": {},
   "outputs": [
    {
     "name": "stdout",
     "output_type": "stream",
     "text": [
      "997\n"
     ]
    }
   ],
   "source": [
    "z = [sampler() for i in range(10000)]\n",
    "print(sampler.available.sum())"
   ]
  },
  {
   "cell_type": "code",
   "execution_count": 345,
   "metadata": {},
   "outputs": [
    {
     "data": {
      "image/png": "[encoded data removed]",
      "text/plain": [
       "<Figure size 432x288 with 1 Axes>"
      ]
     },
     "metadata": {
      "needs_background": "light"
     },
     "output_type": "display_data"
    }
   ],
   "source": [
    "plt.hist(z, bins = 10);"
   ]
  },
  {
   "cell_type": "code",
   "execution_count": null,
   "metadata": {},
   "outputs": [],
   "source": []
  }
 ],
 "metadata": {
  "kernelspec": {
   "display_name": "Python 3",
   "language": "python",
   "name": "python3"
  },
  "language_info": {
   "codemirror_mode": {
    "name": "ipython",
    "version": 3
   },
   "file_extension": ".py",
   "mimetype": "text/x-python",
   "name": "python",
   "nbconvert_exporter": "python",
   "pygments_lexer": "ipython3",
   "version": "3.7.7"
  }
 },
 "nbformat": 4,
 "nbformat_minor": 4
}
