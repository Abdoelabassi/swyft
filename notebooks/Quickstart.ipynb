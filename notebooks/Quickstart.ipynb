{
 "cells": [
  {
   "cell_type": "code",
   "execution_count": 1,
   "metadata": {},
   "outputs": [],
   "source": [
    "%load_ext autoreload\n",
    "%autoreload 2"
   ]
  },
  {
   "cell_type": "code",
   "execution_count": 2,
   "metadata": {},
   "outputs": [],
   "source": [
    "# DON'T FORGET TO ACTIVATE THE GPU when on google colab (Edit > Notebook settings)\n",
    "from os import environ\n",
    "GOOGLE_COLAB = True if \"COLAB_GPU\" in environ else False\n",
    "if GOOGLE_COLAB:\n",
    "    !pip install git+https://github.com/undark-lab/swyft.git"
   ]
  },
  {
   "cell_type": "code",
   "execution_count": 3,
   "metadata": {},
   "outputs": [],
   "source": [
    "import numpy as np\n",
    "import pylab as plt\n",
    "import swyft\n",
    "\n",
    "from swyft.inference.marginalratioestimator import MarginalRatioEstimator\n",
    "from swyft.networks.classifier import get_marginal_classifier"
   ]
  },
  {
   "cell_type": "markdown",
   "metadata": {},
   "source": [
    "# Setup the forward model"
   ]
  },
  {
   "cell_type": "code",
   "execution_count": 4,
   "metadata": {},
   "outputs": [
    {
     "name": "stderr",
     "output_type": "stream",
     "text": [
      "/home/ben/sci/swyft/env/lib/python3.8/site-packages/torch/cuda/__init__.py:52: UserWarning: CUDA initialization: Unexpected error from cudaGetDeviceCount(). Did you run some cuda functions before calling NumCudaDevices() that might have already set an error? Error 804: forward compatibility was attempted on non supported HW (Triggered internally at  /opt/conda/conda-bld/pytorch_1631630839582/work/c10/cuda/CUDAFunctions.cpp:115.)\n",
      "  return torch._C._cuda_getDeviceCount() > 0\n"
     ]
    }
   ],
   "source": [
    "device = 'cuda' if swyft.utils.is_cuda_available() else \"cpu\"\n",
    "n_training_samples = 3000\n",
    "n_parameters = 2\n",
    "marginal_indices_1d, marginal_indices_2d = swyft.utils.get_corner_marginal_indices(n_parameters)\n",
    "observation_key = \"x\""
   ]
  },
  {
   "cell_type": "code",
   "execution_count": 5,
   "metadata": {},
   "outputs": [],
   "source": [
    "def model(v, sigma = 0.2):\n",
    "    x = v + np.random.randn(n_parameters) * sigma\n",
    "    return {observation_key: x}\n",
    "\n",
    "v_o = np.zeros(n_parameters)\n",
    "observation_o = model(v_o, sigma = 0.)\n",
    "\n",
    "n_observation_features = observation_o[observation_key].shape[0]\n",
    "observation_shapes = {key: value.shape for key, value in observation_o.items()}"
   ]
  },
  {
   "cell_type": "code",
   "execution_count": 6,
   "metadata": {},
   "outputs": [],
   "source": [
    "simulator = swyft.Simulator(\n",
    "    model, \n",
    "    n_parameters, \n",
    "    sim_shapes={observation_key: (n_parameters,)}\n",
    ")"
   ]
  },
  {
   "cell_type": "markdown",
   "metadata": {},
   "source": [
    "# Setup the prior and storage"
   ]
  },
  {
   "cell_type": "code",
   "execution_count": 7,
   "metadata": {},
   "outputs": [
    {
     "name": "stdout",
     "output_type": "stream",
     "text": [
      "Creating new store.\n"
     ]
    }
   ],
   "source": [
    "store = swyft.Store.memory_store(simulator)"
   ]
  },
  {
   "cell_type": "code",
   "execution_count": 8,
   "metadata": {},
   "outputs": [
    {
     "name": "stdout",
     "output_type": "stream",
     "text": [
      "Store: Adding 3058 new samples to simulator store.\n"
     ]
    }
   ],
   "source": [
    "low = -1 * np.ones(n_parameters)\n",
    "high = 1 * np.ones(n_parameters)\n",
    "prior = swyft.get_uniform_prior(low, high)\n",
    "store.add(n_training_samples, prior)\n",
    "store.simulate()"
   ]
  },
  {
   "cell_type": "code",
   "execution_count": 9,
   "metadata": {},
   "outputs": [],
   "source": [
    "dataset = swyft.Dataset(n_training_samples, prior, store)"
   ]
  },
  {
   "cell_type": "markdown",
   "metadata": {},
   "source": [
    "# Train a 1d marginal estimator"
   ]
  },
  {
   "cell_type": "code",
   "execution_count": 10,
   "metadata": {},
   "outputs": [],
   "source": [
    "network_1d = get_marginal_classifier(\n",
    "    observation_key=observation_key,\n",
    "    marginal_indices=marginal_indices_1d,\n",
    "    observation_shapes=observation_shapes,\n",
    "    n_parameters=n_parameters,\n",
    "    hidden_features=32,\n",
    "    num_blocks=2,\n",
    ")\n",
    "\n",
    "mre_1d = MarginalRatioEstimator(\n",
    "    marginal_indices=marginal_indices_1d,\n",
    "    network=network_1d,\n",
    "    device=device,\n",
    ")"
   ]
  },
  {
   "cell_type": "code",
   "execution_count": 11,
   "metadata": {},
   "outputs": [
    {
     "name": "stdout",
     "output_type": "stream",
     "text": [
      "training: lr=5e-07, epoch=25, validation loss=1.6392"
     ]
    }
   ],
   "source": [
    "mre_1d.train(dataset)"
   ]
  },
  {
   "cell_type": "code",
   "execution_count": 18,
   "metadata": {},
   "outputs": [],
   "source": [
    "n_rejection_samples = 5_000\n",
    "\n",
    "posterior_1d = swyft.MarginalPosterior(mre_1d, prior)\n",
    "samples_1d = posterior_1d.sample(n_rejection_samples, observation_o)"
   ]
  },
  {
   "cell_type": "code",
   "execution_count": 24,
   "metadata": {},
   "outputs": [
    {
     "data": {
      "text/plain": [
       "<AxesSubplot:xlabel='Marginal', ylabel='Parameter'>"
      ]
     },
     "execution_count": 24,
     "metadata": {},
     "output_type": "execute_result"
    },
    {
     "data": {
      "image/png": "[encoded data removed]",
      "text/plain": [
       "<Figure size 432x288 with 1 Axes>"
      ]
     },
     "metadata": {},
     "output_type": "display_data"
    }
   ],
   "source": [
    "swyft.plot.violin_plot(samples_1d, \"one\", \"one\")"
   ]
  },
  {
   "cell_type": "markdown",
   "metadata": {},
   "source": [
    "# Train a 2d marginal estimator"
   ]
  },
  {
   "cell_type": "code",
   "execution_count": 12,
   "metadata": {},
   "outputs": [],
   "source": [
    "network_2d = get_marginal_classifier(\n",
    "    observation_key=observation_key,\n",
    "    marginal_indices=marginal_indices_2d,\n",
    "    observation_shapes=observation_shapes,\n",
    "    n_parameters=n_parameters,\n",
    "    hidden_features=32,\n",
    "    num_blocks=2,\n",
    ")\n",
    "\n",
    "mre_2d = MarginalRatioEstimator(\n",
    "    marginal_indices=marginal_indices_2d,\n",
    "    network=network_2d,\n",
    "    device=device,\n",
    ")"
   ]
  },
  {
   "cell_type": "code",
   "execution_count": 13,
   "metadata": {},
   "outputs": [
    {
     "name": "stdout",
     "output_type": "stream",
     "text": [
      "training: lr=5e-07, epoch=25, validation loss=0.40784"
     ]
    }
   ],
   "source": [
    "mre_2d.train(dataset)"
   ]
  },
  {
   "cell_type": "markdown",
   "metadata": {},
   "source": [
    "# Combine the two to create a corner plot"
   ]
  },
  {
   "cell_type": "code",
   "execution_count": 14,
   "metadata": {},
   "outputs": [],
   "source": [
    "n_weighted_samples = 10_000\n",
    "\n",
    "posterior_1d = swyft.MarginalPosterior(mre_1d, prior)\n",
    "weighted_samples_1d = posterior_1d.weighted_sample(n_weighted_samples, observation_o)\n",
    "\n",
    "posterior_2d = swyft.MarginalPosterior(mre_2d, prior)\n",
    "weighted_samples_2d = posterior_2d.weighted_sample(n_weighted_samples, observation_o)"
   ]
  },
  {
   "cell_type": "code",
   "execution_count": 15,
   "metadata": {},
   "outputs": [
    {
     "name": "stderr",
     "output_type": "stream",
     "text": [
      "1it [00:04,  4.05s/it]\n"
     ]
    },
    {
     "data": {
      "text/plain": [
       "(<Figure size 432x288 with 4 Axes>,\n",
       " array([[<AxesSubplot:>, <AxesSubplot:>],\n",
       "        [<AxesSubplot:>, <AxesSubplot:>]], dtype=object))"
      ]
     },
     "execution_count": 15,
     "metadata": {},
     "output_type": "execute_result"
    },
    {
     "data": {
      "image/png": "[encoded data removed]",
      "text/plain": [
       "<Figure size 432x288 with 4 Axes>"
      ]
     },
     "metadata": {
      "needs_background": "light"
     },
     "output_type": "display_data"
    }
   ],
   "source": [
    "_, _ = swyft.plot.corner(\n",
    "    weighted_samples_1d.get_df_dict(), \n",
    "    weighted_samples_2d.get_df_dict(),\n",
    "    kde=True\n",
    ")"
   ]
  },
  {
   "cell_type": "markdown",
   "metadata": {},
   "source": [
    "# Test the expected coverage probability"
   ]
  },
  {
   "cell_type": "code",
   "execution_count": 16,
   "metadata": {},
   "outputs": [],
   "source": [
    "n_observations = 200\n",
    "n_posterior_samples = 5_000\n",
    "\n",
    "empirical_mass_1d, _ = posterior_1d.empirical_mass(n_observations, n_posterior_samples, dataset)\n",
    "empirical_mass_2d, _ = posterior_2d.empirical_mass(n_observations, n_posterior_samples, dataset)"
   ]
  },
  {
   "cell_type": "code",
   "execution_count": 17,
   "metadata": {},
   "outputs": [
    {
     "data": {
      "image/png": "[encoded data removed]",
      "text/plain": [
       "<Figure size 432x288 with 4 Axes>"
      ]
     },
     "metadata": {
      "needs_background": "light"
     },
     "output_type": "display_data"
    }
   ],
   "source": [
    "_, _ = swyft.plot.mass.plot_empirical_z_score_corner(empirical_mass_1d, empirical_mass_2d)"
   ]
  }
 ],
 "metadata": {
  "kernelspec": {
   "display_name": "Python 3 (ipykernel)",
   "language": "python",
   "name": "python3"
  },
  "language_info": {
   "codemirror_mode": {
    "name": "ipython",
    "version": 3
   },
   "file_extension": ".py",
   "mimetype": "text/x-python",
   "name": "python",
   "nbconvert_exporter": "python",
   "pygments_lexer": "ipython3",
   "version": "3.8.11"
  }
 },
 "nbformat": 4,
 "nbformat_minor": 4
}
