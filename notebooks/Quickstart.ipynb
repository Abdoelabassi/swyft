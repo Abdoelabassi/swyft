{
 "cells": [
  {
   "cell_type": "code",
   "execution_count": 1,
   "metadata": {},
   "outputs": [],
   "source": [
    "# DON'T FORGET TO ACTIVATE THE GPU when on google colab (Edit > Notebook settings)\n",
    "\n",
    "from os import environ\n",
    "GOOGLE_COLAB = True if \"COLAB_GPU\" in environ else False\n",
    "if GOOGLE_COLAB:\n",
    "    !pip install swyft"
   ]
  },
  {
   "cell_type": "code",
   "execution_count": 2,
   "metadata": {},
   "outputs": [
    {
     "data": {
      "text/plain": [
       "<torch._C.Generator at 0x14e2dd5c0738>"
      ]
     },
     "execution_count": 2,
     "metadata": {},
     "output_type": "execute_result"
    }
   ],
   "source": [
    "import numpy as np\n",
    "import pylab as plt\n",
    "import swyft\n",
    "import torch\n",
    "from scipy import stats\n",
    "%load_ext autoreload\n",
    "%autoreload 2\n",
    "\n",
    "np.random.seed(27)\n",
    "torch.manual_seed(27)"
   ]
  },
  {
   "cell_type": "code",
   "execution_count": 4,
   "metadata": {},
   "outputs": [],
   "source": [
    "#DEVICE = swyft.set_device(gpu=True)\n",
    "DEVICE = 'cuda'"
   ]
  },
  {
   "cell_type": "code",
   "execution_count": 6,
   "metadata": {},
   "outputs": [],
   "source": [
    "def model(params):\n",
    "    a = params['a']\n",
    "    b = params['b']\n",
    "    x=np.array([a,2*(b-a)])\n",
    "    return dict(x=x)\n",
    "\n",
    "def noise(obs, params, noise = 0.01):\n",
    "    x = obs['x']\n",
    "    n = np.random.randn(*x.shape)*noise\n",
    "    return dict(x=x + n)\n",
    "\n",
    "par0 = dict(a=0.55, b=0.45)\n",
    "obs0 = model(par0)"
   ]
  },
  {
   "cell_type": "code",
   "execution_count": 7,
   "metadata": {},
   "outputs": [
    {
     "name": "stdout",
     "output_type": "stream",
     "text": [
      "Creating new cache.\n"
     ]
    }
   ],
   "source": [
    "cache = swyft.MemoryCache(params = [\"a\", \"b\"], obs_shapes = {\"x\": (2,)})"
   ]
  },
  {
   "cell_type": "code",
   "execution_count": 8,
   "metadata": {
    "scrolled": true
   },
   "outputs": [],
   "source": [
    "prior = swyft.Prior({\"a\": [\"uniform\", 0., 1.], \"b\": [\"uniform\",  0., 1.]})"
   ]
  },
  {
   "cell_type": "code",
   "execution_count": null,
   "metadata": {},
   "outputs": [
    {
     "name": "stderr",
     "output_type": "stream",
     "text": [
      "Simulate:   8%|▊         | 38/495 [00:00<00:01, 379.69it/s]"
     ]
    },
    {
     "name": "stdout",
     "output_type": "stream",
     "text": [
      "N = 500\n",
      "Round: 1\n",
      "Adding 495 new samples. Run simulator!\n"
     ]
    },
    {
     "name": "stderr",
     "output_type": "stream",
     "text": [
      "Simulate: 100%|██████████| 495/495 [00:01<00:00, 386.27it/s]\n"
     ]
    },
    {
     "name": "stdout",
     "output_type": "stream",
     "text": [
      "n_features = 2\n",
      "Start training\n",
      "LR iteration 0\n",
      "Validation loss: 2.7580266197522483\n",
      "Validation loss: 1.9654800395170848\n",
      "Validation loss: 1.566274379690488\n",
      "Validation loss: 1.3233900517225266\n",
      "Validation loss: 1.2979619776209195\n",
      "Validation loss: 1.257373869419098\n",
      "Validation loss: 1.271568976342678\n",
      "Total epochs: 7\n",
      "LR iteration 1\n",
      "Validation loss: 1.2275660745799541\n",
      "Validation loss: 1.2171886215607326\n",
      "Validation loss: 1.1910312610367935\n",
      "Validation loss: 1.1893476744492848\n",
      "Validation loss: 1.1785331641634305\n",
      "Validation loss: 1.187134472032388\n",
      "Total epochs: 6\n"
     ]
    },
    {
     "name": "stderr",
     "output_type": "stream",
     "text": [
      "Simulate:   0%|          | 0/310 [00:00<?, ?it/s]"
     ]
    },
    {
     "name": "stdout",
     "output_type": "stream",
     "text": [
      "Volume shrinkage: 0.7983673323601455\n",
      "N = 699\n",
      "Round: 2\n",
      "Adding 310 new samples. Run simulator!\n"
     ]
    },
    {
     "name": "stderr",
     "output_type": "stream",
     "text": [
      "Simulate: 100%|██████████| 310/310 [00:00<00:00, 471.65it/s]\n"
     ]
    },
    {
     "name": "stdout",
     "output_type": "stream",
     "text": [
      "n_features = 2\n",
      "Start training\n",
      "LR iteration 0\n",
      "Validation loss: 2.553371653837316\n",
      "Validation loss: 1.582759439945221\n",
      "Validation loss: 1.3421010059468887\n",
      "Validation loss: 1.2301278289626627\n",
      "Validation loss: 1.1851788864416235\n",
      "Validation loss: 1.1708583919440998\n",
      "Validation loss: 1.0736873360241161\n",
      "Validation loss: 1.1060916606117697\n",
      "Total epochs: 8\n",
      "LR iteration 1\n",
      "Validation loss: 1.1394046404782463\n",
      "Validation loss: 1.147756814956665\n",
      "Total epochs: 2\n"
     ]
    },
    {
     "name": "stderr",
     "output_type": "stream",
     "text": [
      "Simulate:   0%|          | 0/468 [00:00<?, ?it/s]"
     ]
    },
    {
     "name": "stdout",
     "output_type": "stream",
     "text": [
      "Volume shrinkage: 0.6993966284635331\n",
      "N = 943\n",
      "Round: 3\n",
      "Adding 468 new samples. Run simulator!\n"
     ]
    },
    {
     "name": "stderr",
     "output_type": "stream",
     "text": [
      "Simulate: 100%|██████████| 468/468 [00:00<00:00, 555.98it/s]\n"
     ]
    },
    {
     "name": "stdout",
     "output_type": "stream",
     "text": [
      "n_features = 2\n",
      "Start training\n",
      "LR iteration 0\n",
      "Validation loss: 2.2422012919965\n",
      "Validation loss: 1.3244270837825278\n",
      "Validation loss: 1.0769944748152858\n",
      "Validation loss: 1.0425537358159604\n",
      "Validation loss: 0.9850661262221958\n",
      "Validation loss: 0.9636841558891794\n",
      "Validation loss: 0.9253715756146804\n",
      "Validation loss: 0.9512693843115931\n",
      "Total epochs: 8\n",
      "LR iteration 1\n",
      "Validation loss: 0.9226950536603513\n",
      "Validation loss: 0.9104139390199081\n",
      "Validation loss: 0.8953973806422689\n",
      "Validation loss: 0.8795929279016412\n",
      "Validation loss: 0.9324701661648958\n",
      "Total epochs: 5\n",
      "Volume shrinkage: 0.465711001807474\n",
      "N = 1162\n",
      "Round: 4\n",
      "Adding 708 new samples. Run simulator!\n"
     ]
    },
    {
     "name": "stderr",
     "output_type": "stream",
     "text": [
      "Simulate: 100%|██████████| 708/708 [00:01<00:00, 478.98it/s]\n"
     ]
    },
    {
     "name": "stdout",
     "output_type": "stream",
     "text": [
      "n_features = 2\n",
      "Start training\n",
      "LR iteration 0\n",
      "Validation loss: 2.000930824450084\n",
      "Validation loss: 1.3105837936912264\n",
      "Validation loss: 1.180214747786522\n",
      "Validation loss: 1.109017281660012\n",
      "Validation loss: 1.1001296203051294\n",
      "Validation loss: 1.0751346722245216\n",
      "Validation loss: 1.0647050376449312\n",
      "Validation loss: 1.064637768481459\n",
      "Validation loss: 1.071728493486132\n",
      "Total epochs: 9\n",
      "LR iteration 1\n",
      "Validation loss: 1.0254159825188773\n",
      "Validation loss: 1.0038185779537474\n",
      "Validation loss: 1.0323731388364519\n",
      "Total epochs: 3\n",
      "Volume shrinkage: 0.47858019314127226\n",
      "N = 1440\n",
      "Round: 5\n",
      "Adding 886 new samples. Run simulator!\n"
     ]
    },
    {
     "name": "stderr",
     "output_type": "stream",
     "text": [
      "Simulate: 100%|██████████| 886/886 [00:01<00:00, 463.00it/s]\n"
     ]
    },
    {
     "name": "stdout",
     "output_type": "stream",
     "text": [
      "n_features = 2\n",
      "Start training\n",
      "LR iteration 0\n",
      "Validation loss: 1.5824195061411177\n",
      "Validation loss: 1.2455446319920676\n",
      "Validation loss: 1.1111796685627529\n",
      "Validation loss: 1.070530982528414\n",
      "Validation loss: 1.147727634225573\n",
      "Total epochs: 5\n",
      "LR iteration 1\n",
      "Validation loss: 1.066651165485382\n",
      "Validation loss: 1.0315782078674862\n",
      "Validation loss: 1.0251764527388982\n",
      "Validation loss: 1.03256014415196\n",
      "Total epochs: 4\n",
      "Volume shrinkage: 0.7118877743879293\n",
      "N = 1952\n",
      "Round: 6\n"
     ]
    },
    {
     "name": "stderr",
     "output_type": "stream",
     "text": [
      "Simulate:   0%|          | 0/944 [00:00<?, ?it/s]"
     ]
    },
    {
     "name": "stdout",
     "output_type": "stream",
     "text": [
      "Adding 944 new samples. Run simulator!\n"
     ]
    },
    {
     "name": "stderr",
     "output_type": "stream",
     "text": [
      "Simulate: 100%|██████████| 944/944 [00:01<00:00, 482.55it/s]\n"
     ]
    },
    {
     "name": "stdout",
     "output_type": "stream",
     "text": [
      "n_features = 2\n",
      "Start training\n",
      "LR iteration 0\n",
      "Validation loss: 1.3974789381027222\n",
      "Validation loss: 1.2713766420880954\n",
      "Validation loss: 1.2027178071439266\n",
      "Validation loss: 1.212130518630147\n",
      "Total epochs: 4\n",
      "LR iteration 1\n"
     ]
    }
   ],
   "source": [
    "s = swyft.SWYFT(model, noise, prior, cache, obs0, device = DEVICE)\n",
    "s.infer1d(Ninit = 500)"
   ]
  },
  {
   "cell_type": "code",
   "execution_count": null,
   "metadata": {},
   "outputs": [],
   "source": [
    "post = s.posteriors()\n",
    "swyft.corner(post, [\"a\", \"b\"], color='r', figsize = (15,15), truth=par0)"
   ]
  },
  {
   "cell_type": "code",
   "execution_count": 1,
   "metadata": {},
   "outputs": [
    {
     "ename": "NameError",
     "evalue": "name 's' is not defined",
     "output_type": "error",
     "traceback": [
      "\u001b[0;31m---------------------------------------------------------------------------\u001b[0m",
      "\u001b[0;31mNameError\u001b[0m                                 Traceback (most recent call last)",
      "\u001b[0;32m<ipython-input-1-a702a4edf0bd>\u001b[0m in \u001b[0;36m<module>\u001b[0;34m\u001b[0m\n\u001b[0;32m----> 1\u001b[0;31m \u001b[0ms\u001b[0m\u001b[0;34m.\u001b[0m\u001b[0minfer2d\u001b[0m\u001b[0;34m(\u001b[0m\u001b[0;34m)\u001b[0m\u001b[0;34m\u001b[0m\u001b[0;34m\u001b[0m\u001b[0m\n\u001b[0m",
      "\u001b[0;31mNameError\u001b[0m: name 's' is not defined"
     ]
    }
   ],
   "source": [
    "s.infer2d()"
   ]
  },
  {
   "cell_type": "code",
   "execution_count": null,
   "metadata": {},
   "outputs": [],
   "source": [
    "post = s.posteriors()\n",
    "swyft.corner(post, [\"a\", \"b\"], color='r', figsize = (15,15), truth=par0)"
   ]
  },
  {
   "cell_type": "code",
   "execution_count": null,
   "metadata": {},
   "outputs": [],
   "source": []
  }
 ],
 "metadata": {
  "kernelspec": {
   "display_name": "Python 3",
   "language": "python",
   "name": "python3"
  },
  "language_info": {
   "codemirror_mode": {
    "name": "ipython",
    "version": 3
   },
   "file_extension": ".py",
   "mimetype": "text/x-python",
   "name": "python",
   "nbconvert_exporter": "python",
   "pygments_lexer": "ipython3",
   "version": "3.7.3"
  }
 },
 "nbformat": 4,
 "nbformat_minor": 4
}
