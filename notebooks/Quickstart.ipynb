{
 "cells": [
  {
   "cell_type": "code",
   "execution_count": 1,
   "metadata": {},
   "outputs": [],
   "source": [
    "%load_ext autoreload\n",
    "%autoreload 2"
   ]
  },
  {
   "cell_type": "code",
   "execution_count": 2,
   "metadata": {},
   "outputs": [],
   "source": [
    "# DON'T FORGET TO ACTIVATE THE GPU when on google colab (Edit > Notebook settings)\n",
    "from os import environ\n",
    "GOOGLE_COLAB = True if \"COLAB_GPU\" in environ else False\n",
    "if GOOGLE_COLAB:\n",
    "    !pip install git+https://github.com/undark-lab/swyft.git"
   ]
  },
  {
   "cell_type": "code",
   "execution_count": 3,
   "metadata": {},
   "outputs": [],
   "source": [
    "import numpy as np\n",
    "import pylab as plt\n",
    "import swyft\n",
    "\n",
    "from swyft.inference.marginalratioestimator import MarginalRatioEstimator\n",
    "from swyft.networks.classifier import get_marginal_classifier"
   ]
  },
  {
   "cell_type": "markdown",
   "metadata": {},
   "source": [
    "# Setup the forward model"
   ]
  },
  {
   "cell_type": "code",
   "execution_count": 4,
   "metadata": {},
   "outputs": [],
   "source": [
    "device = 'cuda' if swyft.utils.is_cuda_available() else \"cpu\"\n",
    "n_training_samples = 3000\n",
    "n_parameters = 2\n",
    "marginal_indices_1d, marginal_indices_2d = swyft.utils.get_corner_marginals(n_parameters)\n",
    "observation_key = \"x\""
   ]
  },
  {
   "cell_type": "code",
   "execution_count": 5,
   "metadata": {},
   "outputs": [],
   "source": [
    "def model(v, sigma = 0.2):\n",
    "    x = v + np.random.randn(n_parameters) * sigma\n",
    "    return {observation_key: x}\n",
    "\n",
    "v_o = np.zeros(n_parameters)\n",
    "observation_o = model(v_o, sigma = 0.)\n",
    "\n",
    "n_observation_features = observation_o[observation_key].shape[0]\n",
    "observation_shapes = {key: value.shape for key, value in observation_o.items()}"
   ]
  },
  {
   "cell_type": "code",
   "execution_count": 6,
   "metadata": {},
   "outputs": [],
   "source": [
    "simulator = swyft.Simulator(\n",
    "    model, \n",
    "    n_parameters, \n",
    "    sim_shapes={observation_key: (n_parameters,)}\n",
    ")"
   ]
  },
  {
   "cell_type": "markdown",
   "metadata": {},
   "source": [
    "# Setup the prior and storage"
   ]
  },
  {
   "cell_type": "code",
   "execution_count": 7,
   "metadata": {},
   "outputs": [
    {
     "name": "stdout",
     "output_type": "stream",
     "text": [
      "Creating new store.\n"
     ]
    }
   ],
   "source": [
    "store = swyft.Store.memory_store(simulator)"
   ]
  },
  {
   "cell_type": "code",
   "execution_count": 8,
   "metadata": {},
   "outputs": [
    {
     "name": "stdout",
     "output_type": "stream",
     "text": [
      "Store: Adding 3064 new samples to simulator store.\n"
     ]
    }
   ],
   "source": [
    "low = -1 * np.ones(n_parameters)\n",
    "high = 1 * np.ones(n_parameters)\n",
    "prior = swyft.get_uniform_prior(low, high)\n",
    "store.add(n_training_samples, prior)\n",
    "store.simulate()"
   ]
  },
  {
   "cell_type": "code",
   "execution_count": 9,
   "metadata": {},
   "outputs": [],
   "source": [
    "dataset = swyft.Dataset(n_training_samples, prior, store)"
   ]
  },
  {
   "cell_type": "markdown",
   "metadata": {},
   "source": [
    "# Train a 1d marginal estimator"
   ]
  },
  {
   "cell_type": "code",
   "execution_count": 10,
   "metadata": {},
   "outputs": [],
   "source": [
    "network_1d = get_marginal_classifier(\n",
    "    observation_key=observation_key,\n",
    "    marginal_indices=marginal_indices_1d,\n",
    "    observation_shapes=observation_shapes,\n",
    "    n_parameters=n_parameters,\n",
    "    hidden_features=32,\n",
    "    num_blocks=2,\n",
    ")\n",
    "\n",
    "mre_1d = MarginalRatioEstimator(\n",
    "    marginal_indices=marginal_indices_1d,\n",
    "    network=network_1d,\n",
    "    device=device,\n",
    ")"
   ]
  },
  {
   "cell_type": "code",
   "execution_count": 11,
   "metadata": {},
   "outputs": [
    {
     "name": "stdout",
     "output_type": "stream",
     "text": [
      "training: lr=5e-06, epoch=25, validation loss=1.6213"
     ]
    }
   ],
   "source": [
    "mre_1d.train(dataset)"
   ]
  },
  {
   "cell_type": "code",
   "execution_count": 12,
   "metadata": {},
   "outputs": [],
   "source": [
    "posterior_1d = swyft.MarginalPosterior(mre_1d, prior)\n",
    "weighted_samples_1d = posterior_1d.weighted_sample(10_000, observation_o)"
   ]
  },
  {
   "cell_type": "code",
   "execution_count": 13,
   "metadata": {},
   "outputs": [],
   "source": [
    "# TODO plot the 1d marginals\n",
    "# \n",
    "# weighted_samples.get_df_dict()"
   ]
  },
  {
   "cell_type": "markdown",
   "metadata": {},
   "source": [
    "# Train a 2d marginal estimator"
   ]
  },
  {
   "cell_type": "code",
   "execution_count": 14,
   "metadata": {},
   "outputs": [],
   "source": [
    "network_2d = get_marginal_classifier(\n",
    "    observation_key=observation_key,\n",
    "    marginal_indices=marginal_indices_2d,\n",
    "    observation_shapes=observation_shapes,\n",
    "    n_parameters=n_parameters,\n",
    "    hidden_features=32,\n",
    "    num_blocks=2,\n",
    ")\n",
    "\n",
    "mre_2d = MarginalRatioEstimator(\n",
    "    marginal_indices=marginal_indices_2d,\n",
    "    network=network_2d,\n",
    "    device=device,\n",
    ")"
   ]
  },
  {
   "cell_type": "code",
   "execution_count": 15,
   "metadata": {},
   "outputs": [
    {
     "name": "stdout",
     "output_type": "stream",
     "text": [
      "training: lr=5e-05, epoch=25, validation loss=0.37332"
     ]
    }
   ],
   "source": [
    "mre_2d.train(dataset)"
   ]
  },
  {
   "cell_type": "code",
   "execution_count": 16,
   "metadata": {},
   "outputs": [],
   "source": [
    "posterior_2d = swyft.MarginalPosterior(mre_2d, prior)\n",
    "weighted_samples_2d = posterior_2d.weighted_sample(10_000, observation_o)"
   ]
  },
  {
   "cell_type": "markdown",
   "metadata": {},
   "source": [
    "# Combine the two to create a corner plot"
   ]
  },
  {
   "cell_type": "code",
   "execution_count": 17,
   "metadata": {},
   "outputs": [
    {
     "name": "stdout",
     "output_type": "stream",
     "text": [
      "dict_keys([(0,), (1,), (0, 1)])\n"
     ]
    }
   ],
   "source": [
    "df_dict = weighted_samples_1d.get_df_dict()\n",
    "df_dict.update(weighted_samples_2d.get_df_dict())\n",
    "print(df_dict.keys())"
   ]
  },
  {
   "cell_type": "code",
   "execution_count": 18,
   "metadata": {},
   "outputs": [
    {
     "name": "stderr",
     "output_type": "stream",
     "text": [
      "1it [00:04,  4.00s/it]\n"
     ]
    },
    {
     "data": {
      "text/plain": [
       "(<Figure size 432x288 with 4 Axes>,\n",
       " array([[<AxesSubplot:>, <AxesSubplot:>],\n",
       "        [<AxesSubplot:>, <AxesSubplot:>]], dtype=object))"
      ]
     },
     "execution_count": 18,
     "metadata": {},
     "output_type": "execute_result"
    },
    {
     "data": {
      "image/png": "[encoded data removed]",
      "text/plain": [
       "<Figure size 432x288 with 4 Axes>"
      ]
     },
     "metadata": {
      "needs_background": "light"
     },
     "output_type": "display_data"
    }
   ],
   "source": [
    "swyft.plot.corner(df_dict, kde=True)"
   ]
  }
 ],
 "metadata": {
  "kernelspec": {
   "display_name": "Python 3 (ipykernel)",
   "language": "python",
   "name": "python3"
  },
  "language_info": {
   "codemirror_mode": {
    "name": "ipython",
    "version": 3
   },
   "file_extension": ".py",
   "mimetype": "text/x-python",
   "name": "python",
   "nbconvert_exporter": "python",
   "pygments_lexer": "ipython3",
   "version": "3.8.12"
  }
 },
 "nbformat": 4,
 "nbformat_minor": 4
}
