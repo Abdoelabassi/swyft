{
 "cells": [
  {
   "cell_type": "code",
   "execution_count": 3,
   "metadata": {},
   "outputs": [],
   "source": [
    "import torch\n",
    "import corner\n",
    "import numpy as np\n",
    "import pylab as plt\n",
    "from swyft.intensity import BallMask, ComboMask, Prior1d, Prior, Intensity\n",
    "from tqdm import tqdm\n",
    "import swyft\n",
    "import swyft.plot\n",
    "\n",
    "DEVICE = 'cuda'\n",
    "\n",
    "%load_ext autoreload\n",
    "%autoreload 2"
   ]
  },
  {
   "cell_type": "code",
   "execution_count": 4,
   "metadata": {},
   "outputs": [],
   "source": [
    "def model(par):\n",
    "    return dict(spec=np.linspace(-5, 5, 5)*par['A']+par['B'])\n",
    "\n",
    "def noise(obs, par):\n",
    "    obs['spec'] += np.random.randn(*obs['spec'].shape)*1.\n",
    "    return obs"
   ]
  },
  {
   "cell_type": "code",
   "execution_count": 5,
   "metadata": {},
   "outputs": [],
   "source": [
    "class Hooft(swyft.Module):\n",
    "    def __init__(self, obs_shapes, factor = 1.):\n",
    "        super().__init__(factor = factor)\n",
    "        self.factor = factor\n",
    "    \n",
    "    def forward(self, x):\n",
    "        return x['spec']"
   ]
  },
  {
   "cell_type": "markdown",
   "metadata": {},
   "source": [
    "### Storage"
   ]
  },
  {
   "cell_type": "code",
   "execution_count": 6,
   "metadata": {},
   "outputs": [
    {
     "name": "stdout",
     "output_type": "stream",
     "text": [
      "Creating new cache.\n"
     ]
    }
   ],
   "source": [
    "cache = swyft.MemoryCache(params = [\"A\", \"B\"], obs_shapes = {\"spec\": (5,)})\n",
    "#cache = swyft.DirectoryCache(params = [\"A\", \"B\"], obs_shapes = {\"spec\": (5,)}, path = \"/home/weniger/zarr_test4\")"
   ]
  },
  {
   "cell_type": "code",
   "execution_count": 7,
   "metadata": {},
   "outputs": [],
   "source": [
    "prior = Prior({\"A\": [\"normal\", 0., 1.], \"B\": [\"normal\",  0., 1.]})"
   ]
  },
  {
   "cell_type": "markdown",
   "metadata": {},
   "source": [
    "### Populating storage with simulations"
   ]
  },
  {
   "cell_type": "code",
   "execution_count": null,
   "metadata": {},
   "outputs": [
    {
     "name": "stderr",
     "output_type": "stream",
     "text": [
      "Simulate:   0%|          | 50/10146 [00:00<00:20, 496.76it/s]"
     ]
    },
    {
     "name": "stdout",
     "output_type": "stream",
     "text": [
      "Adding 10146 new samples. Run simulator!\n"
     ]
    },
    {
     "name": "stderr",
     "output_type": "stream",
     "text": [
      "Simulate:  18%|█▊        | 1840/10146 [00:03<00:16, 495.36it/s]"
     ]
    }
   ],
   "source": [
    "N = 10000\n",
    "cache.grow(prior, N)\n",
    "cache.simulate(model)"
   ]
  },
  {
   "cell_type": "code",
   "execution_count": null,
   "metadata": {},
   "outputs": [],
   "source": [
    "points = swyft.Points(cache.sample(prior, N), cache, noise)"
   ]
  },
  {
   "cell_type": "code",
   "execution_count": null,
   "metadata": {},
   "outputs": [],
   "source": [
    "re = swyft.RatioEstimator([\"A\", \"B\", (\"A\", \"B\")], device=DEVICE, tail_args=dict(n_tail_features = 2, n_hidden=64, p = 0.1))\n",
    "re.train(points, batch_size = 8, lr_schedule = [1e-3])"
   ]
  },
  {
   "cell_type": "code",
   "execution_count": null,
   "metadata": {},
   "outputs": [],
   "source": [
    "i = 1\n",
    "obs0, par0 = points[i]['obs'], points[i]['par']\n",
    "post = re.posterior(obs0, prior, n_samples = 100000)"
   ]
  },
  {
   "cell_type": "code",
   "execution_count": null,
   "metadata": {},
   "outputs": [],
   "source": [
    "swyft.plot.corner(post, [\"A\", \"B\"], color='g', figsize = (15,15), truth=par0)"
   ]
  },
  {
   "cell_type": "code",
   "execution_count": 18,
   "metadata": {},
   "outputs": [],
   "source": [
    "#sd = re.state_dict()\n",
    "#re2 = re.from_state_dict(sd, device = DEVICE)"
   ]
  },
  {
   "cell_type": "code",
   "execution_count": 387,
   "metadata": {},
   "outputs": [],
   "source": [
    "prior2 = prior.get_masked(obs0, re)"
   ]
  },
  {
   "cell_type": "code",
   "execution_count": 52,
   "metadata": {},
   "outputs": [
    {
     "name": "stderr",
     "output_type": "stream",
     "text": [
      "Simulate:  21%|██        | 45/214 [00:00<00:00, 441.40it/s]"
     ]
    },
    {
     "name": "stdout",
     "output_type": "stream",
     "text": [
      "Adding 214 new samples. Run simulator!\n"
     ]
    },
    {
     "name": "stderr",
     "output_type": "stream",
     "text": [
      "Simulate: 100%|██████████| 214/214 [00:00<00:00, 439.34it/s]\n"
     ]
    }
   ],
   "source": [
    "cache.grow(prior2, 500)\n",
    "cache.simulate(model)"
   ]
  },
  {
   "cell_type": "code",
   "execution_count": 36,
   "metadata": {},
   "outputs": [],
   "source": [
    "indices = cache.sample(prior2, 500)\n",
    "points = swyft.Points(indices, cache, noise)"
   ]
  },
  {
   "cell_type": "code",
   "execution_count": 37,
   "metadata": {},
   "outputs": [
    {
     "name": "stdout",
     "output_type": "stream",
     "text": [
      "n_features = 5\n",
      "Start training\n",
      "LR iteration 0\n",
      "Validation loss: 2.7329795360565186\n",
      "Validation loss: 2.3173817793528237\n",
      "Validation loss: 2.0599001248677573\n",
      "Validation loss: 1.9887228806813557\n",
      "Validation loss: 1.8726511398951213\n",
      "Validation loss: 1.8945934375127156\n",
      "Total epochs: 6\n",
      "LR iteration 1\n",
      "Validation loss: 1.8296192089716594\n",
      "Validation loss: 1.8652102549870808\n",
      "Total epochs: 2\n"
     ]
    }
   ],
   "source": [
    "re2 = swyft.RatioEstimator([(\"A\",), (\"B\",)], device=DEVICE, tail_args = dict(p=0.1))\n",
    "re2.train(points, max_epochs=10, batch_size=16, lr_schedule=[1e-3, 1e-4])"
   ]
  },
  {
   "cell_type": "code",
   "execution_count": 38,
   "metadata": {},
   "outputs": [
    {
     "data": {
      "text/plain": [
       "<matplotlib.lines.Line2D at 0x1477d00cc780>"
      ]
     },
     "execution_count": 38,
     "metadata": {},
     "output_type": "execute_result"
    },
    {
     "data": {
      "image/png": "[encoded data removed]",
      "text/plain": [
       "<Figure size 432x288 with 1 Axes>"
      ]
     },
     "metadata": {
      "needs_background": "light"
     },
     "output_type": "display_data"
    }
   ],
   "source": [
    "pars = prior2.sample(100000)\n",
    "lnL = re2.lnL(obs0, pars)\n",
    "plt.hist(pars['A'], weights = np.exp(lnL[('A',)]), bins = 50, density = True);\n",
    "plt.axvline(par0['A'], color='r')"
   ]
  },
  {
   "cell_type": "code",
   "execution_count": 39,
   "metadata": {},
   "outputs": [
    {
     "data": {
      "text/plain": [
       "<matplotlib.lines.Line2D at 0x1477d00cc898>"
      ]
     },
     "execution_count": 39,
     "metadata": {},
     "output_type": "execute_result"
    },
    {
     "data": {
      "image/png": "[encoded data removed]",
      "text/plain": [
       "<Figure size 432x288 with 1 Axes>"
      ]
     },
     "metadata": {
      "needs_background": "light"
     },
     "output_type": "display_data"
    }
   ],
   "source": [
    "plt.hist(pars['B'], weights = np.exp(lnL[('B',)]), bins = 50, density = True);\n",
    "plt.axvline(par0['B'], color='r')"
   ]
  },
  {
   "cell_type": "code",
   "execution_count": 28,
   "metadata": {},
   "outputs": [
    {
     "data": {
      "text/plain": [
       "<matplotlib.colorbar.Colorbar at 0x149adfee2320>"
      ]
     },
     "execution_count": 28,
     "metadata": {},
     "output_type": "execute_result"
    },
    {
     "data": {
      "image/png": "[encoded data removed]",
      "text/plain": [
       "<Figure size 432x288 with 2 Axes>"
      ]
     },
     "metadata": {
      "needs_background": "light"
     },
     "output_type": "display_data"
    }
   ],
   "source": [
    "plt.hist2d(pars['A'], pars['B'], weights = np.exp(lnL[('A', 'B',)]), bins = 50, density = True);\n",
    "plt.axhline(par0['B'], color='r')\n",
    "plt.axvline(par0['A'], color='r')\n",
    "plt.colorbar()\n",
    "#plt.axvline(par0['B'], color='r')"
   ]
  },
  {
   "cell_type": "code",
   "execution_count": null,
   "metadata": {},
   "outputs": [],
   "source": []
  }
 ],
 "metadata": {
  "kernelspec": {
   "display_name": "Python 3",
   "language": "python",
   "name": "python3"
  },
  "language_info": {
   "codemirror_mode": {
    "name": "ipython",
    "version": 3
   },
   "file_extension": ".py",
   "mimetype": "text/x-python",
   "name": "python",
   "nbconvert_exporter": "python",
   "pygments_lexer": "ipython3",
   "version": "3.7.3"
  }
 },
 "nbformat": 4,
 "nbformat_minor": 4
}
