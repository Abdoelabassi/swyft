{
 "cells": [
  {
   "cell_type": "code",
   "execution_count": 2,
   "metadata": {},
   "outputs": [],
   "source": [
    "import torch\n",
    "import corner\n",
    "import numpy as np\n",
    "import pylab as plt\n",
    "from swyft.intensity import BallMask, ComboMask, Prior1d, Prior, Intensity\n",
    "from tqdm import tqdm\n",
    "import swyft\n",
    "\n",
    "DEVICE = 'cuda'\n",
    "\n",
    "%load_ext autoreload\n",
    "%autoreload 2"
   ]
  },
  {
   "cell_type": "code",
   "execution_count": 41,
   "metadata": {},
   "outputs": [],
   "source": [
    "def model(par):\n",
    "    return dict(spec=np.linspace(-1, 1, 5)*par['A']*1000+par['B'])\n",
    "\n",
    "def noise(obs, par):\n",
    "    obs['spec'] += np.random.randn(*obs['spec'].shape)*0.2\n",
    "    obs['spec'] *= 1e-3\n",
    "    return obs"
   ]
  },
  {
   "cell_type": "code",
   "execution_count": 43,
   "metadata": {},
   "outputs": [],
   "source": [
    "class Hooft(swyft.Module):\n",
    "    def __init__(self, obs_shapes, factor = 1.):\n",
    "        super().__init__(factor = factor)\n",
    "        self.factor = factor\n",
    "    \n",
    "    def forward(self, x):\n",
    "        return x['spec']"
   ]
  },
  {
   "cell_type": "code",
   "execution_count": 104,
   "metadata": {},
   "outputs": [],
   "source": [
    "N = 2000"
   ]
  },
  {
   "cell_type": "markdown",
   "metadata": {},
   "source": [
    "### Storage"
   ]
  },
  {
   "cell_type": "code",
   "execution_count": 105,
   "metadata": {},
   "outputs": [
    {
     "name": "stdout",
     "output_type": "stream",
     "text": [
      "Creating new cache.\n"
     ]
    }
   ],
   "source": [
    "cache = swyft.MemoryCache(params = [\"A\", \"B\"], obs_shapes = {\"spec\": (5,)})\n",
    "#cache = swyft.DirectoryCache(params = [\"A\", \"B\"], obs_shapes = {\"spec\": (5,)}, path = \"/home/weniger/zarr_test4\")"
   ]
  },
  {
   "cell_type": "markdown",
   "metadata": {},
   "source": [
    "### Prior"
   ]
  },
  {
   "cell_type": "code",
   "execution_count": 45,
   "metadata": {},
   "outputs": [],
   "source": [
    "prior = Prior({\"A\": [\"normal\", 0.0, 0.001], \"B\": [\"normal\",  0., 1.]})"
   ]
  },
  {
   "cell_type": "markdown",
   "metadata": {},
   "source": [
    "### Populating storage with simulations"
   ]
  },
  {
   "cell_type": "code",
   "execution_count": 73,
   "metadata": {},
   "outputs": [
    {
     "name": "stdout",
     "output_type": "stream",
     "text": [
      "No new simulator runs required.\n",
      "No simulations required.\n"
     ]
    }
   ],
   "source": [
    "N = 100\n",
    "cache.grow(prior, N)\n",
    "cache.simulate(model)"
   ]
  },
  {
   "cell_type": "code",
   "execution_count": 74,
   "metadata": {},
   "outputs": [],
   "source": [
    "points = swyft.Points(cache.sample(prior, N), cache, noise)"
   ]
  },
  {
   "cell_type": "code",
   "execution_count": 93,
   "metadata": {},
   "outputs": [
    {
     "name": "stdout",
     "output_type": "stream",
     "text": [
      "n_features = 5\n",
      "Start training\n",
      "LR iteration 0\n",
      "Validation loss: 5.5454206466674805\n",
      "Validation loss: 5.501899003982544\n",
      "Validation loss: 5.20791220664978\n",
      "Validation loss: 4.867943286895752\n",
      "Validation loss: 4.721487283706665\n",
      "Validation loss: 4.6069769859313965\n",
      "Validation loss: 4.424546480178833\n",
      "Validation loss: 4.308088064193726\n",
      "Validation loss: 4.507257580757141\n",
      "Total epochs: 9\n",
      "LR iteration 1\n",
      "Validation loss: 4.070536732673645\n",
      "Validation loss: 4.370896816253662\n",
      "Total epochs: 2\n",
      "LR iteration 2\n",
      "Validation loss: 3.827916145324707\n",
      "Validation loss: 4.437814474105835\n",
      "Total epochs: 2\n"
     ]
    }
   ],
   "source": [
    "re = swyft.RatioEstimator([(\"A\",), (\"B\",)], device=DEVICE, tail_args = dict(p=0.1))\n",
    "re.train(points, max_epochs=10, batch_size=4, lr_schedule=[1e-3, 3e-4, 1e-4])"
   ]
  },
  {
   "cell_type": "code",
   "execution_count": 94,
   "metadata": {},
   "outputs": [],
   "source": [
    "obs0, par0 = points[0]['obs'], points[0]['par']"
   ]
  },
  {
   "cell_type": "code",
   "execution_count": 95,
   "metadata": {},
   "outputs": [
    {
     "data": {
      "text/plain": [
       "<matplotlib.lines.Line2D at 0x1543dc38c860>"
      ]
     },
     "execution_count": 95,
     "metadata": {},
     "output_type": "execute_result"
    },
    {
     "data": {
      "image/png": "[encoded data removed]",
      "text/plain": [
       "<Figure size 432x288 with 1 Axes>"
      ]
     },
     "metadata": {
      "needs_background": "light"
     },
     "output_type": "display_data"
    }
   ],
   "source": [
    "pars = prior.sample(100000)\n",
    "lnL = re.lnL(obs0, pars)\n",
    "plt.hist(pars['A'], weights = np.exp(lnL[('A',)]), bins = 100, density = True);\n",
    "plt.hist(pars['A'], weights = 1+0*np.exp(lnL[('A',)]), bins = 100, density = True);\n",
    "plt.axvline(par0['A'], color='r')"
   ]
  },
  {
   "cell_type": "code",
   "execution_count": 96,
   "metadata": {},
   "outputs": [],
   "source": [
    "#sd = re.state_dict()\n",
    "#re2 = re.from_state_dict(sd, device = DEVICE)"
   ]
  },
  {
   "cell_type": "code",
   "execution_count": 97,
   "metadata": {},
   "outputs": [],
   "source": [
    "prior2 = prior.get_masked(obs0, re)"
   ]
  },
  {
   "cell_type": "code",
   "execution_count": 106,
   "metadata": {},
   "outputs": [
    {
     "name": "stderr",
     "output_type": "stream",
     "text": [
      "Simulate:   4%|▍         | 39/972 [00:00<00:02, 388.13it/s]"
     ]
    },
    {
     "name": "stdout",
     "output_type": "stream",
     "text": [
      "Adding 972 new samples. Run simulator!\n"
     ]
    },
    {
     "name": "stderr",
     "output_type": "stream",
     "text": [
      "Simulate: 100%|██████████| 972/972 [00:02<00:00, 383.00it/s]\n"
     ]
    }
   ],
   "source": [
    "cache.grow(prior2, 1000)\n",
    "cache.simulate(model)"
   ]
  },
  {
   "cell_type": "code",
   "execution_count": 107,
   "metadata": {},
   "outputs": [],
   "source": [
    "indices = cache.sample(prior2, 1000)\n",
    "points = swyft.Points(indices, cache, noise)"
   ]
  },
  {
   "cell_type": "code",
   "execution_count": 108,
   "metadata": {},
   "outputs": [
    {
     "name": "stdout",
     "output_type": "stream",
     "text": [
      "n_features = 5\n",
      "Start training\n",
      "LR iteration 0\n",
      "Validation loss: 19.779725313186646\n",
      "Validation loss: 14.559207201004028\n",
      "Validation loss: 13.276249885559082\n",
      "Validation loss: 15.756184816360474\n",
      "Total epochs: 4\n",
      "LR iteration 1\n",
      "Validation loss: 12.813742637634277\n",
      "Validation loss: 12.782089948654175\n",
      "Validation loss: 12.528722047805786\n",
      "Validation loss: 12.11297345161438\n",
      "Validation loss: 12.915589094161987\n",
      "Total epochs: 5\n",
      "LR iteration 2\n",
      "Validation loss: 12.11564552783966\n",
      "Validation loss: 11.113076090812683\n",
      "Validation loss: 12.181163787841797\n",
      "Total epochs: 3\n",
      "LR iteration 3\n",
      "Validation loss: 11.81281065940857\n",
      "Validation loss: 11.551354169845581\n",
      "Validation loss: 10.9965261220932\n",
      "Validation loss: 12.496648907661438\n",
      "Total epochs: 4\n"
     ]
    }
   ],
   "source": [
    "re2 = swyft.RatioEstimator([(\"A\",), (\"B\",), (\"A\", \"B\")], device=DEVICE, tail_args = dict(p=0.1))\n",
    "re2.train(points, max_epochs=10, batch_size=16, lr_schedule=[1e-3, 3e-4, 1e-4, 3e-5])"
   ]
  },
  {
   "cell_type": "code",
   "execution_count": 109,
   "metadata": {},
   "outputs": [
    {
     "data": {
      "text/plain": [
       "<matplotlib.lines.Line2D at 0x15437f5b6828>"
      ]
     },
     "execution_count": 109,
     "metadata": {},
     "output_type": "execute_result"
    },
    {
     "data": {
      "image/png": "[encoded data removed]",
      "text/plain": [
       "<Figure size 432x288 with 1 Axes>"
      ]
     },
     "metadata": {
      "needs_background": "light"
     },
     "output_type": "display_data"
    }
   ],
   "source": [
    "pars = prior2.sample(100000)\n",
    "lnL = re2.lnL(obs0, pars)\n",
    "plt.hist(pars['A'], weights = np.exp(lnL[('A',)]), bins = 50, density = True);\n",
    "plt.axvline(par0['A'], color='r')"
   ]
  },
  {
   "cell_type": "code",
   "execution_count": 110,
   "metadata": {},
   "outputs": [
    {
     "data": {
      "text/plain": [
       "<matplotlib.lines.Line2D at 0x15437f1650b8>"
      ]
     },
     "execution_count": 110,
     "metadata": {},
     "output_type": "execute_result"
    },
    {
     "data": {
      "image/png": "[encoded data removed]",
      "text/plain": [
       "<Figure size 432x288 with 1 Axes>"
      ]
     },
     "metadata": {
      "needs_background": "light"
     },
     "output_type": "display_data"
    }
   ],
   "source": [
    "plt.hist(pars['B'], weights = np.exp(lnL[('B',)]), bins = 50, density = True);\n",
    "plt.axvline(par0['B'], color='r')"
   ]
  },
  {
   "cell_type": "code",
   "execution_count": 111,
   "metadata": {},
   "outputs": [
    {
     "data": {
      "text/plain": [
       "<matplotlib.colorbar.Colorbar at 0x15437f05f4e0>"
      ]
     },
     "execution_count": 111,
     "metadata": {},
     "output_type": "execute_result"
    },
    {
     "data": {
      "image/png": "[encoded data removed]",
      "text/plain": [
       "<Figure size 432x288 with 2 Axes>"
      ]
     },
     "metadata": {
      "needs_background": "light"
     },
     "output_type": "display_data"
    }
   ],
   "source": [
    "plt.hist2d(pars['A'], pars['B'], weights = np.exp(lnL[('A', 'B',)]), bins = 50, density = True);\n",
    "plt.axhline(par0['B'], color='r')\n",
    "plt.axvline(par0['A'], color='r')\n",
    "plt.colorbar()\n",
    "#plt.axvline(par0['B'], color='r')"
   ]
  },
  {
   "cell_type": "code",
   "execution_count": null,
   "metadata": {},
   "outputs": [],
   "source": []
  }
 ],
 "metadata": {
  "kernelspec": {
   "display_name": "Python 3",
   "language": "python",
   "name": "python3"
  },
  "language_info": {
   "codemirror_mode": {
    "name": "ipython",
    "version": 3
   },
   "file_extension": ".py",
   "mimetype": "text/x-python",
   "name": "python",
   "nbconvert_exporter": "python",
   "pygments_lexer": "ipython3",
   "version": "3.7.3"
  }
 },
 "nbformat": 4,
 "nbformat_minor": 4
}
