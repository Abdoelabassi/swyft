{
 "cells": [
  {
   "cell_type": "markdown",
   "metadata": {},
   "source": [
    "# Marginal 1-dim posteriors from image data\n",
    "\n",
    "- Using SWYFT core functions (i.e. look at swyft/core.py)\n",
    "- Demonstrates `head` network\n",
    "\n",
    "Author: Christoph Weniger and Benjamin Miller, August 2020"
   ]
  },
  {
   "cell_type": "code",
   "execution_count": 4,
   "metadata": {},
   "outputs": [
    {
     "data": {
      "text/plain": [
       "<torch._C.Generator at 0x7f6bd120eb50>"
      ]
     },
     "execution_count": 4,
     "metadata": {},
     "output_type": "execute_result"
    }
   ],
   "source": [
    "import numpy as np\n",
    "import pylab as plt\n",
    "import swyft\n",
    "import torch\n",
    "from scipy import stats\n",
    "%load_ext autoreload\n",
    "%autoreload 2\n",
    "\n",
    "np.random.seed(25)\n",
    "torch.manual_seed(25)"
   ]
  },
  {
   "cell_type": "code",
   "execution_count": 5,
   "metadata": {},
   "outputs": [],
   "source": [
    "DEVICE = 'cuda:0'\n",
    "NDIM = 2 # number of parameters\n",
    "NBINS = 1000\n",
    "SIGMA = 0.01"
   ]
  },
  {
   "cell_type": "code",
   "execution_count": 22,
   "metadata": {},
   "outputs": [],
   "source": [
    "SIGMA = 0.1\n",
    "def model(z, w = 0.03):\n",
    "    grid = np.linspace(0, 1, 32, 32)\n",
    "    X, Y = np.meshgrid(grid, grid)\n",
    "    x1, y1, r = z[0], z[1], z[2]*0.5\n",
    "    R1 = ((X-x1)**2 + (Y-y1)**2)**0.5\n",
    "    mu = np.exp(-(R1-r)**2/w**2/2)\n",
    "    x = mu\n",
    "    return x\n",
    "\n",
    "def noisemodel(x, z = None):\n",
    "    n = np.random.randn(*x.shape)*SIGMA  #*noiselevel\n",
    "    return x + n"
   ]
  },
  {
   "cell_type": "code",
   "execution_count": 94,
   "metadata": {},
   "outputs": [],
   "source": [
    "# Convolutional network as HEAD of inference network\n",
    "\n",
    "class Head(torch.nn.Module):\n",
    "    def __init__(self):\n",
    "        super().__init__()\n",
    "        self.conv1 = torch.nn.Conv2d(1, 10, 3)\n",
    "        self.conv2 = torch.nn.Conv2d(10, 20, 3)\n",
    "        self.conv3 = torch.nn.Conv2d(20, 40, 3)\n",
    "        self.pool = torch.nn.MaxPool2d(2)\n",
    "        \n",
    "    def forward(self, x):\n",
    "        nbatch = len(x)\n",
    "        \n",
    "        x = x.unsqueeze(1)\n",
    "        x = self.conv1(x)\n",
    "        x = self.pool(x)\n",
    "        x = self.conv2(x)\n",
    "        x = self.pool(x)\n",
    "        x = self.conv3(x)\n",
    "        x = self.pool(x)\n",
    "        x = x.view(nbatch, -1)\n",
    "\n",
    "        return x"
   ]
  },
  {
   "cell_type": "code",
   "execution_count": 95,
   "metadata": {},
   "outputs": [
    {
     "data": {
      "text/plain": [
       "<matplotlib.image.AxesImage at 0x7f6bb18a96d0>"
      ]
     },
     "execution_count": 95,
     "metadata": {},
     "output_type": "execute_result"
    },
    {
     "data": {
      "image/png": "[encoded data removed]",
      "text/plain": [
       "<Figure size 432x288 with 1 Axes>"
      ]
     },
     "metadata": {
      "needs_background": "light"
     },
     "output_type": "display_data"
    }
   ],
   "source": [
    "z0 = np.array([0.3, 0.4, .5])\n",
    "x0 = noisemodel(model(z0))\n",
    "plt.imshow(x0)"
   ]
  },
  {
   "cell_type": "code",
   "execution_count": 135,
   "metadata": {},
   "outputs": [
    {
     "name": "stdout",
     "output_type": "stream",
     "text": [
      "Loading datastore: /home/ubuntu/volume1/ring3.zarr\n",
      "WARNING: Datastore is already initialized.\n"
     ]
    }
   ],
   "source": [
    "ds = swyft.DataStoreZarr(\"/home/ubuntu/volume1/ring3.zarr\")\n",
    "ds.init(zdim = 3, xdim = (32, 32))"
   ]
  },
  {
   "cell_type": "code",
   "execution_count": null,
   "metadata": {},
   "outputs": [
    {
     "name": "stdout",
     "output_type": "stream",
     "text": [
      "Constrained posterior area: 1.0\n",
      "Adding 1069 new samples. Run simulator!\n",
      "Number of output features: 160\n",
      "Start training\n",
      "LR iteration 0\n",
      "Epoch: 13\r"
     ]
    }
   ],
   "source": [
    "sw_list = []\n",
    "\n",
    "for i_round in range(6):\n",
    "    parent = None if len(sw_list) == 0 else sw_list[-1]\n",
    "    sw = swyft.SWYFT(x0, zdim = 3, device = DEVICE, head = Head, datastore = ds, nsamples = 2000, noisemodel = noisemodel, parent = parent)\n",
    "    sw_list.append(sw)\n",
    "    \n",
    "    if sw.requires_sim():\n",
    "        for i in ds.require_sim():\n",
    "            z = ds.z[i]\n",
    "            x = model(z)\n",
    "            ds.add_sim(i, x)\n",
    "            \n",
    "    sw.train1d(max_epochs = 100, nbatch = 16)"
   ]
  },
  {
   "cell_type": "code",
   "execution_count": null,
   "metadata": {},
   "outputs": [],
   "source": [
    "plt.figure(figsize=(20, 5))\n",
    "for i in range(3):\n",
    "    z, p = sw_list[-1].posterior(i)\n",
    "    plt.axvline(z0[i])\n",
    "    plt.scatter(z, p)"
   ]
  }
 ],
 "metadata": {
  "kernelspec": {
   "display_name": "Python 3",
   "language": "python",
   "name": "python3"
  },
  "language_info": {
   "codemirror_mode": {
    "name": "ipython",
    "version": 3
   },
   "file_extension": ".py",
   "mimetype": "text/x-python",
   "name": "python",
   "nbconvert_exporter": "python",
   "pygments_lexer": "ipython3",
   "version": "3.7.7"
  }
 },
 "nbformat": 4,
 "nbformat_minor": 4
}
