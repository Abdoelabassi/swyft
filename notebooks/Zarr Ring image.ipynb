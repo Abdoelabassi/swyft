{
 "cells": [
  {
   "cell_type": "markdown",
   "metadata": {},
   "source": [
    "# Marginal 1-dim posteriors from image data\n",
    "\n",
    "- Using SWYFT core functions (i.e. look at swyft/core.py)\n",
    "- Demonstrates `head` network\n",
    "\n",
    "Author: Christoph Weniger and Benjamin Miller, August 2020"
   ]
  },
  {
   "cell_type": "code",
   "execution_count": 4,
   "metadata": {},
   "outputs": [
    {
     "data": {
      "text/plain": [
       "<torch._C.Generator at 0x7f6bd120eb50>"
      ]
     },
     "execution_count": 4,
     "metadata": {},
     "output_type": "execute_result"
    }
   ],
   "source": [
    "import numpy as np\n",
    "import pylab as plt\n",
    "import swyft\n",
    "import torch\n",
    "from scipy import stats\n",
    "%load_ext autoreload\n",
    "%autoreload 2\n",
    "\n",
    "np.random.seed(25)\n",
    "torch.manual_seed(25)"
   ]
  },
  {
   "cell_type": "code",
   "execution_count": 5,
   "metadata": {},
   "outputs": [],
   "source": [
    "DEVICE = 'cuda:0'\n",
    "NDIM = 2 # number of parameters\n",
    "NBINS = 1000\n",
    "SIGMA = 0.01"
   ]
  },
  {
   "cell_type": "code",
   "execution_count": 22,
   "metadata": {},
   "outputs": [],
   "source": [
    "SIGMA = 0.1\n",
    "def model(z, w = 0.03):\n",
    "    grid = np.linspace(0, 1, 32, 32)\n",
    "    X, Y = np.meshgrid(grid, grid)\n",
    "    x1, y1, r = z[0], z[1], z[2]*0.5\n",
    "    R1 = ((X-x1)**2 + (Y-y1)**2)**0.5\n",
    "    mu = np.exp(-(R1-r)**2/w**2/2)\n",
    "    x = mu\n",
    "    return x\n",
    "\n",
    "def noisemodel(x, z = None):\n",
    "    n = np.random.randn(*x.shape)*SIGMA  #*noiselevel\n",
    "    return x + n"
   ]
  },
  {
   "cell_type": "code",
   "execution_count": 94,
   "metadata": {},
   "outputs": [],
   "source": [
    "# Convolutional network as HEAD of inference network\n",
    "\n",
    "class Head(torch.nn.Module):\n",
    "    def __init__(self):\n",
    "        super().__init__()\n",
    "        self.conv1 = torch.nn.Conv2d(1, 10, 3)\n",
    "        self.conv2 = torch.nn.Conv2d(10, 20, 3)\n",
    "        self.conv3 = torch.nn.Conv2d(20, 40, 3)\n",
    "        self.pool = torch.nn.MaxPool2d(2)\n",
    "        \n",
    "    def forward(self, x):\n",
    "        nbatch = len(x)\n",
    "        \n",
    "        x = x.unsqueeze(1)\n",
    "        x = self.conv1(x)\n",
    "        x = self.pool(x)\n",
    "        x = self.conv2(x)\n",
    "        x = self.pool(x)\n",
    "        x = self.conv3(x)\n",
    "        x = self.pool(x)\n",
    "        x = x.view(nbatch, -1)\n",
    "\n",
    "        return x"
   ]
  },
  {
   "cell_type": "code",
   "execution_count": 95,
   "metadata": {},
   "outputs": [
    {
     "data": {
      "text/plain": [
       "<matplotlib.image.AxesImage at 0x7f6bb18a96d0>"
      ]
     },
     "execution_count": 95,
     "metadata": {},
     "output_type": "execute_result"
    },
    {
     "data": {
      "image/png": "[encoded data removed]",
      "text/plain": [
       "<Figure size 432x288 with 1 Axes>"
      ]
     },
     "metadata": {
      "needs_background": "light"
     },
     "output_type": "display_data"
    }
   ],
   "source": [
    "z0 = np.array([0.3, 0.4, .5])\n",
    "x0 = noisemodel(model(z0))\n",
    "plt.imshow(x0)"
   ]
  },
  {
   "cell_type": "code",
   "execution_count": 135,
   "metadata": {},
   "outputs": [
    {
     "name": "stdout",
     "output_type": "stream",
     "text": [
      "Loading datastore: /home/ubuntu/volume1/ring3.zarr\n",
      "WARNING: Datastore is already initialized.\n"
     ]
    }
   ],
   "source": [
    "ds = swyft.DataStoreZarr(\"/home/ubuntu/volume1/ring3.zarr\")\n",
    "ds.init(zdim = 3, xdim = (32, 32))"
   ]
  },
  {
   "cell_type": "code",
   "execution_count": 136,
   "metadata": {},
   "outputs": [
    {
     "name": "stdout",
     "output_type": "stream",
     "text": [
      "Constrained posterior area: 1.0\n",
      "Adding 1069 new samples. Run simulator!\n",
      "Number of output features: 160\n",
      "Start training\n",
      "LR iteration 0\n",
      "Total epochs: 14\n",
      "Validation losses: [6.599543988704681, 5.902556374669075, 5.758092761039734, 5.385423883795738, 5.30008564889431, 4.904616340994835, 4.9228075966238976, 4.621300958096981, 4.577250227332115, 4.211838781833649, 4.162072904407978, 4.432305388152599, 4.962054014205933, 4.436525613069534]\n",
      "LR iteration 1\n",
      "Total epochs: 7\n",
      "Validation losses: [3.868822656571865, 3.8868961930274963, 3.8819635286927223, 3.7915048971772194, 3.960456222295761, 3.8812458589673042, 3.919616773724556]\n",
      "LR iteration 2\n",
      "Total epochs: 5\n",
      "Validation losses: [3.8541460931301117, 3.712156668305397, 3.741412065923214, 3.745158091187477, 3.768900528550148]\n",
      "Constrained posterior area: 0.11190062\n",
      "Adding 1718 new samples. Run simulator!\n",
      "Number of output features: 160\n",
      "Start training\n",
      "LR iteration 0\n",
      "Total epochs: 8\n",
      "Validation losses: [6.106178641319275, 4.851508408784866, 4.3606316819787025, 4.538486957550049, 3.7772614508867264, 3.979463927447796, 3.9121526926755905, 4.047428727149963]\n",
      "LR iteration 1\n",
      "Total epochs: 7\n",
      "Validation losses: [3.4698816537857056, 3.333654448390007, 3.382441021502018, 3.3048317097127438, 3.438311569392681, 3.3935780078172684, 3.381328795105219]\n",
      "LR iteration 2\n",
      "Total epochs: 6\n",
      "Validation losses: [3.375838413834572, 3.330253630876541, 3.2417012453079224, 3.2790032140910625, 3.337231531739235, 3.273619219660759]\n",
      "Constrained posterior area: 0.014608106\n",
      "Adding 1785 new samples. Run simulator!\n",
      "Number of output features: 160\n",
      "Start training\n",
      "LR iteration 0\n",
      "Total epochs: 14\n",
      "Validation losses: [4.488876096904278, 3.959660090506077, 3.1041209846735, 4.113062806427479, 3.0246517173945904, 3.0324786230921745, 2.8222855292260647, 2.79751730710268, 2.610504314303398, 2.9717075303196907, 2.476746879518032, 2.7136972844600677, 2.6744485646486282, 2.7125058695673943]\n",
      "LR iteration 1\n",
      "Total epochs: 10\n",
      "Validation losses: [2.057378388941288, 1.950934048742056, 1.9959191996604204, 1.9084403533488512, 1.9208530262112617, 1.9205897338688374, 1.809378121048212, 1.8230134826153517, 1.8641071170568466, 1.8239604216068983]\n",
      "LR iteration 2\n",
      "Total epochs: 7\n",
      "Validation losses: [1.8717120997607708, 1.8207993991672993, 1.856544103473425, 1.7845049295574427, 1.8217583484947681, 1.786423109471798, 1.8726987726986408]\n",
      "Constrained posterior area: 0.00013730192\n",
      "Adding 2009 new samples. Run simulator!\n",
      "Number of output features: 160\n",
      "Start training\n",
      "LR iteration 0\n",
      "Total epochs: 19\n",
      "Validation losses: [6.84560564160347, 5.049442075192928, 4.4176344871521, 4.56636019796133, 3.6624907702207565, 3.4836286902427673, 3.3697059862315655, 3.3361284285783768, 3.167984139174223, 3.1535110138356686, 3.0850890427827835, 3.2075476944446564, 3.0583426915109158, 3.081027701497078, 3.3190004155039787, 2.8606352545320988, 3.0426278300583363, 3.001676630228758, 2.937778562307358]\n",
      "LR iteration 1\n",
      "Total epochs: 8\n",
      "Validation losses: [2.544971067458391, 2.5187545605003834, 2.5362600684165955, 2.407270811498165, 2.3309060372412205, 2.40004257671535, 2.4384626634418964, 2.332998652011156]\n",
      "LR iteration 2\n",
      "Total epochs: 12\n",
      "Validation losses: [2.455513544380665, 2.376661838963628, 2.389648761600256, 2.424747534096241, 2.3712536469101906, 2.5157888028770685, 2.49574289098382, 2.3244553059339523, 2.305007878690958, 2.3939932491630316, 2.314889580011368, 2.350289396941662]\n",
      "Constrained posterior area: 4.562982e-06\n",
      "Adding 2062 new samples. Run simulator!\n",
      "Number of output features: 160\n",
      "Start training\n",
      "LR iteration 0\n",
      "Total epochs: 10\n",
      "Validation losses: [8.249619007110596, 5.625140488147736, 5.40473185479641, 5.478607505559921, 5.195459224283695, 5.166211478412151, 4.364473730325699, 4.686315163969994, 5.130270503461361, 4.955241039395332]\n",
      "LR iteration 1\n",
      "Total epochs: 23\n",
      "Validation losses: [4.030289903283119, 4.132926799356937, 4.1463517770171165, 3.9812546521425247, 3.959651380777359, 3.9078205600380898, 3.8912913873791695, 4.083250992000103, 3.904799558222294, 3.849911779165268, 3.889372833073139, 3.849590942263603, 3.943294659256935, 3.780239313840866, 3.7752838134765625, 3.834113448858261, 3.749567687511444, 3.796806275844574, 3.8749266117811203, 3.712157756090164, 3.7863240838050842, 3.8855231776833534, 3.9021992832422256]\n",
      "LR iteration 2\n",
      "Total epochs: 5\n",
      "Validation losses: [3.900911182165146, 3.683952473104, 3.7495740056037903, 3.8218595758080482, 3.7677648290991783]\n",
      "Constrained posterior area: 4.4761596e-06\n",
      "Adding 415 new samples. Run simulator!\n",
      "Number of output features: 160\n",
      "Start training\n",
      "LR iteration 0\n",
      "Total epochs: 14\n",
      "Validation losses: [8.303753077983856, 6.168398961424828, 5.266915708780289, 5.023554101586342, 4.986208491027355, 4.75979570299387, 4.803551830351353, 4.5077671855688095, 4.276205264031887, 4.529415585100651, 4.1347175389528275, 4.630193613469601, 4.377866186201572, 4.329580515623093]\n",
      "LR iteration 1\n",
      "Total epochs: 7\n",
      "Validation losses: [3.8125795274972916, 3.766874775290489, 3.8455027043819427, 3.763698510825634, 3.8102379515767097, 3.7878897562623024, 3.801552452147007]\n",
      "LR iteration 2\n",
      "Total epochs: 7\n",
      "Validation losses: [3.7137597873806953, 3.783602498471737, 3.7551045641303062, 3.6680503338575363, 3.6864397823810577, 3.753819964826107, 3.6991918236017227]\n"
     ]
    }
   ],
   "source": [
    "sw_list = []\n",
    "\n",
    "for i_round in range(6):\n",
    "    parent = None if len(sw_list) == 0 else sw_list[-1]\n",
    "    sw = swyft.SWYFT(x0, zdim = 3, device = DEVICE, head = Head, datastore = ds, nsamples = 2000, noisemodel = noisemodel, parent = parent)\n",
    "    sw_list.append(sw)\n",
    "    \n",
    "    if sw.requires_sim():\n",
    "        for i in ds.require_sim():\n",
    "            z = ds.z[i]\n",
    "            x = model(z)\n",
    "            ds.add_sim(i, x)\n",
    "            \n",
    "    sw.train1d(max_epochs = 100, nbatch = 16)"
   ]
  },
  {
   "cell_type": "code",
   "execution_count": 137,
   "metadata": {},
   "outputs": [
    {
     "data": {
      "image/png": "[encoded data removed]",
      "text/plain": [
       "<Figure size 1440x360 with 1 Axes>"
      ]
     },
     "metadata": {
      "needs_background": "light"
     },
     "output_type": "display_data"
    }
   ],
   "source": [
    "plt.figure(figsize=(20, 5))\n",
    "for i in range(3):\n",
    "    z, p = sw_list[-1].posterior(i)\n",
    "    plt.axvline(z0[i])\n",
    "    plt.scatter(z, p)"
   ]
  }
 ],
 "metadata": {
  "kernelspec": {
   "display_name": "Python 3",
   "language": "python",
   "name": "python3"
  },
  "language_info": {
   "codemirror_mode": {
    "name": "ipython",
    "version": 3
   },
   "file_extension": ".py",
   "mimetype": "text/x-python",
   "name": "python",
   "nbconvert_exporter": "python",
   "pygments_lexer": "ipython3",
   "version": "3.7.7"
  }
 },
 "nbformat": 4,
 "nbformat_minor": 4
}
