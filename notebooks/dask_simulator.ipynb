{
 "cells": [
  {
   "cell_type": "code",
   "execution_count": 1,
   "metadata": {},
   "outputs": [],
   "source": [
    "import numpy as np\n",
    "\n",
    "from dask.distributed import LocalCluster"
   ]
  },
  {
   "cell_type": "markdown",
   "metadata": {},
   "source": [
    "# SWYFT simulators using Dask"
   ]
  },
  {
   "cell_type": "code",
   "execution_count": 2,
   "metadata": {},
   "outputs": [],
   "source": [
    "from swyft.simulator import Simulator"
   ]
  },
  {
   "cell_type": "code",
   "execution_count": 3,
   "metadata": {},
   "outputs": [],
   "source": [
    "# parameter set\n",
    "z = np.arange(10000)"
   ]
  },
  {
   "cell_type": "markdown",
   "metadata": {},
   "source": [
    "## python-based simulator"
   ]
  },
  {
   "cell_type": "code",
   "execution_count": 4,
   "metadata": {},
   "outputs": [],
   "source": [
    "def model(z):\n",
    "    \"\"\" \n",
    "    Model with dummy argument\n",
    "    \"\"\"\n",
    "    return np.random.normal()"
   ]
  },
  {
   "cell_type": "code",
   "execution_count": 5,
   "metadata": {},
   "outputs": [],
   "source": [
    "# setup simulator\n",
    "simulator = Simulator(model)"
   ]
  },
  {
   "cell_type": "code",
   "execution_count": 6,
   "metadata": {},
   "outputs": [],
   "source": [
    "# run it with the default Dask scheduler (i.e. multiprocessing) ..\n",
    "x = simulator.run(input_parameters=z)"
   ]
  },
  {
   "cell_type": "code",
   "execution_count": 7,
   "metadata": {},
   "outputs": [],
   "source": [
    "# .. or use the distributed Dask scheduler\n",
    "cluster = LocalCluster()\n",
    "simulator.set_dask_cluster(cluster)\n",
    "x = simulator.run(input_parameters=z)"
   ]
  },
  {
   "cell_type": "code",
   "execution_count": 8,
   "metadata": {},
   "outputs": [
    {
     "data": {
      "text/plain": [
       "(-0.0014657086664376052, 0.9983030050718695)"
      ]
     },
     "execution_count": 8,
     "metadata": {},
     "output_type": "execute_result"
    }
   ],
   "source": [
    "np.mean(x), np.std(x)  # 0. and 1."
   ]
  },
  {
   "cell_type": "markdown",
   "metadata": {},
   "source": [
    "## command-line simulator"
   ]
  },
  {
   "cell_type": "code",
   "execution_count": 9,
   "metadata": {},
   "outputs": [],
   "source": [
    "command = '/Users/fnattino/Programs/swyft/tmp/rand_gaussian/rand_gaussian.x'"
   ]
  },
  {
   "cell_type": "code",
   "execution_count": 10,
   "metadata": {},
   "outputs": [],
   "source": [
    "def set_input(z):\n",
    "    \"\"\"\n",
    "    Dummy argument, write seed for random number generator\n",
    "    \"\"\"\n",
    "    seed = np.random.randint(low=0, high=np.iinfo(np.int32).max)\n",
    "    with open('input.inp', 'w') as f:\n",
    "        f.write(str(seed))\n",
    "        \n",
    "def get_output(stdout, stderr):\n",
    "    \"\"\"\n",
    "    Parse output from stdout\n",
    "    \"\"\"\n",
    "    return float(stdout.strip())"
   ]
  },
  {
   "cell_type": "code",
   "execution_count": 11,
   "metadata": {},
   "outputs": [],
   "source": [
    "# setup simulator\n",
    "simulator = Simulator.from_command(\n",
    "    command=command, \n",
    "    set_input_method=set_input,\n",
    "    get_output_method=get_output,\n",
    "    tmpdir='/tmp/'\n",
    ")"
   ]
  },
  {
   "cell_type": "code",
   "execution_count": 12,
   "metadata": {},
   "outputs": [],
   "source": [
    "# run the simulator\n",
    "x = simulator.run(z)"
   ]
  },
  {
   "cell_type": "code",
   "execution_count": 13,
   "metadata": {},
   "outputs": [
    {
     "name": "stderr",
     "output_type": "stream",
     "text": [
      "/opt/miniconda3/envs/dark_generators/lib/python3.8/site-packages/distributed/node.py:151: UserWarning: Port 8787 is already in use.\n",
      "Perhaps you already have a cluster running?\n",
      "Hosting the HTTP server on port 61876 instead\n",
      "  warnings.warn(\n"
     ]
    }
   ],
   "source": [
    "# also try with distributed Dask scheduler\n",
    "cluster = LocalCluster(threads_per_worker=1)\n",
    "simulator.set_dask_cluster(cluster)\n",
    "x = simulator.run(input_parameters=z)"
   ]
  },
  {
   "cell_type": "code",
   "execution_count": 14,
   "metadata": {},
   "outputs": [
    {
     "data": {
      "text/plain": [
       "(0.0027577676746896366, 1.0040850166553628)"
      ]
     },
     "execution_count": 14,
     "metadata": {},
     "output_type": "execute_result"
    }
   ],
   "source": [
    "np.mean(x), np.std(x)  # 0. and 1."
   ]
  }
 ],
 "metadata": {
  "kernelspec": {
   "display_name": "Python 3",
   "language": "python",
   "name": "python3"
  },
  "language_info": {
   "codemirror_mode": {
    "name": "ipython",
    "version": 3
   },
   "file_extension": ".py",
   "mimetype": "text/x-python",
   "name": "python",
   "nbconvert_exporter": "python",
   "pygments_lexer": "ipython3",
   "version": "3.8.3"
  }
 },
 "nbformat": 4,
 "nbformat_minor": 4
}
