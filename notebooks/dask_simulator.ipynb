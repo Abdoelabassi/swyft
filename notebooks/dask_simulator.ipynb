{
 "cells": [
  {
   "cell_type": "code",
   "execution_count": 1,
   "metadata": {},
   "outputs": [],
   "source": [
    "import swyft\n",
    "import numpy as np\n",
    "from swyft.utils.simulator import Simulator\n",
    "from dask.distributed import LocalCluster\n",
    "import torch"
   ]
  },
  {
   "cell_type": "code",
   "execution_count": 2,
   "metadata": {},
   "outputs": [],
   "source": [
    "prior = swyft.Prior({\"x1\": ['uniform', 0., 1.], \"y1\": ['uniform', 0., 1.],\"r\": ['uniform', 0., 1.]})"
   ]
  },
  {
   "cell_type": "code",
   "execution_count": 3,
   "metadata": {},
   "outputs": [],
   "source": [
    "def model(params, w = 0.03):\n",
    "        \"Ring simulator\"\n",
    "        x1, y1, r = params['x1'], params['y1'], params['r']*0.5\n",
    "        \n",
    "        grid = np.linspace(0, 1, 32, 32)\n",
    "        X, Y = np.meshgrid(grid, grid)\n",
    "        \n",
    "        R1 = ((X-x1)**2 + (Y-y1)**2)**0.5\n",
    "        mu = np.exp(-(R1-r)**2/w**2/2)\n",
    "        \n",
    "        # Add random distortions in terms of lines\n",
    "        for _ in range(20):\n",
    "            xr = np.random.rand(2)\n",
    "            mu += 0.8*np.exp(-(X*xr[0]+Y*(1-xr[0])-xr[1])**2/0.01**2)\n",
    "            \n",
    "        return dict(x=np.array(mu))\n",
    "\n",
    "def noise(obs, params = None, sigma=0.1):\n",
    "    mu = obs['x']\n",
    "    n = np.random.randn(*mu.shape)*sigma\n",
    "    x = mu + n\n",
    "    return dict(x=x)\n"
   ]
  },
  {
   "cell_type": "code",
   "execution_count": 4,
   "metadata": {},
   "outputs": [],
   "source": [
    "z0 = np.array([0.4, 0.5, 0.6])\n",
    "param0 = {'x1': 0.4, 'y1': 0.5, 'r': 0.6}\n",
    "mu0 = model(param0)\n",
    "obs0 = noise(mu0)"
   ]
  },
  {
   "cell_type": "code",
   "execution_count": 5,
   "metadata": {},
   "outputs": [],
   "source": [
    "from swyft.nn import OnlineNormalizationLayer\n",
    "from swyft.nn.module import Module\n",
    "\n",
    "class Head(Module):\n",
    "    def __init__(self, obs_shapes, online_norm = True, obs_transform = None):\n",
    "        super().__init__(obs_shapes=obs_shapes, obs_transform=obs_transform,\n",
    "                online_norm=online_norm)\n",
    "        #print(obs_shapes)\n",
    "        self.obs_transform = obs_transform\n",
    "\n",
    "        self.n_features = 160 #should do automatically\n",
    "\n",
    "        if online_norm:\n",
    "            self.onl_f = OnlineNormalizationLayer(torch.Size([32,32]))\n",
    "        else:\n",
    "            self.onl_f = lambda f: f\n",
    "        self.conv1 = torch.nn.Conv2d(1, 10, 3)\n",
    "        self.conv2 = torch.nn.Conv2d(10, 20, 3)\n",
    "        self.conv3 = torch.nn.Conv2d(20, 40, 3)\n",
    "        self.pool = torch.nn.MaxPool2d(2)\n",
    "\n",
    "    def forward(self, obs):\n",
    "        if self.obs_transform is not None:\n",
    "            obs = self.obs_transform(obs)\n",
    "        '''x = []\n",
    "        for key, value in sorted(obs.items()):\n",
    "            x.append(value)\n",
    "        x = torch.cat(x, dim = -1)\n",
    "        x = self.onl_f(x)'''\n",
    "        x=obs['x']\n",
    "        x = self.onl_f(x)\n",
    "        #print(x.shape)\n",
    "\n",
    "        nbatch = len(x)\n",
    "\n",
    "        x = x.unsqueeze(1)\n",
    "        #print(x.shape)\n",
    "        x = self.conv1(x)\n",
    "        x = self.pool(x)\n",
    "        x = self.conv2(x)\n",
    "        x = self.pool(x)\n",
    "        x = self.conv3(x)\n",
    "        x = self.pool(x)\n",
    "        x = x.view(nbatch, -1)\n",
    "        #print('made forward pass!')\n",
    "        #print(x.shape)\n",
    "\n",
    "        return x"
   ]
  },
  {
   "cell_type": "code",
   "execution_count": 6,
   "metadata": {},
   "outputs": [],
   "source": [
    "simulator = Simulator(model)"
   ]
  },
  {
   "cell_type": "code",
   "execution_count": 7,
   "metadata": {},
   "outputs": [
    {
     "name": "stdout",
     "output_type": "stream",
     "text": [
      "Creating new cache.\n",
      "  adding 2945 new samples to simulator cache.\n"
     ]
    },
    {
     "name": "stderr",
     "output_type": "stream",
     "text": [
      "/home/ouku/miniconda/envs/darkgenerator/lib/python3.9/site-packages/torch/cuda/__init__.py:52: UserWarning: CUDA initialization: Found no NVIDIA driver on your system. Please check that you have an NVIDIA GPU and installed a driver from http://www.nvidia.com/Download/index.aspx (Triggered internally at  /pytorch/c10/cuda/CUDAFunctions.cpp:100.)\n",
      "  return torch._C._cuda_getDeviceCount() > 0\n"
     ]
    },
    {
     "name": "stdout",
     "output_type": "stream",
     "text": [
      "  adding 3100 new samples to simulator cache.\n"
     ]
    }
   ],
   "source": [
    "s = swyft.NestedRatios(simulator, prior, noise = noise, obs = obs0)\n",
    "s.run(max_rounds = 2, train_args = dict(lr_schedule = [1e-3, 1e-4]), head=Head)"
   ]
  }
 ],
 "metadata": {
  "kernelspec": {
   "display_name": "Python 3",
   "language": "python",
   "name": "python3"
  },
  "language_info": {
   "codemirror_mode": {
    "name": "ipython",
    "version": 3
   },
   "file_extension": ".py",
   "mimetype": "text/x-python",
   "name": "python",
   "nbconvert_exporter": "python",
   "pygments_lexer": "ipython3",
   "version": "3.9.2"
  }
 },
 "nbformat": 4,
 "nbformat_minor": 4
}
