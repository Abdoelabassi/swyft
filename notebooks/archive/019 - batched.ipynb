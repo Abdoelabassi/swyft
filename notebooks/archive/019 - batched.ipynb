{
 "cells": [
  {
   "cell_type": "markdown",
   "metadata": {},
   "source": [
    "# Contrastive learning density estimation\n",
    "\n",
    "Author: Christoph Weniger, June 2020"
   ]
  },
  {
   "cell_type": "code",
   "execution_count": 9,
   "metadata": {},
   "outputs": [],
   "source": [
    "import numpy as np\n",
    "import pylab as plt\n",
    "import swyft\n",
    "import torch"
   ]
  },
  {
   "cell_type": "code",
   "execution_count": 10,
   "metadata": {},
   "outputs": [],
   "source": [
    "DEVICE = 'cuda:0'\n",
    "NDIM = 6  # Dimensionality of parameter z\n",
    "NROUNDS = 1  # Optimization rounds"
   ]
  },
  {
   "cell_type": "code",
   "execution_count": 26,
   "metadata": {},
   "outputs": [],
   "source": [
    "# Generative model, x~p(x|z)\n",
    "def model(z, sigma = 0.01):\n",
    "    x = z\n",
    "    n = np.random.randn(*x.shape)*sigma\n",
    "    return x + n"
   ]
  },
  {
   "cell_type": "code",
   "execution_count": 27,
   "metadata": {},
   "outputs": [
    {
     "data": {
      "text/plain": [
       "(6,)"
      ]
     },
     "execution_count": 27,
     "metadata": {},
     "output_type": "execute_result"
    }
   ],
   "source": [
    "z0 = np.ones(NDIM)*0.6\n",
    "x0 = model(z0, sigma = 1e-6)\n",
    "x0.shape"
   ]
  },
  {
   "cell_type": "code",
   "execution_count": 28,
   "metadata": {},
   "outputs": [],
   "source": [
    "sw = swyft.SWYFT(model, NDIM, x0, device = DEVICE)"
   ]
  },
  {
   "cell_type": "code",
   "execution_count": 29,
   "metadata": {},
   "outputs": [
    {
     "name": "stderr",
     "output_type": "stream",
     "text": [
      "100%|██████████| 3000/3000 [00:00<00:00, 124249.90it/s]\n",
      "  2%|▏         | 5/300 [00:00<00:06, 46.03it/s]"
     ]
    },
    {
     "name": "stdout",
     "output_type": "stream",
     "text": [
      "Round:  0\n",
      "Generate samples from constrained prior: z~pc(z)\n",
      "Generate corresponding draws x ~ p(x|z)\n",
      "Network optimization\n"
     ]
    },
    {
     "name": "stderr",
     "output_type": "stream",
     "text": [
      "100%|██████████| 300/300 [00:06<00:00, 46.01it/s]\n",
      "100%|██████████| 300/300 [00:06<00:00, 45.72it/s]\n",
      "100%|██████████| 300/300 [00:06<00:00, 45.74it/s]\n"
     ]
    }
   ],
   "source": [
    "for i in range(NROUNDS):\n",
    "    sw.round(n_sims = 3000, n_train = [300,300,300], lr = [1e-3,1e-4,1e-5], n_batch = 64, p = 0.0)"
   ]
  },
  {
   "cell_type": "code",
   "execution_count": 30,
   "metadata": {},
   "outputs": [],
   "source": [
    "post = []\n",
    "for i in range(NROUNDS):\n",
    "    post.append(sw.get_posteriors(nround=i))"
   ]
  },
  {
   "cell_type": "code",
   "execution_count": 31,
   "metadata": {},
   "outputs": [
    {
     "data": {
      "image/png": "[encoded data removed]",
      "text/plain": [
       "<Figure size 432x288 with 1 Axes>"
      ]
     },
     "metadata": {
      "needs_background": "light"
     },
     "output_type": "display_data"
    }
   ],
   "source": [
    "for i in range(NROUNDS):\n",
    "    for j in range(NDIM):\n",
    "        plt.plot(post[i][j]['z'], np.exp(post[i][j]['lnL']), label=i)\n",
    "        #plt.plot(post[i][0]['z'], post[i][0]['lnL'], label=i)\n",
    "#plt.legend()\n",
    "#plt.xlim([0.45, 0.55])\n",
    "#plt.ylim([-5, 0])"
   ]
  },
  {
   "cell_type": "code",
   "execution_count": null,
   "metadata": {},
   "outputs": [],
   "source": []
  }
 ],
 "metadata": {
  "kernelspec": {
   "display_name": "Python 3",
   "language": "python",
   "name": "python3"
  },
  "language_info": {
   "codemirror_mode": {
    "name": "ipython",
    "version": 3
   },
   "file_extension": ".py",
   "mimetype": "text/x-python",
   "name": "python",
   "nbconvert_exporter": "python",
   "pygments_lexer": "ipython3",
   "version": "3.7.7"
  }
 },
 "nbformat": 4,
 "nbformat_minor": 4
}
