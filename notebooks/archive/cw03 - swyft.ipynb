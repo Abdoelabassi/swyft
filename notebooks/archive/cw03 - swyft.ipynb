{
 "cells": [
  {
   "cell_type": "markdown",
   "metadata": {},
   "source": [
    "# Contrastive learning density estimation\n",
    "\n",
    "Author: Christoph Weniger, June 2020\n",
    "\n",
    "Math behind this can be found here: https://www.notion.so/cweniger/The-math-of-contrastive-learning-6991de9a04c74d84be61239717fdb57c\n",
    "\n",
    "## Purpose\n",
    "\n",
    "- Prototype for systematically test and compare density estimation models"
   ]
  },
  {
   "cell_type": "code",
   "execution_count": 227,
   "metadata": {},
   "outputs": [],
   "source": [
    "import torch\n",
    "from torch import nn as nn\n",
    "import scipy\n",
    "import numpy as np\n",
    "from tqdm import tqdm\n",
    "import pylab as plt\n",
    "from IPython import display\n",
    "import swyft\n",
    "import math"
   ]
  },
  {
   "cell_type": "code",
   "execution_count": 229,
   "metadata": {},
   "outputs": [],
   "source": [
    "# From: https://github.com/pytorch/pytorch/issues/36591\n",
    "\n",
    "class LinearWithChannel(nn.Module):\n",
    "    def __init__(self, input_size, output_size, channel_size):\n",
    "        super(LinearWithChannel, self).__init__()\n",
    "        \n",
    "        #initialize weights\n",
    "        self.w = torch.nn.Parameter(torch.zeros(channel_size, output_size, input_size))\n",
    "        self.b = torch.nn.Parameter(torch.zeros(channel_size, output_size))\n",
    "        \n",
    "        #change weights to kaiming\n",
    "        self.reset_parameters(self.w, self.b)\n",
    "        \n",
    "    def reset_parameters(self, weights, bias):\n",
    "        torch.nn.init.kaiming_uniform_(weights, a=math.sqrt(3))\n",
    "        fan_in, _ = torch.nn.init._calculate_fan_in_and_fan_out(weights)\n",
    "        bound = 1 / math.sqrt(fan_in)\n",
    "        torch.nn.init.uniform_(bias, -bound, bound)\n",
    "    \n",
    "    def forward(self, x):\n",
    "        x = x.unsqueeze(-1)\n",
    "        return torch.matmul(self.w, x).squeeze(-1) + self.b"
   ]
  },
  {
   "cell_type": "code",
   "execution_count": 230,
   "metadata": {},
   "outputs": [],
   "source": [
    "def combine(y, z):\n",
    "    \"\"\"Combines data vector y and parameter vector z.\n",
    "    \n",
    "    y : (ydim) or (nbatch, ydim) (only if nbatch provided for z)\n",
    "    z : (zdim) or (nbatch, zdim)\n",
    "    \n",
    "    returns: (nbatch, zdim, ydim+1)\n",
    "    \"\"\"\n",
    "    y = y.unsqueeze(-2)\n",
    "    z = z.unsqueeze(-1)\n",
    "    y = y.expand(*z.shape[:-1], *y.shape[-1:])\n",
    "    return torch.cat([y, z], -1)"
   ]
  },
  {
   "cell_type": "code",
   "execution_count": 231,
   "metadata": {},
   "outputs": [],
   "source": [
    "class DenseLegs(nn.Module):\n",
    "    def __init__(self, ydim, zdim):\n",
    "        super().__init__()\n",
    "        self.fc1 = LinearWithChannel(ydim+1, 1000, zdim)\n",
    "        self.fc2 = LinearWithChannel(1000, 1000, zdim)\n",
    "        self.fc3 = LinearWithChannel(1000, 100, zdim)\n",
    "        self.fc4 = LinearWithChannel(100, 1, zdim)\n",
    "\n",
    "    def forward(self, y, z):\n",
    "        x = combine(y, z)\n",
    "        x = torch.relu(self.fc1(x))\n",
    "        x = torch.relu(self.fc2(x))\n",
    "        x = torch.relu(self.fc3(x))\n",
    "        x = self.fc4(x).squeeze(-1)\n",
    "        return x"
   ]
  },
  {
   "cell_type": "code",
   "execution_count": 232,
   "metadata": {},
   "outputs": [],
   "source": [
    "class ConvHead(nn.Module):\n",
    "    def __init__(self, xdim):\n",
    "        super().__init__()\n",
    "        self.conv1 = torch.nn.Conv1d(1, 10, 3)\n",
    "        self.conv2 = torch.nn.Conv1d(10, 20, 3)\n",
    "        self.conv3 = torch.nn.Conv1d(20, 30, 3)\n",
    "        self.pool = torch.nn.MaxPool1d(2)\n",
    "        \n",
    "    def forward(self, x):\n",
    "        \"\"\"Input (nbatch, xdim)\"\"\"\n",
    "        x = x.unsqueeze(-2)\n",
    "        x = self.conv1(x)\n",
    "        x = self.pool(x)\n",
    "        x = self.conv2(x)\n",
    "        x = self.pool(x)\n",
    "        x = self.conv3(x)\n",
    "        x = self.pool(x)\n",
    "        return x.flatten(start_dim=-2)"
   ]
  },
  {
   "cell_type": "code",
   "execution_count": 233,
   "metadata": {},
   "outputs": [],
   "source": [
    "class Network(nn.Module):\n",
    "    def __init__(self, xdim, zdim, xz_init = None):\n",
    "        super().__init__()\n",
    "        #self.head = ConvHead(xdim)\n",
    "        self.legs = DenseLegs(xdim, zdim)\n",
    "        \n",
    "        if xz_init is not None:\n",
    "            x_mean, x_std, z_mean, z_std = swyft.get_norms(xz_init)\n",
    "        else:\n",
    "            x_mean, x_std, z_mean, z_std = 0., 1., 0., 1.\n",
    "        self.x_mean = torch.nn.Parameter(torch.tensor(x_mean).float())\n",
    "        self.z_mean = torch.nn.Parameter(torch.tensor(z_mean).float())\n",
    "        self.x_std = torch.nn.Parameter(torch.tensor(x_std).float())\n",
    "        self.z_std = torch.nn.Parameter(torch.tensor(z_std).float())\n",
    "    \n",
    "    def forward(self, x, z):\n",
    "        x = (x-self.x_mean)/self.x_std\n",
    "        z = (z-self.z_mean)/self.z_std\n",
    "        \n",
    "        #x = x.unsqueeze(-2)\n",
    "        #y = self.head(x).squeeze(-2)\n",
    "        out = self.legs(x, z)\n",
    "        return out"
   ]
  },
  {
   "cell_type": "code",
   "execution_count": 234,
   "metadata": {},
   "outputs": [
    {
     "name": "stderr",
     "output_type": "stream",
     "text": [
      "100%|██████████| 1000/1000 [00:01<00:00, 854.10it/s]\n"
     ]
    }
   ],
   "source": [
    "net = Network(10, 50).cuda()\n",
    "x = torch.randn(10).cuda()\n",
    "z = torch.randn(50).cuda()\n",
    "for i in tqdm(range(1000)):\n",
    "    net(x, z)\n",
    "loss = []"
   ]
  },
  {
   "cell_type": "code",
   "execution_count": 136,
   "metadata": {},
   "outputs": [],
   "source": [
    "def model(z, sigma = 0.01):\n",
    "    x = np.linspace(-5, 5, 10)\n",
    "    t = np.sin(x)*z[0]\n",
    "    n = np.random.randn(*t.shape)*sigma\n",
    "    return t + n"
   ]
  },
  {
   "cell_type": "code",
   "execution_count": 137,
   "metadata": {},
   "outputs": [
    {
     "name": "stderr",
     "output_type": "stream",
     "text": [
      "100%|██████████| 10000/10000 [00:00<00:00, 12911.24it/s]\n"
     ]
    }
   ],
   "source": [
    "xz = swyft.init_xz(model, n_sims = 10000, n_dim = 50)"
   ]
  },
  {
   "cell_type": "code",
   "execution_count": 138,
   "metadata": {},
   "outputs": [
    {
     "name": "stderr",
     "output_type": "stream",
     "text": [
      "100%|██████████| 5000/5000 [01:16<00:00, 65.74it/s]\n"
     ]
    }
   ],
   "source": [
    "loss += swyft.train(net, xz, n_steps = 5000, lr = 1e-4, n_particles = 2, device = 'cuda:0')"
   ]
  },
  {
   "cell_type": "code",
   "execution_count": 139,
   "metadata": {},
   "outputs": [
    {
     "data": {
      "text/plain": [
       "[<matplotlib.lines.Line2D at 0x7fc6d76f28d0>]"
      ]
     },
     "execution_count": 139,
     "metadata": {},
     "output_type": "execute_result"
    },
    {
     "data": {
      "image/png": "[encoded data removed]",
      "text/plain": [
       "<Figure size 432x288 with 1 Axes>"
      ]
     },
     "metadata": {
      "needs_background": "light"
     },
     "output_type": "display_data"
    }
   ],
   "source": [
    "plt.plot(loss)"
   ]
  },
  {
   "cell_type": "code",
   "execution_count": 140,
   "metadata": {},
   "outputs": [],
   "source": [
    "x0 = model(np.ones(2)*0.5, sigma = 0.001)\n",
    "z = swyft.get_z(xz)\n",
    "zlnL = swyft.estimate_lnL(net, x0, z, device = 'cuda:0')"
   ]
  },
  {
   "cell_type": "code",
   "execution_count": 141,
   "metadata": {},
   "outputs": [
    {
     "data": {
      "text/plain": [
       "(0.0, 1.1)"
      ]
     },
     "execution_count": 141,
     "metadata": {},
     "output_type": "execute_result"
    },
    {
     "data": {
      "image/png": "[encoded data removed]",
      "text/plain": [
       "<Figure size 432x288 with 1 Axes>"
      ]
     },
     "metadata": {
      "needs_background": "light"
     },
     "output_type": "display_data"
    }
   ],
   "source": [
    "plt.plot(zlnL[0]['z'], np.exp(zlnL[0]['lnL']))\n",
    "plt.ylim([0, 1.1])"
   ]
  },
  {
   "cell_type": "code",
   "execution_count": 142,
   "metadata": {},
   "outputs": [],
   "source": [
    "from collections import defaultdict"
   ]
  },
  {
   "cell_type": "code",
   "execution_count": 143,
   "metadata": {},
   "outputs": [],
   "source": [
    "def iter_sample_z(n_draws, n_dim, net, x0, device = 'cpu'):\n",
    "    \"\"\"Generate parameter samples z~p_c(z) from constrained prior.\n",
    "    \n",
    "    Arguments\n",
    "    ---------\n",
    "    n_draws: Number of draws\n",
    "    n_dim: Number of dimensions of z\n",
    "    net: Trained density network\n",
    "    x0: Reference data\n",
    "    \n",
    "    Returns\n",
    "    -------\n",
    "    z: list of n_dim samples with length n_draws\n",
    "    \"\"\"\n",
    "    done = False\n",
    "    zout = defaultdict(lambda: [])\n",
    "    counter = np.zeros(n_dim)\n",
    "    while not done:\n",
    "        z = swyft.sample_z(n_draws, n_dim)\n",
    "        zlnL = swyft.estimate_lnL(net, x0, z, sort = False, device = device)\n",
    "        for i in range(n_dim):\n",
    "            mask = zlnL[i]['lnL'] > -13\n",
    "            zout[i].append(zlnL[i]['z'][mask])\n",
    "            counter[i] += mask.sum()\n",
    "        done = min(counter) >= n_draws\n",
    "    return np.array([np.concatenate(zout[i])[:n_draws] for i in range(n_dim)]).T"
   ]
  },
  {
   "cell_type": "code",
   "execution_count": 144,
   "metadata": {},
   "outputs": [
    {
     "data": {
      "text/plain": [
       "(0.0, 1.0)"
      ]
     },
     "execution_count": 144,
     "metadata": {},
     "output_type": "execute_result"
    },
    {
     "data": {
      "image/png": "[encoded data removed]",
      "text/plain": [
       "<Figure size 432x288 with 1 Axes>"
      ]
     },
     "metadata": {
      "needs_background": "light"
     },
     "output_type": "display_data"
    }
   ],
   "source": [
    "out = iter_sample_z(5000, 50, net, x0, device = 'cuda:0')\n",
    "plt.scatter(out[:,0], out[:,2])\n",
    "plt.xlim([0, 1])\n",
    "plt.ylim([0, 1])"
   ]
  },
  {
   "cell_type": "code",
   "execution_count": 182,
   "metadata": {},
   "outputs": [
    {
     "name": "stderr",
     "output_type": "stream",
     "text": [
      "100%|██████████| 5000/5000 [00:00<00:00, 12055.47it/s]\n"
     ]
    }
   ],
   "source": [
    "xz2 = swyft.sample_x(model, out)"
   ]
  },
  {
   "cell_type": "code",
   "execution_count": 187,
   "metadata": {},
   "outputs": [
    {
     "name": "stdout",
     "output_type": "stream",
     "text": [
      "[ 0.4800603   0.34007563 -0.17811287 -0.4979542  -0.26407497  0.26391259\n",
      "  0.49814691  0.17812538 -0.34014642 -0.47984431] [0.1253386  0.08926352 0.04759266 0.1302394  0.06959498 0.06947884\n",
      " 0.1298935  0.04759072 0.0893337  0.12536304]\n",
      "[0.50056212 0.5004114  0.5049783  0.50019226 0.50374814 0.49756075\n",
      " 0.49905192 0.50114475 0.49455803 0.49487676 0.5040933  0.50720887\n",
      " 0.50185746 0.50220858 0.4972541  0.49588706 0.50166069 0.49252297\n",
      " 0.50238084 0.50119757 0.50470973 0.49945976 0.50522871 0.50471061\n",
      " 0.50677298 0.49987825 0.50461313 0.50632737 0.49563942 0.4988343\n",
      " 0.49019365 0.49687404 0.50483773 0.4988406  0.5083877  0.50119612\n",
      " 0.48887074 0.50603243 0.49888514 0.49861653 0.49916175 0.49940997\n",
      " 0.50180852 0.50232283 0.50171653 0.50618037 0.49997181 0.49762036\n",
      " 0.50498979 0.49989404] [0.13045594 0.28729462 0.29040692 0.29149094 0.28767967 0.28831745\n",
      " 0.28803412 0.29001173 0.28643978 0.29128894 0.28814812 0.29114812\n",
      " 0.28891753 0.28747903 0.28851397 0.28820216 0.28886435 0.29053883\n",
      " 0.28733987 0.28884554 0.28639914 0.2881563  0.28990796 0.29071594\n",
      " 0.28713036 0.28820928 0.28750748 0.29069237 0.28924723 0.28688006\n",
      " 0.2875277  0.2891925  0.28967303 0.28943458 0.28422917 0.29290333\n",
      " 0.28725919 0.29208257 0.28919906 0.29014972 0.28694025 0.28798553\n",
      " 0.28927082 0.28745277 0.29122144 0.28881914 0.28901433 0.28790506\n",
      " 0.29020352 0.28665084]\n"
     ]
    }
   ],
   "source": [
    "net2 = Network(10, 50, xz_init = xz2).cuda()"
   ]
  },
  {
   "cell_type": "code",
   "execution_count": 200,
   "metadata": {},
   "outputs": [
    {
     "name": "stderr",
     "output_type": "stream",
     "text": [
      "100%|██████████| 300/300 [00:35<00:00,  8.43it/s]\n"
     ]
    }
   ],
   "source": [
    "loss += swyft.train(net2, xz2, n_steps = 300, lr = 1e-3, n_particles = 5, device = 'cuda:0')"
   ]
  },
  {
   "cell_type": "code",
   "execution_count": 203,
   "metadata": {},
   "outputs": [],
   "source": [
    "x0 = model(np.ones(2)*0.50, sigma = 0.0001)\n",
    "z = swyft.get_z(xz2)\n",
    "zlnL = swyft.estimate_lnL(net2, x0, z, device = 'cuda:0')"
   ]
  },
  {
   "cell_type": "code",
   "execution_count": 224,
   "metadata": {},
   "outputs": [
    {
     "data": {
      "text/plain": [
       "(0.0, 1.0)"
      ]
     },
     "execution_count": 224,
     "metadata": {},
     "output_type": "execute_result"
    },
    {
     "data": {
      "image/png": "[encoded data removed]",
      "text/plain": [
       "<Figure size 432x288 with 1 Axes>"
      ]
     },
     "metadata": {
      "needs_background": "light"
     },
     "output_type": "display_data"
    }
   ],
   "source": [
    "plt.plot(zlnL[0]['z'], np.exp(zlnL[0]['lnL']))\n",
    "zz = zlnL[0]['z']\n",
    "plt.plot(zz, np.exp(-(zz-0.5)**2/2/0.01**2))\n",
    "plt.ylim([0.000001, 1.1])\n",
    "plt.gca().set_yscale('log')\n",
    "plt.xlim([0, 1])"
   ]
  },
  {
   "cell_type": "code",
   "execution_count": 205,
   "metadata": {},
   "outputs": [
    {
     "data": {
      "text/plain": [
       "[<matplotlib.lines.Line2D at 0x7fc6ce545210>]"
      ]
     },
     "execution_count": 205,
     "metadata": {},
     "output_type": "execute_result"
    },
    {
     "data": {
      "image/png": "[encoded data removed]",
      "text/plain": [
       "<Figure size 432x288 with 1 Axes>"
      ]
     },
     "metadata": {
      "needs_background": "light"
     },
     "output_type": "display_data"
    }
   ],
   "source": [
    "plt.plot(loss)"
   ]
  },
  {
   "cell_type": "code",
   "execution_count": 206,
   "metadata": {},
   "outputs": [
    {
     "data": {
      "text/plain": [
       "(0.0, 1.0)"
      ]
     },
     "execution_count": 206,
     "metadata": {},
     "output_type": "execute_result"
    },
    {
     "data": {
      "image/png": "[encoded data removed]",
      "text/plain": [
       "<Figure size 432x288 with 1 Axes>"
      ]
     },
     "metadata": {
      "needs_background": "light"
     },
     "output_type": "display_data"
    }
   ],
   "source": [
    "out = iter_sample_z(5000, 50, net2, x0, device = 'cuda:0')\n",
    "plt.scatter(out[:,0], out[:,2])\n",
    "plt.xlim([0, 1])\n",
    "plt.ylim([0, 1])"
   ]
  },
  {
   "cell_type": "code",
   "execution_count": 207,
   "metadata": {},
   "outputs": [
    {
     "name": "stderr",
     "output_type": "stream",
     "text": [
      "100%|██████████| 5000/5000 [00:00<00:00, 10619.72it/s]\n"
     ]
    },
    {
     "name": "stdout",
     "output_type": "stream",
     "text": [
      "[ 0.48416493  0.34331319 -0.17988746 -0.5026567  -0.26625759  0.26641332\n",
      "  0.50279555  0.17957133 -0.34322707 -0.48439336] [0.01951412 0.01568121 0.0117476  0.02013787 0.01362127 0.01365615\n",
      " 0.02025366 0.01173636 0.01563899 0.01962974]\n",
      "[0.50508907 0.49724733 0.49409112 0.50656572 0.49987543 0.50637271\n",
      " 0.50025625 0.50055075 0.50167662 0.49803769 0.5019723  0.49576015\n",
      " 0.49954213 0.49528719 0.49763056 0.50159654 0.5049301  0.49854231\n",
      " 0.49246636 0.50628869 0.50400606 0.49883556 0.49416176 0.50066576\n",
      " 0.49811477 0.49439223 0.49498744 0.50089681 0.49358983 0.49603386\n",
      " 0.49596302 0.50316011 0.50116499 0.49485322 0.4966236  0.50124044\n",
      " 0.49707989 0.50310484 0.4961622  0.49996237 0.49781449 0.49493711\n",
      " 0.5023378  0.50321892 0.50574673 0.50020425 0.49526666 0.50185776\n",
      " 0.49937142 0.50100862] [0.0175284  0.28998137 0.28964053 0.2909744  0.28994346 0.2897614\n",
      " 0.28694367 0.28907266 0.29079832 0.29228477 0.28714872 0.28825742\n",
      " 0.28900569 0.28918323 0.28886632 0.2883505  0.28966834 0.28976917\n",
      " 0.2884745  0.28669241 0.2865008  0.28617972 0.29073511 0.28602659\n",
      " 0.2867853  0.28877398 0.2883714  0.28869216 0.29027738 0.28707855\n",
      " 0.28982943 0.29298515 0.28448375 0.29006235 0.28929258 0.28719038\n",
      " 0.28725166 0.28923499 0.29173448 0.28822903 0.2904195  0.28739727\n",
      " 0.28881772 0.29103553 0.28943411 0.28974094 0.2877784  0.2849044\n",
      " 0.28873192 0.28406019]\n"
     ]
    }
   ],
   "source": [
    "xz3 = swyft.sample_x(model, out)\n",
    "net3 = Network(10, 50, xz_init = xz3).cuda()"
   ]
  },
  {
   "cell_type": "code",
   "execution_count": 216,
   "metadata": {},
   "outputs": [
    {
     "name": "stderr",
     "output_type": "stream",
     "text": [
      " 30%|███       | 304/1000 [00:35<01:21,  8.53it/s]\n"
     ]
    },
    {
     "ename": "KeyboardInterrupt",
     "evalue": "",
     "output_type": "error",
     "traceback": [
      "\u001b[0;31m---------------------------------------------------------------------------\u001b[0m",
      "\u001b[0;31mKeyboardInterrupt\u001b[0m                         Traceback (most recent call last)",
      "\u001b[0;32m<ipython-input-216-7009cdc31039>\u001b[0m in \u001b[0;36m<module>\u001b[0;34m\u001b[0m\n\u001b[0;32m----> 1\u001b[0;31m \u001b[0mloss\u001b[0m \u001b[0;34m=\u001b[0m \u001b[0mswyft\u001b[0m\u001b[0;34m.\u001b[0m\u001b[0mtrain\u001b[0m\u001b[0;34m(\u001b[0m\u001b[0mnet3\u001b[0m\u001b[0;34m,\u001b[0m \u001b[0mxz3\u001b[0m\u001b[0;34m,\u001b[0m \u001b[0mn_steps\u001b[0m \u001b[0;34m=\u001b[0m \u001b[0;36m1000\u001b[0m\u001b[0;34m,\u001b[0m \u001b[0mlr\u001b[0m \u001b[0;34m=\u001b[0m \u001b[0;36m1e-4\u001b[0m\u001b[0;34m,\u001b[0m \u001b[0mn_particles\u001b[0m \u001b[0;34m=\u001b[0m \u001b[0;36m5\u001b[0m\u001b[0;34m,\u001b[0m \u001b[0mdevice\u001b[0m \u001b[0;34m=\u001b[0m \u001b[0;34m'cuda:0'\u001b[0m\u001b[0;34m)\u001b[0m\u001b[0;34m\u001b[0m\u001b[0;34m\u001b[0m\u001b[0m\n\u001b[0m",
      "\u001b[0;32m~/swyft/swyft/core.py\u001b[0m in \u001b[0;36mtrain\u001b[0;34m(network, xz, n_steps, lr, n_particles, device)\u001b[0m\n\u001b[1;32m     48\u001b[0m         \u001b[0moptimizer\u001b[0m\u001b[0;34m.\u001b[0m\u001b[0mzero_grad\u001b[0m\u001b[0;34m(\u001b[0m\u001b[0;34m)\u001b[0m\u001b[0;34m\u001b[0m\u001b[0;34m\u001b[0m\u001b[0m\n\u001b[1;32m     49\u001b[0m \u001b[0;34m\u001b[0m\u001b[0m\n\u001b[0;32m---> 50\u001b[0;31m         \u001b[0mloss\u001b[0m \u001b[0;34m=\u001b[0m \u001b[0mloss_fn\u001b[0m\u001b[0;34m(\u001b[0m\u001b[0mnetwork\u001b[0m\u001b[0;34m,\u001b[0m \u001b[0mxz\u001b[0m\u001b[0;34m,\u001b[0m \u001b[0mn_particles\u001b[0m \u001b[0;34m=\u001b[0m \u001b[0mn_particles\u001b[0m\u001b[0;34m)\u001b[0m\u001b[0;34m\u001b[0m\u001b[0;34m\u001b[0m\u001b[0m\n\u001b[0m\u001b[1;32m     51\u001b[0m         \u001b[0mlosses\u001b[0m\u001b[0;34m.\u001b[0m\u001b[0mappend\u001b[0m\u001b[0;34m(\u001b[0m\u001b[0mloss\u001b[0m\u001b[0;34m.\u001b[0m\u001b[0mdetach\u001b[0m\u001b[0;34m(\u001b[0m\u001b[0;34m)\u001b[0m\u001b[0;34m.\u001b[0m\u001b[0mcpu\u001b[0m\u001b[0;34m(\u001b[0m\u001b[0;34m)\u001b[0m\u001b[0;34m.\u001b[0m\u001b[0mnumpy\u001b[0m\u001b[0;34m(\u001b[0m\u001b[0;34m)\u001b[0m\u001b[0;34m.\u001b[0m\u001b[0mitem\u001b[0m\u001b[0;34m(\u001b[0m\u001b[0;34m)\u001b[0m\u001b[0;34m)\u001b[0m\u001b[0;34m\u001b[0m\u001b[0;34m\u001b[0m\u001b[0m\n\u001b[1;32m     52\u001b[0m         \u001b[0mloss\u001b[0m\u001b[0;34m.\u001b[0m\u001b[0mbackward\u001b[0m\u001b[0;34m(\u001b[0m\u001b[0;34m)\u001b[0m\u001b[0;34m\u001b[0m\u001b[0;34m\u001b[0m\u001b[0m\n",
      "\u001b[0;32m~/swyft/swyft/core.py\u001b[0m in \u001b[0;36mloss_fn\u001b[0;34m(network, xz, n_particles)\u001b[0m\n\u001b[1;32m     30\u001b[0m         \u001b[0mz\u001b[0m \u001b[0;34m=\u001b[0m \u001b[0;34m[\u001b[0m\u001b[0mxz\u001b[0m\u001b[0;34m[\u001b[0m\u001b[0mi\u001b[0m\u001b[0;34m]\u001b[0m\u001b[0;34m[\u001b[0m\u001b[0;34m'z'\u001b[0m\u001b[0;34m]\u001b[0m \u001b[0;32mfor\u001b[0m \u001b[0mi\u001b[0m \u001b[0;32min\u001b[0m \u001b[0mindices\u001b[0m\u001b[0;34m]\u001b[0m\u001b[0;34m\u001b[0m\u001b[0;34m\u001b[0m\u001b[0m\n\u001b[1;32m     31\u001b[0m \u001b[0;34m\u001b[0m\u001b[0m\n\u001b[0;32m---> 32\u001b[0;31m         \u001b[0mx\u001b[0m \u001b[0;34m=\u001b[0m \u001b[0;34m[\u001b[0m\u001b[0mtorch\u001b[0m\u001b[0;34m.\u001b[0m\u001b[0mtensor\u001b[0m\u001b[0;34m(\u001b[0m\u001b[0ma\u001b[0m\u001b[0;34m)\u001b[0m\u001b[0;34m.\u001b[0m\u001b[0mfloat\u001b[0m\u001b[0;34m(\u001b[0m\u001b[0;34m)\u001b[0m\u001b[0;34m.\u001b[0m\u001b[0mto\u001b[0m\u001b[0;34m(\u001b[0m\u001b[0mdevice\u001b[0m\u001b[0;34m)\u001b[0m \u001b[0;32mfor\u001b[0m \u001b[0ma\u001b[0m \u001b[0;32min\u001b[0m \u001b[0mx\u001b[0m\u001b[0;34m]\u001b[0m\u001b[0;34m\u001b[0m\u001b[0;34m\u001b[0m\u001b[0m\n\u001b[0m\u001b[1;32m     33\u001b[0m         \u001b[0mz\u001b[0m \u001b[0;34m=\u001b[0m \u001b[0;34m[\u001b[0m\u001b[0mtorch\u001b[0m\u001b[0;34m.\u001b[0m\u001b[0mtensor\u001b[0m\u001b[0;34m(\u001b[0m\u001b[0ma\u001b[0m\u001b[0;34m)\u001b[0m\u001b[0;34m.\u001b[0m\u001b[0mfloat\u001b[0m\u001b[0;34m(\u001b[0m\u001b[0;34m)\u001b[0m\u001b[0;34m.\u001b[0m\u001b[0mto\u001b[0m\u001b[0;34m(\u001b[0m\u001b[0mdevice\u001b[0m\u001b[0;34m)\u001b[0m \u001b[0;32mfor\u001b[0m \u001b[0ma\u001b[0m \u001b[0;32min\u001b[0m \u001b[0mz\u001b[0m\u001b[0;34m]\u001b[0m\u001b[0;34m\u001b[0m\u001b[0;34m\u001b[0m\u001b[0m\n\u001b[1;32m     34\u001b[0m \u001b[0;34m\u001b[0m\u001b[0m\n",
      "\u001b[0;32m~/swyft/swyft/core.py\u001b[0m in \u001b[0;36m<listcomp>\u001b[0;34m(.0)\u001b[0m\n\u001b[1;32m     30\u001b[0m         \u001b[0mz\u001b[0m \u001b[0;34m=\u001b[0m \u001b[0;34m[\u001b[0m\u001b[0mxz\u001b[0m\u001b[0;34m[\u001b[0m\u001b[0mi\u001b[0m\u001b[0;34m]\u001b[0m\u001b[0;34m[\u001b[0m\u001b[0;34m'z'\u001b[0m\u001b[0;34m]\u001b[0m \u001b[0;32mfor\u001b[0m \u001b[0mi\u001b[0m \u001b[0;32min\u001b[0m \u001b[0mindices\u001b[0m\u001b[0;34m]\u001b[0m\u001b[0;34m\u001b[0m\u001b[0;34m\u001b[0m\u001b[0m\n\u001b[1;32m     31\u001b[0m \u001b[0;34m\u001b[0m\u001b[0m\n\u001b[0;32m---> 32\u001b[0;31m         \u001b[0mx\u001b[0m \u001b[0;34m=\u001b[0m \u001b[0;34m[\u001b[0m\u001b[0mtorch\u001b[0m\u001b[0;34m.\u001b[0m\u001b[0mtensor\u001b[0m\u001b[0;34m(\u001b[0m\u001b[0ma\u001b[0m\u001b[0;34m)\u001b[0m\u001b[0;34m.\u001b[0m\u001b[0mfloat\u001b[0m\u001b[0;34m(\u001b[0m\u001b[0;34m)\u001b[0m\u001b[0;34m.\u001b[0m\u001b[0mto\u001b[0m\u001b[0;34m(\u001b[0m\u001b[0mdevice\u001b[0m\u001b[0;34m)\u001b[0m \u001b[0;32mfor\u001b[0m \u001b[0ma\u001b[0m \u001b[0;32min\u001b[0m \u001b[0mx\u001b[0m\u001b[0;34m]\u001b[0m\u001b[0;34m\u001b[0m\u001b[0;34m\u001b[0m\u001b[0m\n\u001b[0m\u001b[1;32m     33\u001b[0m         \u001b[0mz\u001b[0m \u001b[0;34m=\u001b[0m \u001b[0;34m[\u001b[0m\u001b[0mtorch\u001b[0m\u001b[0;34m.\u001b[0m\u001b[0mtensor\u001b[0m\u001b[0;34m(\u001b[0m\u001b[0ma\u001b[0m\u001b[0;34m)\u001b[0m\u001b[0;34m.\u001b[0m\u001b[0mfloat\u001b[0m\u001b[0;34m(\u001b[0m\u001b[0;34m)\u001b[0m\u001b[0;34m.\u001b[0m\u001b[0mto\u001b[0m\u001b[0;34m(\u001b[0m\u001b[0mdevice\u001b[0m\u001b[0;34m)\u001b[0m \u001b[0;32mfor\u001b[0m \u001b[0ma\u001b[0m \u001b[0;32min\u001b[0m \u001b[0mz\u001b[0m\u001b[0;34m]\u001b[0m\u001b[0;34m\u001b[0m\u001b[0;34m\u001b[0m\u001b[0m\n\u001b[1;32m     34\u001b[0m \u001b[0;34m\u001b[0m\u001b[0m\n",
      "\u001b[0;31mKeyboardInterrupt\u001b[0m: "
     ]
    }
   ],
   "source": [
    "loss = swyft.train(net3, xz3, n_steps = 1000, lr = 1e-4, n_particles = 5, device = 'cuda:0')"
   ]
  },
  {
   "cell_type": "code",
   "execution_count": 219,
   "metadata": {},
   "outputs": [],
   "source": [
    "x0 = model(np.ones(2)*0.50, sigma = 0.0000001)\n",
    "z = swyft.get_z(xz3)\n",
    "zlnL = swyft.estimate_lnL(net3, x0, z, device = 'cuda:0')"
   ]
  },
  {
   "cell_type": "code",
   "execution_count": 225,
   "metadata": {},
   "outputs": [
    {
     "data": {
      "text/plain": [
       "(0.0, 1.0)"
      ]
     },
     "execution_count": 225,
     "metadata": {},
     "output_type": "execute_result"
    },
    {
     "data": {
      "image/png": "[encoded data removed]",
      "text/plain": [
       "<Figure size 432x288 with 1 Axes>"
      ]
     },
     "metadata": {
      "needs_background": "light"
     },
     "output_type": "display_data"
    }
   ],
   "source": [
    "plt.plot(zlnL[0]['z'], np.exp(zlnL[0]['lnL']))\n",
    "zz = zlnL[0]['z']\n",
    "plt.plot(zz, np.exp(-(zz-0.5)**2/2/0.01**2/.1/2))\n",
    "plt.ylim([0.000001, 1.1])\n",
    "plt.gca().set_yscale('log')\n",
    "plt.xlim([0, 1])"
   ]
  },
  {
   "cell_type": "code",
   "execution_count": null,
   "metadata": {},
   "outputs": [],
   "source": []
  }
 ],
 "metadata": {
  "kernelspec": {
   "display_name": "Python 3",
   "language": "python",
   "name": "python3"
  },
  "language_info": {
   "codemirror_mode": {
    "name": "ipython",
    "version": 3
   },
   "file_extension": ".py",
   "mimetype": "text/x-python",
   "name": "python",
   "nbconvert_exporter": "python",
   "pygments_lexer": "ipython3",
   "version": "3.7.7"
  }
 },
 "nbformat": 4,
 "nbformat_minor": 4
}
