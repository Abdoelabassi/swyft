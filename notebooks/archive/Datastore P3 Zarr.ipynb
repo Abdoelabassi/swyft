{
 "cells": [
  {
   "cell_type": "code",
   "execution_count": 185,
   "metadata": {},
   "outputs": [
    {
     "ename": "SyntaxError",
     "evalue": "invalid syntax (interface.py, line 212)",
     "output_type": "error",
     "traceback": [
      "Traceback \u001b[0;36m(most recent call last)\u001b[0m:\n",
      "  File \u001b[1;32m\"/home/ubuntu/miniconda3/envs/lens/lib/python3.7/site-packages/IPython/core/interactiveshell.py\"\u001b[0m, line \u001b[1;32m3331\u001b[0m, in \u001b[1;35mrun_code\u001b[0m\n    exec(code_obj, self.user_global_ns, self.user_ns)\n",
      "  File \u001b[1;32m\"<ipython-input-185-eb3264c90e41>\"\u001b[0m, line \u001b[1;32m5\u001b[0m, in \u001b[1;35m<module>\u001b[0m\n    import swyft\n",
      "\u001b[0;36m  File \u001b[0;32m\"/home/ubuntu/volume1/swyft/swyft/__init__.py\"\u001b[0;36m, line \u001b[0;32m11\u001b[0;36m, in \u001b[0;35m<module>\u001b[0;36m\u001b[0m\n\u001b[0;31m    from .interface import *\u001b[0m\n",
      "\u001b[0;36m  File \u001b[0;32m\"/home/ubuntu/volume1/swyft/swyft/interface.py\"\u001b[0;36m, line \u001b[0;32m212\u001b[0m\n\u001b[0;31m    indices = get_dataset(self.ds, self.model, intensity, noisemodel = self.noisemodel))\u001b[0m\n\u001b[0m                                                                                       ^\u001b[0m\n\u001b[0;31mSyntaxError\u001b[0m\u001b[0;31m:\u001b[0m invalid syntax\n"
     ]
    }
   ],
   "source": [
    "import numpy as np\n",
    "from scipy import stats, random\n",
    "import pylab as plt\n",
    "from itertools import compress\n",
    "import swyft\n",
    "from tqdm import tqdm\n",
    "import zarr\n",
    "import numcodecs\n",
    "import torch\n",
    "import pylab as plt"
   ]
  },
  {
   "cell_type": "code",
   "execution_count": 177,
   "metadata": {},
   "outputs": [],
   "source": [
    "###### Datastore with N samples from normal distribution\n",
    "\n",
    "class DataStore:\n",
    "    def __init__(self, filename):\n",
    "        # Open (new) datastore\n",
    "        self.store = zarr.DirectoryStore(filename)\n",
    "        self.root = zarr.group(store = self.store)\n",
    "        \n",
    "        if 'samples' not in self.root.keys():\n",
    "            print(\"Creating empty datastore:\", filename)\n",
    "            print(\"...don't forget to run `init` to set up storage parameters.\")\n",
    "            return\n",
    "        \n",
    "        print(\"Loading datastore:\", filename)\n",
    "        self.x = self.root['samples/x']\n",
    "        self.z = self.root['samples/z']\n",
    "        self.m = self.root['metadata/needs_sim']\n",
    "        self.u = self.root['metadata/intensity']\n",
    "        \n",
    "    def init(self, xdim, zdim):\n",
    "        \"\"\"Initialize data store.\"\"\"\n",
    "        if 'samples' in self.root.keys():\n",
    "            print(\"WARNING: Datastore is already initialized.\")\n",
    "            return\n",
    "        self.x = self.root.zeros('samples/x', shape=(0,)+xdim, chunks=(1,)+xdim, dtype='f4')\n",
    "        self.z = self.root.zeros('samples/z', shape=(0,)+(zdim,), chunks=(10000,)+(zdim,), dtype='f4')\n",
    "        self.m = self.root.zeros('metadata/needs_sim', shape=(0,1), chunks=(10000,)+(1,), dtype='bool')\n",
    "        self.u = self.root.create('metadata/intensity', shape=(0,), dtype=object, object_codec=numcodecs.Pickle())\n",
    "        print(\"Datastore initialized.\")\n",
    "        \n",
    "    def _append_z(self, z):\n",
    "        \"\"\"Append z to datastore content and new slots for x.\"\"\"\n",
    "        # Add simulation slots\n",
    "        xshape = list(self.x.shape)\n",
    "        xshape[0] += len(z)\n",
    "        self.x.resize(*xshape)\n",
    "        \n",
    "        # Add z samples\n",
    "        self.z.append(z)\n",
    "        \n",
    "        # Register as missing\n",
    "        m = np.ones((len(z),1), dtype='bool')\n",
    "        self.m.append(m)\n",
    "        \n",
    "    def __len__(self):\n",
    "        \"\"\"Returns number of samples in the datastore.\"\"\"\n",
    "        return len(self.z)\n",
    "        \n",
    "    def intensity(self, zlist):\n",
    "        \"\"\"Replace DS intensity function with max of intensity functions.\"\"\"\n",
    "        if len(self.u) == 0:\n",
    "            return np.zeros(len(zlist))\n",
    "        else:\n",
    "            return np.array([self.u[i](zlist) for i in range(len(self.u))]).max(axis=0)\n",
    "        \n",
    "    def _grow(self, p):\n",
    "        \"\"\"Grow number of samples in datastore.\"\"\"\n",
    "        # Proposed new samples z from p\n",
    "        z_prop = p.sample()\n",
    "        \n",
    "        # Rejection sampling from proposal list\n",
    "        accepted = []\n",
    "        ds_intensities = self.intensity(z_prop)\n",
    "        target_intensities = p(z_prop)\n",
    "        for z, Ids, It in zip(z_prop, ds_intensities, target_intensities):\n",
    "            rej_prob = np.minimum(1, Ids/It)\n",
    "            w = np.random.rand(1)[0]\n",
    "            accepted.append(rej_prob < w)\n",
    "        z_accepted = z_prop[accepted, :]\n",
    "        \n",
    "        # Add new entries to datastore and update intensity function\n",
    "        self._append_z(z_accepted)\n",
    "        if len(z_accepted) > 0:\n",
    "            self.u.resize(len(self.u)+1)\n",
    "            self.u[-1] = p\n",
    "            print(\"Adding %i new samples. Run simulator!\"%len(z_accepted))\n",
    "        else:\n",
    "            print(\"No new simulator runs required.\")\n",
    "\n",
    "    def sample(self, p):\n",
    "        self._grow(p)\n",
    "        \n",
    "        accepted = []\n",
    "        zlist = self.z[:]\n",
    "        I_ds = self.intensity(zlist)\n",
    "        I_target = p(zlist)\n",
    "        for i, z in enumerate(zlist):\n",
    "            accept_prob  = I_target[i]/I_ds[i]\n",
    "            assert accept_prob <= 1.\n",
    "            w = np.random.rand(1)[0]\n",
    "            if accept_prob > w:\n",
    "                accepted.append(i)\n",
    "        return accepted\n",
    "    \n",
    "    def __getitem__(self, i):\n",
    "        return self.x[i], self.z[i]\n",
    "                \n",
    "#    def sample(self, mu, p):\n",
    "#        indices = self._sample_indices(mu, p)\n",
    "#        x_sub = list(self.x[i] for \n",
    "#        z_sub = self.z[accepted, :]\n",
    "#        return x_sub, z_sub\n",
    "    \n",
    "    def requires_sim(self):\n",
    "        indices = []\n",
    "        m = self.m[:]\n",
    "        for i in range(len(self.z)):\n",
    "            if m[i]:\n",
    "                indices.append(i)\n",
    "        return indices\n",
    "    \n",
    "    def add_sim(self, i, x):\n",
    "        self.x[i] = x\n",
    "        self.m[i] = False"
   ]
  },
  {
   "cell_type": "code",
   "execution_count": 3,
   "metadata": {},
   "outputs": [],
   "source": [
    "class Intensity:\n",
    "    def __init__(self, mu, z0, z1):\n",
    "        self.mu = mu\n",
    "        self.z0 = np.array(z0)\n",
    "        self.z1 = np.array(z1)\n",
    "        \n",
    "    def sample(self):\n",
    "        N = np.random.poisson(self.mu, 1)[0]\n",
    "        q = np.random.rand(N, len(self.z0))\n",
    "        q *= self.z1 - self.z0\n",
    "        q += self.z0\n",
    "        return q\n",
    "    \n",
    "    def __call__(self, z):\n",
    "        return self._pdf(z)*self.mu\n",
    "\n",
    "    def _pdf(self, z):\n",
    "        val = 1./(self.z1 - self.z0).prod()\n",
    "        return np.where(z >= self.z0, np.where(z <= self.z1, val, 0.), 0.).prod(axis=-1)"
   ]
  },
  {
   "cell_type": "code",
   "execution_count": 4,
   "metadata": {},
   "outputs": [
    {
     "name": "stdout",
     "output_type": "stream",
     "text": [
      "Loading datastore: /home/ubuntu/volume1/dsX.zarr\n",
      "WARNING: Datastore is already initialized.\n"
     ]
    }
   ],
   "source": [
    "ds = DataStore(\"/home/ubuntu/volume1/dsX.zarr\")\n",
    "ds.init(zdim = 2, xdim = (400, 400))"
   ]
  },
  {
   "cell_type": "code",
   "execution_count": 5,
   "metadata": {},
   "outputs": [
    {
     "name": "stdout",
     "output_type": "stream",
     "text": [
      "No new simulator runs required.\n"
     ]
    }
   ],
   "source": [
    "p = Intensity(3000, [0.5, 0.5], [1., 1.])\n",
    "indices = ds.sample(p)\n",
    "indices_req = ds.requires_sim()"
   ]
  },
  {
   "cell_type": "code",
   "execution_count": 6,
   "metadata": {},
   "outputs": [
    {
     "name": "stdout",
     "output_type": "stream",
     "text": [
      "2979 2673\n"
     ]
    }
   ],
   "source": [
    "print(len(indices), len(indices_req))"
   ]
  },
  {
   "cell_type": "code",
   "execution_count": 7,
   "metadata": {},
   "outputs": [],
   "source": [
    "def model(z):\n",
    "    return np.random.randn(400, 400)"
   ]
  },
  {
   "cell_type": "code",
   "execution_count": 8,
   "metadata": {},
   "outputs": [],
   "source": [
    "def simulate(model, ds):\n",
    "    indices = ds.requires_sim()\n",
    "    for i in tqdm(indices, desc=\"Running simulations\"):\n",
    "        _, z = ds[i]\n",
    "        x = model(z)\n",
    "        ds.add_sim(i, x)"
   ]
  },
  {
   "cell_type": "code",
   "execution_count": 9,
   "metadata": {},
   "outputs": [
    {
     "name": "stderr",
     "output_type": "stream",
     "text": [
      "Running simulations: 100%|██████████| 2673/2673 [00:39<00:00, 67.72it/s]\n"
     ]
    }
   ],
   "source": [
    "simulate(model, ds)"
   ]
  },
  {
   "cell_type": "code",
   "execution_count": 790,
   "metadata": {},
   "outputs": [],
   "source": [
    "class Data(torch.utils.data.Dataset):\n",
    "    \"\"\"Simple data container class.\n",
    "\n",
    "    Note: The noisemodel allows scheduled noise level increase during training.\n",
    "    \"\"\"\n",
    "    def __init__(self, datastore, indices, noisemodel = None):\n",
    "        super().__init__()\n",
    "        self.ds = datastore\n",
    "        self.indices = indices\n",
    "        self.noisemodel = noisemodel\n",
    "\n",
    "    def __len__(self):\n",
    "        return len(self.indices)\n",
    "\n",
    "    def __getitem__(self, idx):\n",
    "        # Obtain x, z\n",
    "        i = self.indices[idx]\n",
    "        x = self.ds.x[i]\n",
    "        z = self.ds.z[i]\n",
    "        \n",
    "        # Add optional noise\n",
    "        if self.noisemodel is not None:\n",
    "            x = self.noisemodel(x, z, noiselevel = self.noiselevel)\n",
    "\n",
    "        # Tensors\n",
    "        x = torch.tensor(x).float()\n",
    "        z = torch.tensor(z).float()\n",
    "        \n",
    "        # Done\n",
    "        xz = dict(x=x, z=z)\n",
    "        return xz"
   ]
  },
  {
   "cell_type": "code",
   "execution_count": null,
   "metadata": {},
   "outputs": [],
   "source": []
  },
  {
   "cell_type": "code",
   "execution_count": 10,
   "metadata": {},
   "outputs": [
    {
     "ename": "NameError",
     "evalue": "name 'Datastore' is not defined",
     "output_type": "error",
     "traceback": [
      "\u001b[0;31m---------------------------------------------------------------------------\u001b[0m",
      "\u001b[0;31mNameError\u001b[0m                                 Traceback (most recent call last)",
      "\u001b[0;32m<ipython-input-10-9c28f309ea73>\u001b[0m in \u001b[0;36m<module>\u001b[0;34m\u001b[0m\n\u001b[0;32m----> 1\u001b[0;31m \u001b[0mds\u001b[0m \u001b[0;34m=\u001b[0m \u001b[0mDatastore\u001b[0m\u001b[0;34m(\u001b[0m\u001b[0;34m...\u001b[0m\u001b[0;34m)\u001b[0m\u001b[0;34m\u001b[0m\u001b[0;34m\u001b[0m\u001b[0m\n\u001b[0m\u001b[1;32m      2\u001b[0m \u001b[0msw\u001b[0m \u001b[0;34m=\u001b[0m \u001b[0mSWYFT\u001b[0m\u001b[0;34m(\u001b[0m\u001b[0;34m...\u001b[0m\u001b[0;34m,\u001b[0m \u001b[0mds\u001b[0m \u001b[0;34m=\u001b[0m \u001b[0mds\u001b[0m\u001b[0;34m)\u001b[0m\u001b[0;34m\u001b[0m\u001b[0;34m\u001b[0m\u001b[0m\n",
      "\u001b[0;31mNameError\u001b[0m: name 'Datastore' is not defined"
     ]
    }
   ],
   "source": [
    "ds = Datastore(...)\n",
    "sw = SWYFT(..., ds = ds)\n",
    "status = sw.run(3000, run_sims_inline = True)\n",
    "if status == 'requires_sim':\n",
    "    sim...\n",
    "status == 'requires_sim', 'success', '...'"
   ]
  },
  {
   "cell_type": "code",
   "execution_count": 791,
   "metadata": {},
   "outputs": [],
   "source": [
    "dd = Data(ds, indices)"
   ]
  },
  {
   "cell_type": "code",
   "execution_count": 794,
   "metadata": {},
   "outputs": [
    {
     "name": "stdout",
     "output_type": "stream",
     "text": [
      "tensor(-107.9124)\n",
      "tensor(17.1382)\n",
      "tensor(-80.0679)\n",
      "tensor(133.7194)\n",
      "tensor(371.1330)\n",
      "tensor(-378.2868)\n",
      "tensor(-185.0058)\n",
      "tensor(-300.8576)\n",
      "tensor(112.9492)\n",
      "tensor(-95.6544)\n",
      "tensor(644.2219)\n",
      "tensor(172.4902)\n",
      "tensor(-135.6606)\n",
      "tensor(-153.9301)\n",
      "tensor(-9.1181)\n",
      "tensor(613.3198)\n",
      "tensor(730.1019)\n",
      "tensor(-91.0823)\n",
      "tensor(-368.1519)\n",
      "tensor(302.6432)\n",
      "tensor(51.1544)\n",
      "tensor(491.2526)\n",
      "tensor(-405.9981)\n",
      "tensor(764.8562)\n",
      "tensor(-156.9392)\n"
     ]
    }
   ],
   "source": [
    "for i in range(len(dd)):\n",
    "    print(dd[i]['x'].sum())"
   ]
  },
  {
   "cell_type": "code",
   "execution_count": 178,
   "metadata": {},
   "outputs": [],
   "source": [
    "class Mask1d:\n",
    "    def __init__(self, intervals):\n",
    "        self.intervals = np.array(intervals)  # n x 2 matrix\n",
    "        \n",
    "    def __call__(self, z):\n",
    "        \"\"\"Returns 1. if inside interval, otherwise 0.\"\"\"\n",
    "        m = np.zeros_like(z)\n",
    "        for z0, z1 in self.intervals:\n",
    "            m += np.where(z >= z0, np.where(z <= z1, 1., 0.), 0.)\n",
    "        assert not any(m > 1.), \"Overlapping intervals.\"\n",
    "        return m\n",
    "        \n",
    "    def area(self):\n",
    "        \"\"\"Combined length of all intervals.\"\"\"\n",
    "        return (self.intervals[:, 1] - self.intervals[:, 0]).sum()\n",
    "    \n",
    "    def sample(self, N):\n",
    "        p = self.intervals[:, 1] - self.intervals[:,0]\n",
    "        p /= p.sum()\n",
    "        i = np.random.choice(len(p), size = N, replace = True, p = p)\n",
    "        w = np.random.rand(N)\n",
    "        z = self.intervals[i,0] + w*(self.intervals[i,1] - self.intervals[i,0])\n",
    "        return z"
   ]
  },
  {
   "cell_type": "code",
   "execution_count": 179,
   "metadata": {},
   "outputs": [],
   "source": [
    "class FactorMask:\n",
    "    def __init__(self, masks):\n",
    "        self.masks = masks\n",
    "        self.d = len(masks)\n",
    "    \n",
    "    def __call__(self, z):\n",
    "        m = [self.masks[i](z[:,i]) for i in range(self.d)]\n",
    "        return np.array(m).prod(axis=1)\n",
    "    \n",
    "    def area(self):\n",
    "        m = [self.masks[i].area() for i in range(self.d)]\n",
    "        return np.array(m).prod()\n",
    "    \n",
    "    def sample(self, N):\n",
    "        z = np.empty((N, self.d))\n",
    "        for i in range(self.d):\n",
    "            z[:,i] = self.masks[i].sample(N)\n",
    "        return z"
   ]
  },
  {
   "cell_type": "code",
   "execution_count": 180,
   "metadata": {},
   "outputs": [],
   "source": [
    "class Intensity:\n",
    "    def __init__(self, mu, mask):\n",
    "        self.mu = mu\n",
    "        self.mask = mask\n",
    "        self.area = mask.area()\n",
    "        \n",
    "    def __call__(self, z):\n",
    "        return self.mask(z)/self.area*self.mu\n",
    "    \n",
    "    def sample(self):\n",
    "        N = np.random.poisson(self.mu, 1)[0]\n",
    "        return self.mask.sample(N)"
   ]
  },
  {
   "cell_type": "code",
   "execution_count": 181,
   "metadata": {},
   "outputs": [
    {
     "data": {
      "text/plain": [
       "1.0"
      ]
     },
     "execution_count": 181,
     "metadata": {},
     "output_type": "execute_result"
    }
   ],
   "source": [
    "bins1 = [[0,0.1], [0.9, 1.0]]\n",
    "bins2 = [[0,0.0000001], [0.9, 1.0]]\n",
    "m1 = Mask1d(bins1)\n",
    "m2 = Mask1d(bins2)\n",
    "mf = FactorMask([m1, m2, m2])\n",
    "z = mf.sample(10000)\n",
    "mf(z).max()"
   ]
  },
  {
   "cell_type": "code",
   "execution_count": 182,
   "metadata": {},
   "outputs": [
    {
     "data": {
      "text/plain": [
       "0.4999990000015002"
      ]
     },
     "execution_count": 182,
     "metadata": {},
     "output_type": "execute_result"
    }
   ],
   "source": [
    "I = Intensity(1, mf)\n",
    "I(z).min()/1000"
   ]
  },
  {
   "cell_type": "code",
   "execution_count": 186,
   "metadata": {},
   "outputs": [],
   "source": [
    "def get_lnL(net, x0, z, n_batch = 64):\n",
    "    \"\"\"Return current estimate of normalized marginal 1-dim lnL.\n",
    "\n",
    "    Args:\n",
    "        net (nn.Module): trained ratio estimation net.\n",
    "        x0 (torch.tensor): data.\n",
    "        z : (nsamples, pnum, pdim)\n",
    "        n_batch (int): minibatch size.\n",
    "\n",
    "    Returns:\n",
    "        lnL: (nsamples, pnum)\n",
    "    \"\"\"\n",
    "    nsamples = len(z)\n",
    "\n",
    "    lnL = []\n",
    "    for i in range(nsamples//n_batch+1):\n",
    "        zbatch = z[i*n_batch:(i+1)*n_batch]\n",
    "        lnL += net(x0.unsqueeze(0), zbatch).detach().cpu()\n",
    "\n",
    "    return torch.stack(lnL)"
   ]
  },
  {
   "cell_type": "code",
   "execution_count": 183,
   "metadata": {},
   "outputs": [
    {
     "ename": "NameError",
     "evalue": "name 'swyft' is not defined",
     "output_type": "error",
     "traceback": [
      "\u001b[0;31m---------------------------------------------------------------------------\u001b[0m",
      "\u001b[0;31mNameError\u001b[0m                                 Traceback (most recent call last)",
      "\u001b[0;32m<ipython-input-183-fd61a9d4a2b3>\u001b[0m in \u001b[0;36m<module>\u001b[0;34m\u001b[0m\n\u001b[0;32m----> 1\u001b[0;31m \u001b[0mswyft\u001b[0m\u001b[0;34m.\u001b[0m\u001b[0mget_lnL\u001b[0m\u001b[0;34m\u001b[0m\u001b[0;34m\u001b[0m\u001b[0m\n\u001b[0m",
      "\u001b[0;31mNameError\u001b[0m: name 'swyft' is not defined"
     ]
    }
   ],
   "source": [
    "swyft.get_lnL"
   ]
  },
  {
   "cell_type": "code",
   "execution_count": null,
   "metadata": {},
   "outputs": [],
   "source": []
  }
 ],
 "metadata": {
  "kernelspec": {
   "display_name": "Python 3",
   "language": "python",
   "name": "python3"
  },
  "language_info": {
   "codemirror_mode": {
    "name": "ipython",
    "version": 3
   },
   "file_extension": ".py",
   "mimetype": "text/x-python",
   "name": "python",
   "nbconvert_exporter": "python",
   "pygments_lexer": "ipython3",
   "version": "3.7.7"
  }
 },
 "nbformat": 4,
 "nbformat_minor": 4
}
