{
 "cells": [
  {
   "cell_type": "markdown",
   "metadata": {},
   "source": [
    "# Example of high-level interface"
   ]
  },
  {
   "cell_type": "code",
   "execution_count": 1,
   "metadata": {},
   "outputs": [
    {
     "data": {
      "text/plain": [
       "<torch._C.Generator at 0x7fd5bd579f70>"
      ]
     },
     "execution_count": 1,
     "metadata": {},
     "output_type": "execute_result"
    }
   ],
   "source": [
    "import numpy as np\n",
    "import pylab as plt\n",
    "import swyft\n",
    "import torch\n",
    "%load_ext autoreload\n",
    "%autoreload 2\n",
    "\n",
    "np.random.seed(25)\n",
    "torch.manual_seed(25)"
   ]
  },
  {
   "cell_type": "markdown",
   "metadata": {},
   "source": [
    "## Boilerplate code (to be absorbed in some form into SWYFT)"
   ]
  },
  {
   "cell_type": "code",
   "execution_count": 2,
   "metadata": {},
   "outputs": [],
   "source": [
    "DEVICE = 'cuda:0'\n",
    "NDIM = 2 # number of parameters\n",
    "NBATCH = 64  # minibatch size\n",
    "NTRAIN = 3000\n",
    "NEPOCHS = NTRAIN // (NTRAIN // NBATCH) # training epochs\n",
    "NMAXEPOCHS = 10\n",
    "NSAMPLES = 3000 # traing batch size\n",
    "NWORKERS = 4 # number of cpu workers for dataloader"
   ]
  },
  {
   "cell_type": "code",
   "execution_count": 3,
   "metadata": {},
   "outputs": [],
   "source": [
    "class Data(torch.utils.data.Dataset):\n",
    "    def __init__(self, xz):\n",
    "        super().__init__()\n",
    "        self.xz = xz\n",
    "\n",
    "    def __len__(self):\n",
    "        return len(self.xz)\n",
    "\n",
    "    def __getitem__(self, idx):\n",
    "        return self.xz[idx]"
   ]
  },
  {
   "cell_type": "code",
   "execution_count": 4,
   "metadata": {},
   "outputs": [],
   "source": [
    "def gen_train_data(model, nsamples, zdim, mask = None):\n",
    "    # Generate training data\n",
    "    if mask is None:\n",
    "        z = swyft.sample_hypercube(nsamples, zdim)\n",
    "    else:\n",
    "        z = swyft.sample_constrained_hypercube(nsamples, zdim, mask)\n",
    "    \n",
    "    xz = swyft.simulate_xz(model, z)\n",
    "    dataset = Data(xz)\n",
    "    \n",
    "    return dataset"
   ]
  },
  {
   "cell_type": "code",
   "execution_count": 5,
   "metadata": {},
   "outputs": [],
   "source": [
    "def get_net(combinations = None):\n",
    "    pdim = 1 if combinations is None else len(combinations[0])\n",
    "    pnum = NDIM if combinations is None else len(combinations)\n",
    "    net = swyft.Network(ydim = 3, pnum = pnum, pdim = pdim).to(DEVICE)\n",
    "    return net"
   ]
  },
  {
   "cell_type": "code",
   "execution_count": 6,
   "metadata": {},
   "outputs": [],
   "source": [
    "def train(net, dataset, combinations = None):\n",
    "    nvalid = 512\n",
    "    ntrain = len(dataset) - nvalid\n",
    "    dataset_train, dataset_valid = torch.utils.data.random_split(dataset, [ntrain, nvalid])\n",
    "    train_loader = torch.utils.data.DataLoader(dataset_train, batch_size=NBATCH, num_workers=NWORKERS, pin_memory=True, drop_last=True)\n",
    "    valid_loader = torch.utils.data.DataLoader(dataset_valid, batch_size=NBATCH, num_workers=NWORKERS, pin_memory=True, drop_last=True)\n",
    "    # Train!\n",
    "\n",
    "    train_loss, valid_loss = [], []\n",
    "    for i, lr in enumerate([1e-3, 1e-4, 1e-5]):\n",
    "        print(f'LR Iter {i}', end=\"\\r\")\n",
    "        tl, vl, sd = swyft.train(net, train_loader, valid_loader, early_stopping_patience = 20, lr = lr, max_epochs = NMAXEPOCHS, device=DEVICE, combinations = combinations)\n",
    "        vl_minimum = min(vl)\n",
    "        vl_min_idx = vl.index(vl_minimum)\n",
    "        train_loss.append(tl[:vl_min_idx + 1])\n",
    "        valid_loss.append(vl[:vl_min_idx + 1])\n",
    "        net.load_state_dict(sd)"
   ]
  },
  {
   "cell_type": "code",
   "execution_count": 7,
   "metadata": {},
   "outputs": [],
   "source": [
    "def posteriors(x0, net, dataset, combinations = None):\n",
    "    x0 = torch.tensor(x0).float().to(DEVICE)\n",
    "    z = torch.stack(swyft.get_z(dataset)).to(DEVICE)\n",
    "    z = torch.stack([swyft.combine_z(zs, combinations) for zs in z])\n",
    "    lnL = swyft.get_lnL(net, x0, z)\n",
    "    return z.cpu(), lnL.cpu()"
   ]
  },
  {
   "cell_type": "code",
   "execution_count": 14,
   "metadata": {},
   "outputs": [],
   "source": [
    "class SWYFT:\n",
    "    def __init__(self, x0, model):\n",
    "        self.x0 = x0\n",
    "        self.model = model\n",
    "        \n",
    "        # Each data_store entry has a corresponding mask entry\n",
    "        # TODO: Replace with datastore eventually\n",
    "        self.mask_store = []\n",
    "        self.data_store = []\n",
    "        \n",
    "        # NOTE: Each trained network goes together with evaluated posteriors (evaluated on x0)\n",
    "        self.post1d_store = []\n",
    "        self.net1d_store = []\n",
    "        \n",
    "        # NOTE: We separate N-dim posteriors since they are not used (yet) for refining training data\n",
    "        self.postNd_store = []\n",
    "        self.netNd_store = []\n",
    "        \n",
    "    def train(self):\n",
    "        \"\"\"Train 1-dim posteriors.\"\"\"\n",
    "        # Use most recent dataset by default\n",
    "        dataset = self.data_store[-1]\n",
    "        \n",
    "        # Initialize neural network\n",
    "        net = get_net()\n",
    "        \n",
    "        # Train\n",
    "        train(net, dataset)\n",
    "        \n",
    "        # Get 1-dim posteriors\n",
    "        zgrid, lnLgrid = posteriors(self.x0, net, dataset)\n",
    "        \n",
    "        # Store results\n",
    "        self.net1d_store.append(net)\n",
    "        self.post1d_store.append((zgrid, lnLgrid))\n",
    "        \n",
    "    def data(self):\n",
    "        \"\"\"Generate training data on constrained prior.\"\"\"\n",
    "        if len(self.mask_store) == 0:\n",
    "            mask = None\n",
    "        else:\n",
    "            last_net = self.net1d_store[-1]\n",
    "            mask = swyft.Mask(last_net, torch.tensor(x0).float().to(DEVICE), 1e-8)\n",
    "        \n",
    "        dataset = gen_train_data(self.model, NSAMPLES, NDIM, mask = mask)\n",
    "            \n",
    "        # Store dataset and mask\n",
    "        self.mask_store.append(mask)\n",
    "        self.data_store.append(dataset)\n",
    "        \n",
    "    def run(self, nrounds = 1):\n",
    "        \"\"\"Iteratively generating training data and train 1-dim posteriors.\"\"\"\n",
    "        for i in range(nrounds):    \n",
    "            self.data()\n",
    "            self.train()\n",
    "            \n",
    "    def comb(self, combinations):\n",
    "        \"\"\"Generate N-dim posteriors.\"\"\"\n",
    "        # Use by default data from last 1-dim round\n",
    "        dataset = self.data_store[-1]\n",
    "\n",
    "        # Generate network\n",
    "        net = get_net(combinations = combinations)\n",
    "\n",
    "        # Train!\n",
    "        train(net, dataset, combinations = combinations)\n",
    "\n",
    "        # Get posteriors and store them internally\n",
    "        zgrid, lnLgrid = posteriors(x0, net, dataset, combinations = combinations)\n",
    "\n",
    "        self.postNd_store.append((combinations, zgrid, lnLgrid))\n",
    "        self.netNd_store.append(net)\n",
    "        \n",
    "    def posterior(self, indices):\n",
    "        \"\"\"Return generated posteriors.\"\"\"\n",
    "        if isinstance(indices, int):\n",
    "            i = indices\n",
    "            return self.post1d_store[-1][0][:,i], self.post1d_store[-1][1][:,i]\n",
    "        else:\n",
    "            for i in range(len(self.postNd_store)):\n",
    "                combinations = self.postNd_store[i][0]\n",
    "                if indices in combinations:\n",
    "                    j = combinations.index(indices)\n",
    "                    return self.postNd_store[i][1][:,j], self.postNd_store[i][2][:,j]\n",
    "            print(\"WARNING: Did not find requested parameter combination.\")\n",
    "            return None"
   ]
  },
  {
   "cell_type": "markdown",
   "metadata": {},
   "source": [
    "## Toy generative model"
   ]
  },
  {
   "cell_type": "code",
   "execution_count": 15,
   "metadata": {},
   "outputs": [],
   "source": [
    "def model(z, sigma = .03):\n",
    "    T = np.array([[1, 1.], [0, 1.], [0, 1.]])\n",
    "    n = np.random.randn(3)*sigma\n",
    "    x = T.dot(z) + n\n",
    "    return x"
   ]
  },
  {
   "cell_type": "markdown",
   "metadata": {},
   "source": [
    "## Mock data generation"
   ]
  },
  {
   "cell_type": "code",
   "execution_count": 16,
   "metadata": {},
   "outputs": [
    {
     "name": "stdout",
     "output_type": "stream",
     "text": [
      "[0.98506328 0.46630886 0.51364244] [0.5 0.5]\n"
     ]
    }
   ],
   "source": [
    "z0 = np.ones(2)*0.5\n",
    "x0 = model(z0)\n",
    "print(x0, z0)"
   ]
  },
  {
   "cell_type": "markdown",
   "metadata": {},
   "source": [
    "## Automatic inference 1-dim and 2-dim posteriors"
   ]
  },
  {
   "cell_type": "code",
   "execution_count": 17,
   "metadata": {},
   "outputs": [
    {
     "name": "stdout",
     "output_type": "stream",
     "text": [
      "LR Iter 2\r"
     ]
    },
    {
     "name": "stderr",
     "output_type": "stream",
     "text": [
      "100%|██████████| 47/47 [00:00<00:00, 655.06it/s]\n",
      "100%|██████████| 47/47 [00:00<00:00, 669.35it/s]\n",
      "100%|██████████| 47/47 [00:00<00:00, 669.12it/s]\n"
     ]
    },
    {
     "name": "stdout",
     "output_type": "stream",
     "text": [
      "Constrained posterior volume: 0.5963333333333334\n",
      "LR Iter 2\r"
     ]
    },
    {
     "name": "stderr",
     "output_type": "stream",
     "text": [
      "100%|██████████| 47/47 [00:00<00:00, 660.70it/s]"
     ]
    },
    {
     "name": "stdout",
     "output_type": "stream",
     "text": [
      "LR Iter 0\r"
     ]
    },
    {
     "name": "stderr",
     "output_type": "stream",
     "text": [
      "\n"
     ]
    },
    {
     "name": "stdout",
     "output_type": "stream",
     "text": [
      "LR Iter 2\r"
     ]
    },
    {
     "name": "stderr",
     "output_type": "stream",
     "text": [
      "100%|██████████| 47/47 [00:00<00:00, 593.48it/s]\n"
     ]
    }
   ],
   "source": [
    "sw = SWYFT(x0, model)\n",
    "sw.run(nrounds = 2)\n",
    "sw.comb([[0, 1]])"
   ]
  },
  {
   "cell_type": "markdown",
   "metadata": {},
   "source": [
    "## Plot posteriors"
   ]
  },
  {
   "cell_type": "code",
   "execution_count": 12,
   "metadata": {},
   "outputs": [
    {
     "data": {
      "image/png": "[encoded data removed]",
      "text/plain": [
       "<Figure size 1440x360 with 1 Axes>"
      ]
     },
     "metadata": {
      "needs_background": "light"
     },
     "output_type": "display_data"
    }
   ],
   "source": [
    "plt.figure(figsize=(20, 5))\n",
    "for i in range(NDIM):\n",
    "    zgrid, lnLgrid = sw.posterior(i)\n",
    "    plt.axvline(z0[i])\n",
    "    plt.scatter(zgrid[:], np.exp(lnLgrid[:]))"
   ]
  },
  {
   "cell_type": "code",
   "execution_count": 13,
   "metadata": {},
   "outputs": [
    {
     "data": {
      "text/plain": [
       "(0.0, 1.0)"
      ]
     },
     "execution_count": 13,
     "metadata": {},
     "output_type": "execute_result"
    },
    {
     "data": {
      "image/png": "[encoded data removed]",
      "text/plain": [
       "<Figure size 432x288 with 1 Axes>"
      ]
     },
     "metadata": {
      "needs_background": "light"
     },
     "output_type": "display_data"
    }
   ],
   "source": [
    "zgrid, lnLgrid = sw.posterior([0, 1])\n",
    "plt.scatter(zgrid[:,0], zgrid[:,1], marker='.', color='0.8')\n",
    "max_lnL = lnLgrid[:].max()\n",
    "plt.tricontour(zgrid[:,0], zgrid[:,1], -lnLgrid+max_lnL, levels = [1, 4, 9])\n",
    "plt.xlim([0, 1])\n",
    "plt.ylim([0, 1])"
   ]
  },
  {
   "cell_type": "code",
   "execution_count": null,
   "metadata": {},
   "outputs": [],
   "source": []
  }
 ],
 "metadata": {
  "kernelspec": {
   "display_name": "Python 3",
   "language": "python",
   "name": "python3"
  },
  "language_info": {
   "codemirror_mode": {
    "name": "ipython",
    "version": 3
   },
   "file_extension": ".py",
   "mimetype": "text/x-python",
   "name": "python",
   "nbconvert_exporter": "python",
   "pygments_lexer": "ipython3",
   "version": "3.7.7"
  }
 },
 "nbformat": 4,
 "nbformat_minor": 4
}
