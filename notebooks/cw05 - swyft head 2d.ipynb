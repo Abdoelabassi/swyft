{
 "cells": [
  {
   "cell_type": "markdown",
   "metadata": {},
   "source": [
    "# Contrastive learning density estimation\n",
    "\n",
    "Author: Christoph Weniger, June 2020\n",
    "\n",
    "Math behind this can be found here: https://www.notion.so/cweniger/The-math-of-contrastive-learning-6991de9a04c74d84be61239717fdb57c\n",
    "\n",
    "## Purpose\n",
    "\n",
    "- Prototype for systematically test and compare density estimation models"
   ]
  },
  {
   "cell_type": "code",
   "execution_count": 44,
   "metadata": {},
   "outputs": [],
   "source": [
    "import numpy as np\n",
    "import pylab as plt\n",
    "import swyft\n",
    "import torch"
   ]
  },
  {
   "cell_type": "code",
   "execution_count": 61,
   "metadata": {},
   "outputs": [],
   "source": [
    "def model(z, sigma = 0.01):\n",
    "    x = np.linspace(-5, 5, 30)\n",
    "    X, Y = np.meshgrid(x,x)\n",
    "    t1 = np.cos(X)*np.cos(Y)*z[0]\n",
    "    t2 = np.cos(X)*np.sin(Y)*z[1]\n",
    "    n = np.random.randn(*t1.shape)*sigma\n",
    "    return (t1 + t2 + n)\n",
    "\n",
    "x0 = model(np.array([0.2, .8, 0.5]), sigma = 0.01)"
   ]
  },
  {
   "cell_type": "code",
   "execution_count": 62,
   "metadata": {},
   "outputs": [],
   "source": [
    "#plt.imshow(x0)"
   ]
  },
  {
   "cell_type": "code",
   "execution_count": 63,
   "metadata": {},
   "outputs": [],
   "source": [
    "class Head(torch.nn.Module):\n",
    "    def __init__(self):\n",
    "        super().__init__()\n",
    "        self.conv1 = torch.nn.Conv2d(1, 10, 3)\n",
    "        self.conv2 = torch.nn.Conv2d(10, 20, 3)\n",
    "        self.pool = torch.nn.MaxPool2d(2)\n",
    "        \n",
    "    def forward(self, x):\n",
    "        x = x.unsqueeze(0).unsqueeze(0)\n",
    "        x = self.conv1(x)\n",
    "        x = self.pool(x)\n",
    "        x = self.conv2(x)\n",
    "        x = self.pool(x)\n",
    "        return x.flatten()"
   ]
  },
  {
   "cell_type": "code",
   "execution_count": 64,
   "metadata": {},
   "outputs": [],
   "source": [
    "sw = swyft.SWYFT(model, 3, x0, device = 'cuda:0')"
   ]
  },
  {
   "cell_type": "code",
   "execution_count": 65,
   "metadata": {},
   "outputs": [
    {
     "name": "stderr",
     "output_type": "stream",
     "text": [
      " 29%|██▉       | 289/1000 [00:00<00:00, 2883.71it/s]"
     ]
    },
    {
     "name": "stdout",
     "output_type": "stream",
     "text": [
      "Round:  0\n",
      "Generate samples from constrained prior: z~pc(z)\n",
      "Generate corresponding draws x ~ p(x|z)\n"
     ]
    },
    {
     "name": "stderr",
     "output_type": "stream",
     "text": [
      "100%|██████████| 1000/1000 [00:00<00:00, 2812.52it/s]\n",
      "  0%|          | 4/3000 [00:00<01:17, 38.57it/s]"
     ]
    },
    {
     "name": "stdout",
     "output_type": "stream",
     "text": [
      "Network optimization\n"
     ]
    },
    {
     "name": "stderr",
     "output_type": "stream",
     "text": [
      "100%|██████████| 3000/3000 [01:01<00:00, 48.89it/s]\n"
     ]
    },
    {
     "name": "stdout",
     "output_type": "stream",
     "text": [
      "Round:  1\n",
      "Generate samples from constrained prior: z~pc(z)\n"
     ]
    },
    {
     "name": "stderr",
     "output_type": "stream",
     "text": [
      " 28%|██▊       | 277/1000 [00:00<00:00, 2766.30it/s]"
     ]
    },
    {
     "name": "stdout",
     "output_type": "stream",
     "text": [
      "Generate corresponding draws x ~ p(x|z)\n"
     ]
    },
    {
     "name": "stderr",
     "output_type": "stream",
     "text": [
      "100%|██████████| 1000/1000 [00:00<00:00, 2676.93it/s]\n",
      "  0%|          | 5/3000 [00:00<01:01, 48.31it/s]"
     ]
    },
    {
     "name": "stdout",
     "output_type": "stream",
     "text": [
      "Network optimization\n"
     ]
    },
    {
     "name": "stderr",
     "output_type": "stream",
     "text": [
      "100%|██████████| 3000/3000 [01:00<00:00, 49.19it/s]\n"
     ]
    }
   ],
   "source": [
    "sw.round(n_sims = 1000, n_train = 3000, lr = 1e-4, head = Head().cuda())\n",
    "sw.round(n_sims = 1000, n_train = 3000, lr = 1e-4, head = Head().cuda())"
   ]
  },
  {
   "cell_type": "code",
   "execution_count": 66,
   "metadata": {},
   "outputs": [],
   "source": [
    "post0 = sw.get_posteriors(nround=0)\n",
    "post1 = sw.get_posteriors(nround=1)"
   ]
  },
  {
   "cell_type": "code",
   "execution_count": 67,
   "metadata": {},
   "outputs": [
    {
     "data": {
      "image/png": "[encoded data removed]",
      "text/plain": [
       "<Figure size 432x288 with 1 Axes>"
      ]
     },
     "metadata": {
      "needs_background": "light"
     },
     "output_type": "display_data"
    }
   ],
   "source": [
    "for i in range(3):\n",
    "    plt.plot(post0[i]['z'], np.exp(post0[i]['lnL']))\n",
    "for i in range(3):\n",
    "    plt.plot(post1[i]['z'], np.exp(post1[i]['lnL']))\n",
    "#plt.plot(post1[0]['z'], np.exp(post1[0]['lnL']))\n",
    "#plt.plot(post2[0]['z'], np.exp(post2[0]['lnL']))\n",
    "#plt.plot(post3[0]['z'], np.exp(post3[0]['lnL']))"
   ]
  },
  {
   "cell_type": "code",
   "execution_count": 68,
   "metadata": {},
   "outputs": [
    {
     "data": {
      "text/plain": [
       "<matplotlib.image.AxesImage at 0x7fdfe056dfd0>"
      ]
     },
     "execution_count": 68,
     "metadata": {},
     "output_type": "execute_result"
    },
    {
     "data": {
      "image/png": "[encoded data removed]",
      "text/plain": [
       "<Figure size 432x288 with 1 Axes>"
      ]
     },
     "metadata": {
      "needs_background": "light"
     },
     "output_type": "display_data"
    }
   ],
   "source": [
    "x = sw.xz_store[0][2]['x']\n",
    "plt.imshow(x)"
   ]
  },
  {
   "cell_type": "code",
   "execution_count": null,
   "metadata": {},
   "outputs": [],
   "source": []
  }
 ],
 "metadata": {
  "kernelspec": {
   "display_name": "Python 3",
   "language": "python",
   "name": "python3"
  },
  "language_info": {
   "codemirror_mode": {
    "name": "ipython",
    "version": 3
   },
   "file_extension": ".py",
   "mimetype": "text/x-python",
   "name": "python",
   "nbconvert_exporter": "python",
   "pygments_lexer": "ipython3",
   "version": "3.7.7"
  }
 },
 "nbformat": 4,
 "nbformat_minor": 4
}
