{
  "nbformat": 4,
  "nbformat_minor": 0,
  "metadata": {
    "colab": {
      "name": "Examples - 5. Directory Store.ipynb",
      "provenance": [],
      "collapsed_sections": []
    },
    "kernelspec": {
      "name": "python3",
      "display_name": "Python 3"
    },
    "language_info": {
      "name": "python"
    },
    "accelerator": "GPU"
  },
  "cells": [
    {
      "cell_type": "code",
      "metadata": {
        "colab": {
          "base_uri": "https://localhost:8080/"
        },
        "id": "MZGCjgra6z91",
        "outputId": "2958dbd6-7b0d-47e2-f2d5-3fde3e01e8e3"
      },
      "source": [
        "# DON'T FORGET TO ACTIVATE THE GPU when on google colab (Edit > Notebook settings)\n",
        "from os import environ\n",
        "GOOGLE_COLAB = True if \"COLAB_GPU\" in environ else False\n",
        "if GOOGLE_COLAB:\n",
        "    !pip install git+https://github.com/undark-lab/swyft.git"
      ],
      "execution_count": null,
      "outputs": [
        {
          "output_type": "stream",
          "name": "stdout",
          "text": [
            "Collecting git+https://github.com/undark-lab/swyft.git\n",
            "  Cloning https://github.com/undark-lab/swyft.git to /tmp/pip-req-build-4a18fx4o\n",
            "  Running command git clone -q https://github.com/undark-lab/swyft.git /tmp/pip-req-build-4a18fx4o\n",
            "  Installing build dependencies ... \u001b[?25l\u001b[?25hdone\n",
            "  Getting requirements to build wheel ... \u001b[?25l\u001b[?25hdone\n",
            "    Preparing wheel metadata ... \u001b[?25l\u001b[?25hdone\n",
            "Collecting dask[complete]>=2021.3.0\n",
            "  Downloading dask-2021.9.1-py3-none-any.whl (1.0 MB)\n",
            "\u001b[K     |████████████████████████████████| 1.0 MB 2.8 MB/s \n",
            "\u001b[?25hCollecting fasteners==0.15\n",
            "  Downloading fasteners-0.15-py2.py3-none-any.whl (23 kB)\n",
            "Requirement already satisfied: seaborn in /usr/local/lib/python3.7/dist-packages (from swyft==0.2.1.dev52+g8a6d53e) (0.11.2)\n",
            "Collecting zarr>=2.5.0\n",
            "  Downloading zarr-2.10.1-py3-none-any.whl (146 kB)\n",
            "\u001b[K     |████████████████████████████████| 146 kB 48.3 MB/s \n",
            "\u001b[?25hRequirement already satisfied: torch>=1.4.0 in /usr/local/lib/python3.7/dist-packages (from swyft==0.2.1.dev52+g8a6d53e) (1.9.0+cu111)\n",
            "Requirement already satisfied: numpy>=1.18.1 in /usr/local/lib/python3.7/dist-packages (from swyft==0.2.1.dev52+g8a6d53e) (1.19.5)\n",
            "Requirement already satisfied: scipy>=1.4.1 in /usr/local/lib/python3.7/dist-packages (from swyft==0.2.1.dev52+g8a6d53e) (1.4.1)\n",
            "Collecting scikit-learn>=0.23.2\n",
            "  Downloading scikit_learn-1.0-cp37-cp37m-manylinux_2_12_x86_64.manylinux2010_x86_64.whl (23.1 MB)\n",
            "\u001b[K     |████████████████████████████████| 23.1 MB 1.2 MB/s \n",
            "\u001b[?25hRequirement already satisfied: toolz in /usr/local/lib/python3.7/dist-packages (from swyft==0.2.1.dev52+g8a6d53e) (0.11.1)\n",
            "Requirement already satisfied: pandas in /usr/local/lib/python3.7/dist-packages (from swyft==0.2.1.dev52+g8a6d53e) (1.1.5)\n",
            "Requirement already satisfied: tqdm>=4.46.0 in /usr/local/lib/python3.7/dist-packages (from swyft==0.2.1.dev52+g8a6d53e) (4.62.3)\n",
            "Collecting numcodecs>=0.7.2\n",
            "  Downloading numcodecs-0.9.1-cp37-cp37m-manylinux2010_x86_64.whl (6.2 MB)\n",
            "\u001b[K     |████████████████████████████████| 6.2 MB 10.0 MB/s \n",
            "\u001b[?25hRequirement already satisfied: matplotlib>=3.1.3 in /usr/local/lib/python3.7/dist-packages (from swyft==0.2.1.dev52+g8a6d53e) (3.2.2)\n",
            "Collecting monotonic>=0.1\n",
            "  Downloading monotonic-1.6-py2.py3-none-any.whl (8.2 kB)\n",
            "Requirement already satisfied: six in /usr/local/lib/python3.7/dist-packages (from fasteners==0.15->swyft==0.2.1.dev52+g8a6d53e) (1.15.0)\n",
            "Collecting partd>=0.3.10\n",
            "  Downloading partd-1.2.0-py3-none-any.whl (19 kB)\n",
            "Collecting fsspec>=0.6.0\n",
            "  Downloading fsspec-2021.10.1-py3-none-any.whl (125 kB)\n",
            "\u001b[K     |████████████████████████████████| 125 kB 57.4 MB/s \n",
            "\u001b[?25hRequirement already satisfied: cloudpickle>=1.1.1 in /usr/local/lib/python3.7/dist-packages (from dask[complete]>=2021.3.0->swyft==0.2.1.dev52+g8a6d53e) (1.3.0)\n",
            "Requirement already satisfied: packaging>=20.0 in /usr/local/lib/python3.7/dist-packages (from dask[complete]>=2021.3.0->swyft==0.2.1.dev52+g8a6d53e) (21.0)\n",
            "Requirement already satisfied: pyyaml in /usr/local/lib/python3.7/dist-packages (from dask[complete]>=2021.3.0->swyft==0.2.1.dev52+g8a6d53e) (3.13)\n",
            "Requirement already satisfied: bokeh!=2.0.0,>=1.0.0 in /usr/local/lib/python3.7/dist-packages (from dask[complete]>=2021.3.0->swyft==0.2.1.dev52+g8a6d53e) (2.3.3)\n",
            "Collecting distributed==2021.09.1\n",
            "  Downloading distributed-2021.9.1-py3-none-any.whl (786 kB)\n",
            "\u001b[K     |████████████████████████████████| 786 kB 47.1 MB/s \n",
            "\u001b[?25hRequirement already satisfied: jinja2 in /usr/local/lib/python3.7/dist-packages (from dask[complete]>=2021.3.0->swyft==0.2.1.dev52+g8a6d53e) (2.11.3)\n",
            "Collecting cloudpickle>=1.1.1\n",
            "  Downloading cloudpickle-2.0.0-py3-none-any.whl (25 kB)\n",
            "Requirement already satisfied: click>=6.6 in /usr/local/lib/python3.7/dist-packages (from distributed==2021.09.1->dask[complete]>=2021.3.0->swyft==0.2.1.dev52+g8a6d53e) (7.1.2)\n",
            "Requirement already satisfied: psutil>=5.0 in /usr/local/lib/python3.7/dist-packages (from distributed==2021.09.1->dask[complete]>=2021.3.0->swyft==0.2.1.dev52+g8a6d53e) (5.4.8)\n",
            "Requirement already satisfied: tblib>=1.6.0 in /usr/local/lib/python3.7/dist-packages (from distributed==2021.09.1->dask[complete]>=2021.3.0->swyft==0.2.1.dev52+g8a6d53e) (1.7.0)\n",
            "Requirement already satisfied: zict>=0.1.3 in /usr/local/lib/python3.7/dist-packages (from distributed==2021.09.1->dask[complete]>=2021.3.0->swyft==0.2.1.dev52+g8a6d53e) (2.0.0)\n",
            "Requirement already satisfied: msgpack>=0.6.0 in /usr/local/lib/python3.7/dist-packages (from distributed==2021.09.1->dask[complete]>=2021.3.0->swyft==0.2.1.dev52+g8a6d53e) (1.0.2)\n",
            "Requirement already satisfied: sortedcontainers!=2.0.0,!=2.0.1 in /usr/local/lib/python3.7/dist-packages (from distributed==2021.09.1->dask[complete]>=2021.3.0->swyft==0.2.1.dev52+g8a6d53e) (2.4.0)\n",
            "Requirement already satisfied: tornado>=5 in /usr/local/lib/python3.7/dist-packages (from distributed==2021.09.1->dask[complete]>=2021.3.0->swyft==0.2.1.dev52+g8a6d53e) (5.1.1)\n",
            "Requirement already satisfied: setuptools in /usr/local/lib/python3.7/dist-packages (from distributed==2021.09.1->dask[complete]>=2021.3.0->swyft==0.2.1.dev52+g8a6d53e) (57.4.0)\n",
            "Requirement already satisfied: python-dateutil>=2.1 in /usr/local/lib/python3.7/dist-packages (from bokeh!=2.0.0,>=1.0.0->dask[complete]>=2021.3.0->swyft==0.2.1.dev52+g8a6d53e) (2.8.2)\n",
            "Requirement already satisfied: typing-extensions>=3.7.4 in /usr/local/lib/python3.7/dist-packages (from bokeh!=2.0.0,>=1.0.0->dask[complete]>=2021.3.0->swyft==0.2.1.dev52+g8a6d53e) (3.7.4.3)\n",
            "Requirement already satisfied: pillow>=7.1.0 in /usr/local/lib/python3.7/dist-packages (from bokeh!=2.0.0,>=1.0.0->dask[complete]>=2021.3.0->swyft==0.2.1.dev52+g8a6d53e) (7.1.2)\n",
            "Requirement already satisfied: MarkupSafe>=0.23 in /usr/local/lib/python3.7/dist-packages (from jinja2->dask[complete]>=2021.3.0->swyft==0.2.1.dev52+g8a6d53e) (2.0.1)\n",
            "Requirement already satisfied: cycler>=0.10 in /usr/local/lib/python3.7/dist-packages (from matplotlib>=3.1.3->swyft==0.2.1.dev52+g8a6d53e) (0.10.0)\n",
            "Requirement already satisfied: pyparsing!=2.0.4,!=2.1.2,!=2.1.6,>=2.0.1 in /usr/local/lib/python3.7/dist-packages (from matplotlib>=3.1.3->swyft==0.2.1.dev52+g8a6d53e) (2.4.7)\n",
            "Requirement already satisfied: kiwisolver>=1.0.1 in /usr/local/lib/python3.7/dist-packages (from matplotlib>=3.1.3->swyft==0.2.1.dev52+g8a6d53e) (1.3.2)\n",
            "Requirement already satisfied: pytz>=2017.2 in /usr/local/lib/python3.7/dist-packages (from pandas->swyft==0.2.1.dev52+g8a6d53e) (2018.9)\n",
            "Collecting locket\n",
            "  Downloading locket-0.2.1-py2.py3-none-any.whl (4.1 kB)\n",
            "Collecting threadpoolctl>=2.0.0\n",
            "  Downloading threadpoolctl-3.0.0-py3-none-any.whl (14 kB)\n",
            "Requirement already satisfied: joblib>=0.11 in /usr/local/lib/python3.7/dist-packages (from scikit-learn>=0.23.2->swyft==0.2.1.dev52+g8a6d53e) (1.0.1)\n",
            "Collecting asciitree\n",
            "  Downloading asciitree-0.3.3.tar.gz (4.0 kB)\n",
            "Requirement already satisfied: heapdict in /usr/local/lib/python3.7/dist-packages (from zict>=0.1.3->distributed==2021.09.1->dask[complete]>=2021.3.0->swyft==0.2.1.dev52+g8a6d53e) (1.0.1)\n",
            "Building wheels for collected packages: swyft, asciitree\n",
            "  Building wheel for swyft (PEP 517) ... \u001b[?25l\u001b[?25hdone\n",
            "  Created wheel for swyft: filename=swyft-0.2.1.dev52+g8a6d53e-py3-none-any.whl size=59466 sha256=6bc76aaf4c71014017ff01ba64cd3c71b2990c6927236cb8e7b7e05a1b36d45c\n",
            "  Stored in directory: /tmp/pip-ephem-wheel-cache-vjt34_tc/wheels/2f/17/1b/d5a3f29a80fc800cada79f76285fe179aa7814cb106e5c16e2\n",
            "  Building wheel for asciitree (setup.py) ... \u001b[?25l\u001b[?25hdone\n",
            "  Created wheel for asciitree: filename=asciitree-0.3.3-py3-none-any.whl size=5051 sha256=60c2b4351f257aa80da14c90da79764c6ed76ab9274a0f3cf9778aaca6f48fa2\n",
            "  Stored in directory: /root/.cache/pip/wheels/12/1c/38/0def51e15add93bff3f4bf9c248b94db0839b980b8535e72a0\n",
            "Successfully built swyft asciitree\n",
            "Installing collected packages: locket, partd, fsspec, cloudpickle, monotonic, dask, threadpoolctl, numcodecs, fasteners, distributed, asciitree, zarr, scikit-learn, swyft\n",
            "  Attempting uninstall: cloudpickle\n",
            "    Found existing installation: cloudpickle 1.3.0\n",
            "    Uninstalling cloudpickle-1.3.0:\n",
            "      Successfully uninstalled cloudpickle-1.3.0\n",
            "  Attempting uninstall: dask\n",
            "    Found existing installation: dask 2.12.0\n",
            "    Uninstalling dask-2.12.0:\n",
            "      Successfully uninstalled dask-2.12.0\n",
            "  Attempting uninstall: distributed\n",
            "    Found existing installation: distributed 1.25.3\n",
            "    Uninstalling distributed-1.25.3:\n",
            "      Successfully uninstalled distributed-1.25.3\n",
            "  Attempting uninstall: scikit-learn\n",
            "    Found existing installation: scikit-learn 0.22.2.post1\n",
            "    Uninstalling scikit-learn-0.22.2.post1:\n",
            "      Successfully uninstalled scikit-learn-0.22.2.post1\n",
            "\u001b[31mERROR: pip's dependency resolver does not currently take into account all the packages that are installed. This behaviour is the source of the following dependency conflicts.\n",
            "gym 0.17.3 requires cloudpickle<1.7.0,>=1.2.0, but you have cloudpickle 2.0.0 which is incompatible.\u001b[0m\n",
            "Successfully installed asciitree-0.3.3 cloudpickle-2.0.0 dask-2021.9.1 distributed-2021.9.1 fasteners-0.15 fsspec-2021.10.1 locket-0.2.1 monotonic-1.6 numcodecs-0.9.1 partd-1.2.0 scikit-learn-1.0 swyft-0.2.1.dev52+g8a6d53e threadpoolctl-3.0.0 zarr-2.10.1\n"
          ]
        }
      ]
    },
    {
      "cell_type": "markdown",
      "metadata": {
        "id": "NLcCZoN9Ln9X"
      },
      "source": [
        "# Using a directory-based/permanent store\n",
        "\n",
        "`SWYFT` enables users to perform efficient simulation based inferrence using simulators of their choice (as demonstrated in the External Simulator notebook). While these simulators may be light-weight in many cases, in general they may constitute a significant amouunt of computational time. E.g., should a simulator require 10 seconds to produce a result, then a scenario such as in Quickstart.ipynb would already require more than 8 hours of CPU time for the imulations alone.\n",
        "\n",
        "Many simulators are even more compuutationally expensive, making the ability to reuse simulations across experiments of paramount importance.\n",
        "\n",
        "`SWYFT` addresses this issue with the `DirectoryStore` option, which serializes the sttore to disk using `zarr`. This enables a user to store and reuse simulations (provided they were created using **the same** settings) and even for multiple users/processes to share a store, dramattically increasing efficiency.\n",
        "\n",
        "Here, we briefly demonstrate the use of a directory-based store instead of an in-memory store, again on the basis of the `Quickstart.ipynb` notebook. "
      ]
    },
    {
      "cell_type": "code",
      "metadata": {
        "id": "F4qPfUYOE0YY"
      },
      "source": [
        "import numpy as np\n",
        "import pylab as plt\n",
        "import swyft"
      ],
      "execution_count": null,
      "outputs": []
    },
    {
      "cell_type": "code",
      "metadata": {
        "id": "DgK78OA5FKVt"
      },
      "source": [
        "DEVICE = 'cpu'\n",
        "Ntrain =3000\n",
        "Npars = 2"
      ],
      "execution_count": null,
      "outputs": []
    },
    {
      "cell_type": "code",
      "metadata": {
        "id": "F480HEa4qTcq"
      },
      "source": [
        "def model(v, sigma = 0.2):\n",
        "    x = v + np.random.randn(Npars)*sigma\n",
        "    return dict(x=x)"
      ],
      "execution_count": null,
      "outputs": []
    },
    {
      "cell_type": "code",
      "metadata": {
        "id": "n7Y2BqzRqU7f"
      },
      "source": [
        "import os\n",
        "cwd = os.getcwd()\n"
      ],
      "execution_count": null,
      "outputs": []
    },
    {
      "cell_type": "code",
      "metadata": {
        "id": "gbFvZVmgqbxx"
      },
      "source": [
        "simulator = swyft.Simulator(model, Npars, sim_shapes = {\"x\": (Npars,)})"
      ],
      "execution_count": null,
      "outputs": []
    },
    {
      "cell_type": "markdown",
      "metadata": {
        "id": "8ZJUl5m4qxZJ"
      },
      "source": [
        "## The directory store\n",
        "\n",
        "The directory store is specified using the `DirectoryStore` class. The user must specify the path to the store. If the store doesn't exist, it will be created. Otherwise, `SWYFT` will connect to and reuse an existing store. "
      ]
    },
    {
      "cell_type": "code",
      "metadata": {
        "colab": {
          "base_uri": "https://localhost:8080/"
        },
        "id": "Jxex3KrYqjQW",
        "outputId": "882b2a99-ae6e-460f-ddcf-c93c855df5cc"
      },
      "source": [
        "store = swyft.DirectoryStore(cwd+'/mystore',simulator=simulator)"
      ],
      "execution_count": null,
      "outputs": [
        {
          "output_type": "stream",
          "name": "stdout",
          "text": [
            "Creating new store.\n"
          ]
        }
      ]
    },
    {
      "cell_type": "code",
      "metadata": {
        "id": "XftJuS8J7oJ5",
        "colab": {
          "base_uri": "https://localhost:8080/"
        },
        "outputId": "05ed4584-0503-446d-ae25-93b5ab1611b7"
      },
      "source": [
        "prior = swyft.Prior(lambda u: u*2-1, Npars)\n",
        "store.add(Ntrain, prior)\n",
        "store.simulate()"
      ],
      "execution_count": null,
      "outputs": [
        {
          "output_type": "stream",
          "name": "stdout",
          "text": [
            "Store: Adding 2939 new samples to simulator store.\n"
          ]
        }
      ]
    },
    {
      "cell_type": "code",
      "metadata": {
        "id": "hUwq6-Q6YWw8"
      },
      "source": [
        "dataset = swyft.Dataset(Ntrain, prior, store)\n",
        "post = swyft.Posteriors(dataset)\n"
      ],
      "execution_count": null,
      "outputs": []
    },
    {
      "cell_type": "code",
      "metadata": {
        "colab": {
          "base_uri": "https://localhost:8080/"
        },
        "id": "ulhCYvVXYXIG",
        "outputId": "0302840e-ddb4-45ca-977a-58115b3407fe"
      },
      "source": [
        "post.add([(0, 1)], device=DEVICE)\n",
        "post.train([(0, 1)], max_epochs = 20)"
      ],
      "execution_count": null,
      "outputs": [
        {
          "output_type": "stream",
          "name": "stdout",
          "text": [
            "Training: lr=0.001, Epoch=15, VL=0.5297\n"
          ]
        }
      ]
    },
    {
      "cell_type": "code",
      "metadata": {
        "id": "VlVuoVsfYXbD"
      },
      "source": [
        "v0 = np.zeros(Npars)\n",
        "obs0 = model(v0, sigma = 0.)"
      ],
      "execution_count": null,
      "outputs": []
    },
    {
      "cell_type": "code",
      "metadata": {
        "colab": {
          "base_uri": "https://localhost:8080/",
          "height": 508
        },
        "id": "tEyrSOvWl0ty",
        "outputId": "0fb94839-331b-481d-9064-5c19afb46b2b"
      },
      "source": [
        "samples = post.sample(100000, obs0)\n",
        "swyft.plot_corner(samples, [0, 1], color='k', figsize = (8,8), truth=v0, bins = 40);"
      ],
      "execution_count": null,
      "outputs": [
        {
          "output_type": "display_data",
          "data": {
            "image/png": "[encoded data removed]",
            "text/plain": [
              "<Figure size 576x576 with 4 Axes>"
            ]
          },
          "metadata": {
            "needs_background": "light"
          }
        }
      ]
    }
  ]
}