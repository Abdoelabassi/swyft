{
 "cells": [
  {
   "cell_type": "markdown",
   "metadata": {},
   "source": [
    "# Truncation\n",
    "\n",
    "When the prior is very wide and simulation expense is high, it makes sense to focus our simulations on a certain observation $b_o$. We are effectively estimating the likelihood-to-evidence ratio on a small region around the $\\theta_o$ which produced $x_o$. We do this marginally, therefore we take the product of marginal estimates and let that be our truncated region on which to estimate the likelihood-to-evidence ratio. This notebook demonstrates that technique."
   ]
  },
  {
   "cell_type": "code",
   "execution_count": 1,
   "metadata": {},
   "outputs": [],
   "source": [
    "%load_ext autoreload\n",
    "%autoreload 2"
   ]
  },
  {
   "cell_type": "code",
   "execution_count": 2,
   "metadata": {},
   "outputs": [],
   "source": [
    "# DON'T FORGET TO ACTIVATE THE GPU when on google colab (Edit > Notebook settings)\n",
    "from os import environ\n",
    "GOOGLE_COLAB = True if \"COLAB_GPU\" in environ else False\n",
    "if GOOGLE_COLAB:\n",
    "    !pip install git+https://github.com/undark-lab/swyft.git"
   ]
  },
  {
   "cell_type": "code",
   "execution_count": 3,
   "metadata": {},
   "outputs": [],
   "source": [
    "import numpy as np\n",
    "import pylab as plt\n",
    "import torch\n",
    "\n",
    "import swyft"
   ]
  },
  {
   "cell_type": "code",
   "execution_count": 4,
   "metadata": {},
   "outputs": [],
   "source": [
    "device = 'cuda' if swyft.utils.is_cuda_available() else \"cpu\"\n",
    "n_training_samples = 3000\n",
    "n_parameters = 2\n",
    "marginal_indices_1d, marginal_indices_2d = swyft.utils.get_corner_marginal_indices(n_parameters)\n",
    "observation_key = \"x\"\n",
    "\n",
    "n_posterior_samples_for_truncation = 10_000\n",
    "n_weighted_samples = 10_000"
   ]
  },
  {
   "cell_type": "code",
   "execution_count": 5,
   "metadata": {},
   "outputs": [],
   "source": [
    "def model(v, sigma = 0.01):\n",
    "    x = v + np.random.randn(n_parameters)*sigma\n",
    "    return {observation_key: x}\n",
    "\n",
    "v_o = np.zeros(n_parameters)\n",
    "observation_o = model(v_o, sigma = 0.)\n",
    "\n",
    "n_observation_features = observation_o[observation_key].shape[0]\n",
    "observation_shapes = {key: value.shape for key, value in observation_o.items()}"
   ]
  },
  {
   "cell_type": "code",
   "execution_count": 6,
   "metadata": {},
   "outputs": [
    {
     "name": "stdout",
     "output_type": "stream",
     "text": [
      "Creating new store.\n",
      "Store: Adding 2965 new samples to simulator store.\n"
     ]
    }
   ],
   "source": [
    "simulator = swyft.Simulator(\n",
    "    model, \n",
    "    n_parameters, \n",
    "    sim_shapes={observation_key: observation_shapes}\n",
    ")\n",
    "\n",
    "low = -1 * np.ones(n_parameters)\n",
    "high = 1 * np.ones(n_parameters)\n",
    "prior = swyft.get_uniform_prior(low, high)\n",
    "\n",
    "store = swyft.Store.memory_store(simulator)\n",
    "store.add(n_training_samples, prior)\n",
    "store.simulate()"
   ]
  },
  {
   "cell_type": "markdown",
   "metadata": {},
   "source": [
    "## creating a `do_round` function\n",
    "\n",
    "We call the process of training the marginal likelihood-to-evidence ratio estimator and estimating the support of the truncated prior a `round`. The output of a round is a `bound` object which is then used in the next `round`. It makes sense to encapsulate your round in a function which can be called repeatedly.\n",
    "\n",
    "We will start by truncating in one dimension (with hyperrectangles as bounds)"
   ]
  },
  {
   "cell_type": "code",
   "execution_count": 7,
   "metadata": {},
   "outputs": [],
   "source": [
    "def do_round_1d(bound, observation_focus):\n",
    "    store.add(n_training_samples, prior, bound=bound)\n",
    "    store.simulate()\n",
    "    \n",
    "    dataset = swyft.Dataset(n_training_samples, prior, store, bound = bound)\n",
    "    \n",
    "    network_1d = swyft.get_marginal_classifier(\n",
    "        observation_key=observation_key,\n",
    "        marginal_indices=marginal_indices_1d,\n",
    "        observation_shapes=observation_shapes,\n",
    "        n_parameters=n_parameters,\n",
    "        hidden_features=32,\n",
    "        num_blocks=2,\n",
    "    )\n",
    "    mre_1d = swyft.MarginalRatioEstimator(\n",
    "        marginal_indices=marginal_indices_1d,\n",
    "        network=network_1d,\n",
    "        device=device,\n",
    "    )\n",
    "    mre_1d.train(dataset)\n",
    "    posterior_1d = swyft.MarginalPosterior(mre_1d, prior, bound)\n",
    "    new_bound = posterior_1d.truncate(n_posterior_samples_for_truncation, observation_focus)\n",
    "    return posterior_1d, new_bound"
   ]
  },
  {
   "cell_type": "markdown",
   "metadata": {},
   "source": [
    "## Truncating and estimating the marginal posterior over the truncated region\n",
    "\n",
    "First we train the one-dimensional likelihood-to-evidence ratios, then we train the two-dimensional estimator on the truncated region. This region is defined by the `bound` object."
   ]
  },
  {
   "cell_type": "code",
   "execution_count": 8,
   "metadata": {},
   "outputs": [
    {
     "name": "stdout",
     "output_type": "stream",
     "text": [
      "training: lr=5e-05, epoch=25, validation loss=0.27764\n",
      "Store: Adding 2552 new samples to simulator store.\n",
      "training: lr=5e-05, epoch=25, validation loss=0.57545\n",
      "Store: Adding 137 new samples to simulator store.\n",
      "training: lr=5e-05, epoch=25, validation loss=0.52278\n"
     ]
    }
   ],
   "source": [
    "bound = None\n",
    "for i in range(3):\n",
    "    posterior_1d, bound = do_round_1d(bound, observation_o)"
   ]
  },
  {
   "cell_type": "code",
   "execution_count": 9,
   "metadata": {},
   "outputs": [],
   "source": [
    "network_2d = swyft.get_marginal_classifier(\n",
    "    observation_key=observation_key,\n",
    "    marginal_indices=marginal_indices_2d,\n",
    "    observation_shapes=observation_shapes,\n",
    "    n_parameters=n_parameters,\n",
    "    hidden_features=32,\n",
    "    num_blocks=2,\n",
    ")\n",
    "mre_2d = swyft.MarginalRatioEstimator(\n",
    "    marginal_indices=marginal_indices_2d,\n",
    "    network=network_2d,\n",
    "    device=device,\n",
    ")"
   ]
  },
  {
   "cell_type": "code",
   "execution_count": 10,
   "metadata": {},
   "outputs": [
    {
     "name": "stdout",
     "output_type": "stream",
     "text": [
      "Store: Adding 858 new samples to simulator store.\n"
     ]
    }
   ],
   "source": [
    "store.add(n_training_samples, prior, bound=bound)\n",
    "store.simulate()\n",
    "dataset = swyft.Dataset(n_training_samples, prior, store, bound = bound)"
   ]
  },
  {
   "cell_type": "code",
   "execution_count": 11,
   "metadata": {},
   "outputs": [
    {
     "name": "stdout",
     "output_type": "stream",
     "text": [
      "training: lr=0.0005, epoch=25, validation loss=0.03345\n"
     ]
    }
   ],
   "source": [
    "mre_2d.train(dataset)"
   ]
  },
  {
   "cell_type": "code",
   "execution_count": 12,
   "metadata": {},
   "outputs": [],
   "source": [
    "weighted_samples_1d = posterior_1d.weighted_sample(n_weighted_samples, observation_o)\n",
    "\n",
    "posterior_2d = swyft.MarginalPosterior(mre_2d, prior, bound)\n",
    "weighted_samples_2d = posterior_2d.weighted_sample(n_weighted_samples, observation_o)"
   ]
  },
  {
   "cell_type": "code",
   "execution_count": 13,
   "metadata": {},
   "outputs": [
    {
     "name": "stderr",
     "output_type": "stream",
     "text": [
      "1it [00:42, 42.34s/it]\n"
     ]
    },
    {
     "data": {
      "image/png": "[encoded data removed]",
      "text/plain": [
       "<Figure size 432x288 with 4 Axes>"
      ]
     },
     "metadata": {
      "needs_background": "light"
     },
     "output_type": "display_data"
    }
   ],
   "source": [
    "_, _ = swyft.plot.corner(\n",
    "    weighted_samples_1d.get_df_dict(), \n",
    "    weighted_samples_2d.get_df_dict(),\n",
    "    kde=True,\n",
    "    truth=v_o,\n",
    "    xlim=[-0.15, 0.15],\n",
    "    ylim_lower=[-0.15, 0.15],\n",
    "    bins=200,\n",
    ")"
   ]
  },
  {
   "cell_type": "markdown",
   "metadata": {},
   "source": [
    "## Repeat but truncate in two dimensions\n",
    "\n",
    "First we train the two-dimensional likelihood-to-evidence ratio. We use that bound to estimate the one-dimensional likelihood-to-evidence ratios."
   ]
  },
  {
   "cell_type": "code",
   "execution_count": 14,
   "metadata": {},
   "outputs": [],
   "source": [
    "def do_round_2d(bound, observation_focus):\n",
    "    store.add(n_training_samples, prior, bound=bound)\n",
    "    store.simulate()\n",
    "    \n",
    "    dataset = swyft.Dataset(n_training_samples, prior, store, bound = bound)\n",
    "    \n",
    "    network_2d = swyft.get_marginal_classifier(\n",
    "        observation_key=observation_key,\n",
    "        marginal_indices=marginal_indices_2d,\n",
    "        observation_shapes=observation_shapes,\n",
    "        n_parameters=n_parameters,\n",
    "        hidden_features=32,\n",
    "        num_blocks=2,\n",
    "    )\n",
    "    mre_2d = swyft.MarginalRatioEstimator(\n",
    "        marginal_indices=marginal_indices_2d,\n",
    "        network=network_2d,\n",
    "        device=device,\n",
    "    )\n",
    "    mre_2d.train(dataset)\n",
    "    \n",
    "    posterior_2d = swyft.MarginalPosterior(mre_2d, prior, bound)\n",
    "    new_bound = posterior_1d.truncate(n_posterior_samples_for_truncation, observation_focus)\n",
    "    \n",
    "    return posterior_2d, new_bound"
   ]
  },
  {
   "cell_type": "code",
   "execution_count": 15,
   "metadata": {},
   "outputs": [
    {
     "name": "stdout",
     "output_type": "stream",
     "text": [
      "training: lr=0.0005, epoch=25, validation loss=0.002791\n",
      "Store: Adding 26 new samples to simulator store.\n",
      "training: lr=5e-05, epoch=25, validation loss=0.059874\n",
      "Store: Adding 2 new samples to simulator store.\n",
      "training: lr=0.0005, epoch=25, validation loss=0.06786\n"
     ]
    }
   ],
   "source": [
    "bound = None\n",
    "for i in range(3):\n",
    "    posterior_2d, bound = do_round_2d(bound, observation_o)"
   ]
  },
  {
   "cell_type": "code",
   "execution_count": 16,
   "metadata": {},
   "outputs": [
    {
     "name": "stdout",
     "output_type": "stream",
     "text": [
      "training: lr=5e-05, epoch=25, validation loss=0.59875\n"
     ]
    }
   ],
   "source": [
    "network_1d = swyft.get_marginal_classifier(\n",
    "    observation_key=observation_key,\n",
    "    marginal_indices=marginal_indices_1d,\n",
    "    observation_shapes=observation_shapes,\n",
    "    n_parameters=n_parameters,\n",
    "    hidden_features=32,\n",
    "    num_blocks=2,\n",
    ")\n",
    "mre_1d = swyft.MarginalRatioEstimator(\n",
    "    marginal_indices=marginal_indices_1d,\n",
    "    network=network_1d,\n",
    "    device=device,\n",
    ")\n",
    "mre_1d.train(dataset)"
   ]
  },
  {
   "cell_type": "code",
   "execution_count": 18,
   "metadata": {},
   "outputs": [
    {
     "name": "stdout",
     "output_type": "stream",
     "text": [
      "Store: Adding 2 new samples to simulator store.\n"
     ]
    }
   ],
   "source": [
    "store.add(n_training_samples, prior, bound=bound)\n",
    "store.simulate()\n",
    "dataset = swyft.Dataset(n_training_samples, prior, store, bound = bound)"
   ]
  },
  {
   "cell_type": "code",
   "execution_count": 19,
   "metadata": {},
   "outputs": [
    {
     "name": "stdout",
     "output_type": "stream",
     "text": [
      "training: lr=5e-08, epoch=25, validation loss=0.5361\n"
     ]
    }
   ],
   "source": [
    "mre_1d.train(dataset)"
   ]
  },
  {
   "cell_type": "code",
   "execution_count": 20,
   "metadata": {},
   "outputs": [],
   "source": [
    "posterior_1d = swyft.MarginalPosterior(mre_1d, prior, bound)\n",
    "weighted_samples_1d = posterior_1d.weighted_sample(n_weighted_samples, observation_o)\n",
    "\n",
    "weighted_samples_2d = posterior_2d.weighted_sample(n_weighted_samples, observation_o)"
   ]
  },
  {
   "cell_type": "code",
   "execution_count": 21,
   "metadata": {},
   "outputs": [
    {
     "name": "stderr",
     "output_type": "stream",
     "text": [
      "1it [00:42, 42.42s/it]\n"
     ]
    },
    {
     "data": {
      "image/png": "[encoded data removed]",
      "text/plain": [
       "<Figure size 432x288 with 4 Axes>"
      ]
     },
     "metadata": {
      "needs_background": "light"
     },
     "output_type": "display_data"
    }
   ],
   "source": [
    "_, _ = swyft.plot.corner(\n",
    "    weighted_samples_1d.get_df_dict(), \n",
    "    weighted_samples_2d.get_df_dict(),\n",
    "    kde=True,\n",
    "    truth=v_o,\n",
    "    xlim=[-0.15, 0.15],\n",
    "    ylim_lower=[-0.15, 0.15],\n",
    "    bins=200,\n",
    ")"
   ]
  },
  {
   "cell_type": "code",
   "execution_count": null,
   "metadata": {},
   "outputs": [],
   "source": []
  }
 ],
 "metadata": {
  "kernelspec": {
   "display_name": "Python 3 (ipykernel)",
   "language": "python",
   "name": "python3"
  },
  "language_info": {
   "codemirror_mode": {
    "name": "ipython",
    "version": 3
   },
   "file_extension": ".py",
   "mimetype": "text/x-python",
   "name": "python",
   "nbconvert_exporter": "python",
   "pygments_lexer": "ipython3",
   "version": "3.8.11"
  }
 },
 "nbformat": 4,
 "nbformat_minor": 4
}
