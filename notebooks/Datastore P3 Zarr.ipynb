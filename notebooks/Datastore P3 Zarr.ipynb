{
 "cells": [
  {
   "cell_type": "code",
   "execution_count": 404,
   "metadata": {},
   "outputs": [],
   "source": [
    "import numpy as np\n",
    "from scipy import stats, random\n",
    "import pylab as plt\n",
    "from itertools import compress\n",
    "from tqdm import tqdm\n",
    "import zarr\n",
    "import numcodecs\n",
    "\n",
    "import pylab as plt"
   ]
  },
  {
   "cell_type": "code",
   "execution_count": 681,
   "metadata": {},
   "outputs": [],
   "source": [
    "###### Datastore with N samples from normal distribution\n",
    "\n",
    "class DataStore:\n",
    "    def __init__(self, filename):\n",
    "        # Open (new) datastore\n",
    "        self.store = zarr.DirectoryStore(filename)\n",
    "        self.root = zarr.group(store = self.store)\n",
    "        \n",
    "        if 'samples' not in self.root.keys():\n",
    "            print(\"Creating empty datastore:\", filename)\n",
    "            print(\"...don't forget to run `init` to set up storage parameters.\")\n",
    "            return\n",
    "        \n",
    "        print(\"Loading datastore:\", filename)\n",
    "        self.x = self.root['samples/x']\n",
    "        self.z = self.root['samples/z']\n",
    "        self.m = self.root['metadata/needs_sim']\n",
    "        self.u = self.root['metadata/intensity']\n",
    "        \n",
    "    def init(self, xdim, zdim):\n",
    "        \"\"\"Initialize data store.\"\"\"\n",
    "        if 'samples' in self.root.keys():\n",
    "            print(\"WARNING: Datastore is already initialized.\")\n",
    "            return\n",
    "        self.x = self.root.zeros('samples/x', shape=(0,)+xdim, chunks=(1,)+xdim, dtype='f4')\n",
    "        self.z = self.root.zeros('samples/z', shape=(0,)+(zdim,), chunks=(10000,)+(zdim,), dtype='f4')\n",
    "        self.m = self.root.zeros('metadata/needs_sim', shape=(0,1), chunks=(10000,)+(1,), dtype='bool')\n",
    "        self.u = self.root.create('metadata/intensity', shape=(0,), dtype=object, object_codec=numcodecs.Pickle())\n",
    "        print(\"Datastore initialized.\")\n",
    "        \n",
    "    def _append_z(self, z):\n",
    "        \"\"\"Append z to datastore content and new slots for x.\"\"\"\n",
    "        # Add simulation slots\n",
    "        xshape = list(self.x.shape)\n",
    "        xshape[0] += len(z)\n",
    "        self.x.resize(*xshape)\n",
    "        \n",
    "        # Add z samples\n",
    "        self.z.append(z)\n",
    "        \n",
    "        # Register as missing\n",
    "        m = np.ones((len(z),1), dtype='bool')\n",
    "        self.m.append(m)\n",
    "        \n",
    "    def __len__(self):\n",
    "        \"\"\"Returns number of samples in the datastore.\"\"\"\n",
    "        return len(self.z)\n",
    "        \n",
    "    def intensity(self, zlist):\n",
    "        \"\"\"Replace DS intensity function with max of intensity functions.\"\"\"\n",
    "        if len(self.u) == 0:\n",
    "            return np.zeros(len(zlist))\n",
    "        else:\n",
    "            return np.array([self.u[i](zlist) for i in range(len(self.u))]).max(axis=0)\n",
    "        \n",
    "    def _grow(self, p):\n",
    "        \"\"\"Grow number of samples in datastore.\"\"\"\n",
    "        # Proposed new samples z from p\n",
    "        z_prop = p.sample()\n",
    "        \n",
    "        # Rejection sampling from proposal list\n",
    "        accepted = []\n",
    "        ds_intensities = self.intensity(z_prop)\n",
    "        target_intensities = p(z_prop)\n",
    "        for z, Ids, It in zip(z_prop, ds_intensities, target_intensities):\n",
    "            rej_prob = np.minimum(1, Ids/It)\n",
    "            w = np.random.rand(1)[0]\n",
    "            accepted.append(rej_prob < w)\n",
    "        z_accepted = z_prop[accepted, :]\n",
    "        \n",
    "        # Add new entries to datastore and update intensity function\n",
    "        self._append_z(z_accepted)\n",
    "        if len(z_accepted) > 0:\n",
    "            self.u.resize(len(self.u)+1)\n",
    "            self.u[-1] = p\n",
    "            print(\"Adding %i new samples. Run simulator!\"%len(z_accepted))\n",
    "        else:\n",
    "            print(\"No new simulator runs required.\")\n",
    "\n",
    "    def sample(self, p):\n",
    "        self._grow(p)\n",
    "        \n",
    "        accepted = []\n",
    "        zlist = self.z[:]\n",
    "        I_ds = self.intensity(zlist)\n",
    "        I_target = p(zlist)\n",
    "        for i, z in enumerate(zlist):\n",
    "            accept_prob  = I_target[i]/I_ds[i]\n",
    "            assert accept_prob <= 1.\n",
    "            w = np.random.rand(1)[0]\n",
    "            if accept_prob > w:\n",
    "                accepted.append(i)\n",
    "        return accepted\n",
    "    \n",
    "    def __getitem__(self, i):\n",
    "        return self.x[i], self.z[i]\n",
    "                \n",
    "#    def sample(self, mu, p):\n",
    "#        indices = self._sample_indices(mu, p)\n",
    "#        x_sub = list(self.x[i] for \n",
    "#        z_sub = self.z[accepted, :]\n",
    "#        return x_sub, z_sub\n",
    "    \n",
    "    def requires_sim(self):\n",
    "        indices = []\n",
    "        m = self.m[:]\n",
    "        for i in range(len(self.z)):\n",
    "            if m[i]:\n",
    "                indices.append(i)\n",
    "        return indices\n",
    "    \n",
    "    def add_sim(self, i, x):\n",
    "        self.x[i] = x\n",
    "        self.m[i] = False"
   ]
  },
  {
   "cell_type": "code",
   "execution_count": 682,
   "metadata": {},
   "outputs": [],
   "source": [
    "class Intensity:\n",
    "    def __init__(self, mu, z0, z1):\n",
    "        self.mu = mu\n",
    "        self.z0 = np.array(z0)\n",
    "        self.z1 = np.array(z1)\n",
    "        \n",
    "    def sample(self):\n",
    "        N = np.random.poisson(self.mu, 1)[0]\n",
    "        q = np.random.rand(N, len(self.z0))\n",
    "        q *= self.z1 - self.z0\n",
    "        q += self.z0\n",
    "        return q\n",
    "    \n",
    "    def __call__(self, z):\n",
    "        return self._pdf(z)*self.mu\n",
    "\n",
    "    def _pdf(self, z):\n",
    "        val = 1./(self.z1 - self.z0).prod()\n",
    "        return np.where(z >= self.z0, np.where(z <= self.z1, val, 0.), 0.).prod(axis=-1)"
   ]
  },
  {
   "cell_type": "code",
   "execution_count": 751,
   "metadata": {},
   "outputs": [
    {
     "name": "stdout",
     "output_type": "stream",
     "text": [
      "Loading datastore: /home/ubuntu/volume1/dsH.zarr\n",
      "WARNING: Datastore is already initialized.\n"
     ]
    }
   ],
   "source": [
    "ds = DataStore(\"/home/ubuntu/volume1/dsH.zarr\")\n",
    "ds.init(zdim = 2, xdim = (400, 400))"
   ]
  },
  {
   "cell_type": "code",
   "execution_count": 752,
   "metadata": {},
   "outputs": [
    {
     "name": "stdout",
     "output_type": "stream",
     "text": [
      "No new simulator runs required.\n"
     ]
    }
   ],
   "source": [
    "p = Intensity(2000, [0.0, 0.0], [1., 1.])\n",
    "indices = ds.sample(p)\n",
    "indices_req = ds.requires_sim()"
   ]
  },
  {
   "cell_type": "code",
   "execution_count": 753,
   "metadata": {},
   "outputs": [
    {
     "name": "stdout",
     "output_type": "stream",
     "text": [
      "2001 0\n"
     ]
    }
   ],
   "source": [
    "print(len(indices), len(indices_req))"
   ]
  },
  {
   "cell_type": "code",
   "execution_count": 754,
   "metadata": {},
   "outputs": [],
   "source": [
    "def model(z):\n",
    "    return np.random.randn(400, 400)\n",
    "\n",
    "for i in indices_req:\n",
    "    _, z = ds[i]\n",
    "    x = model(z)\n",
    "    ds.add_sim(i, x)"
   ]
  }
 ],
 "metadata": {
  "kernelspec": {
   "display_name": "Python 3",
   "language": "python",
   "name": "python3"
  },
  "language_info": {
   "codemirror_mode": {
    "name": "ipython",
    "version": 3
   },
   "file_extension": ".py",
   "mimetype": "text/x-python",
   "name": "python",
   "nbconvert_exporter": "python",
   "pygments_lexer": "ipython3",
   "version": "3.7.7"
  }
 },
 "nbformat": 4,
 "nbformat_minor": 4
}
