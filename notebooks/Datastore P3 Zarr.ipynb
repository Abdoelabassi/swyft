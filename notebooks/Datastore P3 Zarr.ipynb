{
 "cells": [
  {
   "cell_type": "code",
   "execution_count": 219,
   "metadata": {},
   "outputs": [],
   "source": [
    "import numpy as np\n",
    "from scipy import stats, random\n",
    "import pylab as plt\n",
    "from itertools import compress\n",
    "from tqdm import tqdm\n",
    "import zarr\n",
    "import numcodecs\n",
    "\n",
    "import pylab as plt"
   ]
  },
  {
   "cell_type": "code",
   "execution_count": 323,
   "metadata": {},
   "outputs": [],
   "source": [
    "###### Datastore with N samples from normal distribution\n",
    "\n",
    "class DataStore:\n",
    "    def __init__(self, filename):\n",
    "        # Open (new) datastore\n",
    "        self.store = zarr.DirectoryStore(filename)\n",
    "        self.root = zarr.group(store = self.store)\n",
    "        \n",
    "        if 'samples' not in self.root.keys():\n",
    "            print(\"Creating new datastore:\", filename)\n",
    "            print(\"Run `init` to set up storage parameters.\")\n",
    "            return\n",
    "        \n",
    "        self.x = self.root['samples/x']\n",
    "        self.z = self.root['samples/z']\n",
    "        self.m = self.root['metadata/needs_sim']\n",
    "        self.u = self.root['metadata/intensity']\n",
    "        \n",
    "    def init(self, xdim, zdim):\n",
    "        \"\"\"Initialize data store.\"\"\"\n",
    "        if 'samples' in self.root.keys():\n",
    "            print(\"Datastore is already initialized.\")\n",
    "            return\n",
    "        self.x = self.root.zeros('samples/x', shape=(0,)+xdim, chunks=(1,)+xdim, dtype='f4')\n",
    "        self.z = self.root.zeros('samples/z', shape=(0,)+(zdim,), chunks=(100,)+(zdim,), dtype='f4')\n",
    "        self.m = self.root.zeros('metadata/needs_sim', shape=(0,1), chunks=(100,)+(1,), dtype='bool')\n",
    "        self.u = self.root.create('metadata/intensity', shape=(0,), dtype=object, object_codec=numcodecs.Pickle())\n",
    "        \n",
    "    def _append_z(self, z):\n",
    "        \"\"\"Append z to datastore content and new slots for x.\"\"\"\n",
    "        # Add simulation slots\n",
    "        xshape = list(self.x.shape)\n",
    "        xshape[0] += len(z)\n",
    "        self.x.resize(*xshape)\n",
    "        \n",
    "        # Add z samples\n",
    "        self.z.append(z)\n",
    "        \n",
    "        # Register as missing\n",
    "        m = np.ones((len(z),1), dtype='bool')\n",
    "        self.m.append(m)\n",
    "            \n",
    "# General\n",
    "        \n",
    "    def __len__(self):\n",
    "        \"\"\"Returns number of samples in the datastore.\"\"\"\n",
    "        return len(self.z)\n",
    "        \n",
    "    def intensity(self, z):\n",
    "        \"\"\"Replace DS intensity function with max of intensity functions.\"\"\"\n",
    "        return max([0,]+[self.u[i](z) for i in range(len(self.u))])\n",
    "        \n",
    "    def _grow(self, p):\n",
    "        \"\"\"Grow number of samples in datastore.\"\"\"\n",
    "        # Proposed new samples z from p\n",
    "        z_prop = p.sample()\n",
    "        \n",
    "        # Rejection sampling from proposal list\n",
    "        accepted = []\n",
    "        for z in tqdm(z_prop, desc = \"Adding samples.\"):\n",
    "            rej_prob = np.minimum(1, self.intensity(z)/p(z))\n",
    "            w = np.random.rand(1)[0]\n",
    "            accepted.append(rej_prob < w)\n",
    "        z_accepted = z_prop[accepted, :]\n",
    "        print(\"Adding %i new samples.\"%len(z_accepted))\n",
    "        \n",
    "        # Add new entries to datastore and update intensity function\n",
    "        self._append_z(z_accepted)\n",
    "        if len(z_accepted) > 0:\n",
    "            self.u.resize(len(self.u)+1)\n",
    "            self.u[-1] = p\n",
    "            return True\n",
    "        else:\n",
    "            return False\n",
    "        \n",
    "    def sample(self, p):\n",
    "        grown = self._grow(p)\n",
    "        if grown:\n",
    "            print(\"Need to run simulator!\")\n",
    "            return None\n",
    "        \n",
    "        accepted = []\n",
    "        for i, z in tqdm(enumerate(self.z), desc = \"Extracting samples.\"):\n",
    "            accept_prob  = p(z)/self.intensity(z)\n",
    "            if accept_prob > 1.:\n",
    "                print(\"Warning: Run grow!\")\n",
    "                return None, None\n",
    "            w = np.random.rand(1)[0]\n",
    "            if accept_prob > w:\n",
    "                accepted.append(i)\n",
    "        return accepted\n",
    "    \n",
    "    def __getitem__(self, i):\n",
    "        return self.x[i], self.z[i]\n",
    "                \n",
    "#    def sample(self, mu, p):\n",
    "#        indices = self._sample_indices(mu, p)\n",
    "#        x_sub = list(self.x[i] for \n",
    "#        z_sub = self.z[accepted, :]\n",
    "#        return x_sub, z_sub\n",
    "    \n",
    "    def needs_sim(self):\n",
    "        indices = []\n",
    "        for i in range(len(self.z)):\n",
    "            if self.m[i]:\n",
    "                indices.append(i)\n",
    "        return indices\n",
    "    \n",
    "    def add_sim(self, i, x):\n",
    "        self.x[i] = x\n",
    "        self.m[i] = False"
   ]
  },
  {
   "cell_type": "code",
   "execution_count": 324,
   "metadata": {},
   "outputs": [],
   "source": [
    "class Intensity:\n",
    "    def __init__(self, mu, z0, z1):\n",
    "        self.mu = mu\n",
    "        self.z0 = np.array(z0)\n",
    "        self.z1 = np.array(z1)\n",
    "        \n",
    "    def sample(self):\n",
    "        N = np.random.poisson(self.mu, 1)[0]\n",
    "        q = np.random.rand(N, len(self.z0))\n",
    "        q *= self.z1 - self.z0\n",
    "        q += self.z0\n",
    "        return q\n",
    "    \n",
    "    def __call__(self, z):\n",
    "        return self._pdf(z)*self.mu\n",
    "\n",
    "    def _pdf(self, z):\n",
    "        if any(z < self.z0) or any(z > self.z1):\n",
    "            return 0.\n",
    "        else:\n",
    "            return 1./(self.z1 - self.z0).prod()"
   ]
  },
  {
   "cell_type": "code",
   "execution_count": 341,
   "metadata": {},
   "outputs": [
    {
     "name": "stdout",
     "output_type": "stream",
     "text": [
      "Datastore is already initialized.\n"
     ]
    }
   ],
   "source": [
    "ds = DataStore(\"test3.zarr\")\n",
    "ds.init(zdim = 2, xdim = (100, 100))"
   ]
  },
  {
   "cell_type": "code",
   "execution_count": 344,
   "metadata": {},
   "outputs": [
    {
     "name": "stderr",
     "output_type": "stream",
     "text": [
      "Adding samples.: 100%|██████████| 503/503 [00:00<00:00, 1723.41it/s]"
     ]
    },
    {
     "name": "stdout",
     "output_type": "stream",
     "text": [
      "Adding 122 new samples.\n",
      "Need to run simulator!\n"
     ]
    },
    {
     "name": "stderr",
     "output_type": "stream",
     "text": [
      "\n"
     ]
    }
   ],
   "source": [
    "p0 = Intensity(500, [0.0, 0.5], [1.0, 1.0])\n",
    "indices = ds.sample(p0)"
   ]
  },
  {
   "cell_type": "code",
   "execution_count": 336,
   "metadata": {},
   "outputs": [],
   "source": [
    "sims = ds.needs_sim()\n",
    "for i in sims:\n",
    "    print(i)\n",
    "    x, z = ds[i]\n",
    "    ds.add_sim(i, x)"
   ]
  },
  {
   "cell_type": "code",
   "execution_count": 321,
   "metadata": {},
   "outputs": [
    {
     "name": "stderr",
     "output_type": "stream",
     "text": [
      "Extracting samples.: 4it [00:00, 616.42it/s]"
     ]
    },
    {
     "name": "stdout",
     "output_type": "stream",
     "text": [
      "Warning: Run grow!\n"
     ]
    },
    {
     "name": "stderr",
     "output_type": "stream",
     "text": [
      "\n"
     ]
    },
    {
     "data": {
      "text/plain": [
       "(None, None)"
      ]
     },
     "execution_count": 321,
     "metadata": {},
     "output_type": "execute_result"
    }
   ],
   "source": [
    "p0 = Intensity(100, [0.0, 0.2], [0.5, 1.0])\n",
    "ds.sample(p0)"
   ]
  },
  {
   "cell_type": "code",
   "execution_count": null,
   "metadata": {},
   "outputs": [],
   "source": []
  }
 ],
 "metadata": {
  "kernelspec": {
   "display_name": "Python 3",
   "language": "python",
   "name": "python3"
  },
  "language_info": {
   "codemirror_mode": {
    "name": "ipython",
    "version": 3
   },
   "file_extension": ".py",
   "mimetype": "text/x-python",
   "name": "python",
   "nbconvert_exporter": "python",
   "pygments_lexer": "ipython3",
   "version": "3.7.7"
  }
 },
 "nbformat": 4,
 "nbformat_minor": 4
}
