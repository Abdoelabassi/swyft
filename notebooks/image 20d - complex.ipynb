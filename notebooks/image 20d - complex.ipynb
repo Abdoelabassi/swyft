{
 "cells": [
  {
   "cell_type": "code",
   "execution_count": null,
   "metadata": {},
   "outputs": [],
   "source": [
    "import numpy as np\n",
    "import pylab as plt\n",
    "import swyft\n",
    "import torch\n",
    "from scipy import stats\n",
    "%load_ext autoreload\n",
    "%autoreload 2\n",
    "\n",
    "np.random.seed(25)\n",
    "torch.manual_seed(25)"
   ]
  },
  {
   "cell_type": "code",
   "execution_count": null,
   "metadata": {},
   "outputs": [],
   "source": [
    "DEVICE = 'cuda:0'\n",
    "NSAMPLES = 100000\n",
    "MAX_EPOCHS = 100"
   ]
  },
  {
   "cell_type": "code",
   "execution_count": null,
   "metadata": {},
   "outputs": [],
   "source": [
    "def model(z):\n",
    "    grid = np.linspace(-1, 1, 32, 32)\n",
    "    X, Y = np.meshgrid(grid, grid)\n",
    "    mu = np.zeros_like(X)\n",
    "    for i in range(len(z)-2):\n",
    "        mu += z[i] * np.cos(X*z[i+1]*i + z[i+2]*2) * np.cos(Y*z[i+2]*i + z[i+1]*2)        \n",
    "    return mu\n",
    "\n",
    "def noisemodel(x, z = None, sigma = 0.5):\n",
    "    n = np.random.randn(*x.shape)*sigma\n",
    "    return x + n"
   ]
  },
  {
   "cell_type": "code",
   "execution_count": null,
   "metadata": {},
   "outputs": [],
   "source": [
    "# Convolutional network as HEAD of inference network\n",
    "\n",
    "class Head(torch.nn.Module):\n",
    "    def __init__(self):\n",
    "        super().__init__()\n",
    "        self.conv1 = torch.nn.Conv2d(1, 10, 3)\n",
    "        self.conv2 = torch.nn.Conv2d(10, 20, 3)\n",
    "        self.conv3 = torch.nn.Conv2d(20, 40, 3)\n",
    "        self.pool = torch.nn.MaxPool2d(2)\n",
    "        \n",
    "    def forward(self, x):\n",
    "        nbatch = len(x)\n",
    "        \n",
    "        x = x.unsqueeze(1)\n",
    "        x = self.conv1(x)\n",
    "        x = self.pool(x)\n",
    "        x = self.conv2(x)\n",
    "        x = self.pool(x)\n",
    "        x = self.conv3(x)\n",
    "        x = self.pool(x)\n",
    "        x = x.view(nbatch, -1)\n",
    "\n",
    "        return x\n",
    "\n",
    "head = Head().to(DEVICE)"
   ]
  },
  {
   "cell_type": "code",
   "execution_count": null,
   "metadata": {},
   "outputs": [],
   "source": [
    "z0 = np.random.rand(20)\n",
    "zdim = len(z0)\n",
    "x0 = noisemodel(model(z0))\n",
    "comb1d = [[i] for i in range(zdim)]\n",
    "\n",
    "plt.imshow(x0)\n",
    "plt.colorbar()"
   ]
  },
  {
   "cell_type": "code",
   "execution_count": null,
   "metadata": {},
   "outputs": [],
   "source": [
    "cache = swyft.MemoryCache(zdim = zdim, xshape = (32, 32))"
   ]
  },
  {
   "cell_type": "code",
   "execution_count": null,
   "metadata": {},
   "outputs": [],
   "source": [
    "intensity = swyft.get_unit_intensity(expected_n=NSAMPLES, dim=zdim)\n",
    "cache.grow(intensity)\n",
    "cache.simulate(model)\n",
    "\n",
    "points = swyft.Points(cache, intensity, noisemodel)\n",
    "re = swyft.RatioEstimator(points, combinations=comb1d, head=head, device=DEVICE)\n",
    "re.train(max_epochs=MAX_EPOCHS, batch_size=32, lr_schedule=[2e-3, 1e-3, 5e-4, 2.5e-4, 1.25e-4])"
   ]
  },
  {
   "cell_type": "code",
   "execution_count": null,
   "metadata": {},
   "outputs": [],
   "source": [
    "swyft.plot1d(re, x0 = x0, z0 = z0, cmap = 'Greys', dims = (20, 10), ncol = 5)"
   ]
  }
 ],
 "metadata": {
  "kernelspec": {
   "display_name": "Python 3",
   "language": "python",
   "name": "python3"
  },
  "language_info": {
   "codemirror_mode": {
    "name": "ipython",
    "version": 3
   },
   "file_extension": ".py",
   "mimetype": "text/x-python",
   "name": "python",
   "nbconvert_exporter": "python",
   "pygments_lexer": "ipython3",
   "version": "3.8.2"
  }
 },
 "nbformat": 4,
 "nbformat_minor": 4
}
