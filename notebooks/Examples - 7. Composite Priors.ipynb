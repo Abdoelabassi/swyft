{
 "cells": [
  {
   "cell_type": "markdown",
   "id": "fa06d071-8afa-4347-8381-4fdce448aafe",
   "metadata": {},
   "source": [
    "# Composite priors\n",
    "\n",
    "A common usecase is to have a multidimensional prior with different distributions in each dimension. We achieve this with scipy and torch distributions."
   ]
  },
  {
   "cell_type": "code",
   "execution_count": 1,
   "id": "9b571a4b-a3f4-46c9-929d-526048aeafa6",
   "metadata": {},
   "outputs": [],
   "source": [
    "%load_ext autoreload\n",
    "%autoreload 2"
   ]
  },
  {
   "cell_type": "code",
   "execution_count": 2,
   "id": "6ab7bfb0-a8d0-4c9c-8d4d-9b8b78f61062",
   "metadata": {},
   "outputs": [],
   "source": [
    "import torch\n",
    "import scipy.stats\n",
    "import numpy as np\n",
    "\n",
    "import pylab as plt\n",
    "\n",
    "from toolz import compose\n",
    "from swyft.prior import Prior, PriorTruncator\n",
    "from swyft.utils import tensor_to_array, array_to_tensor"
   ]
  },
  {
   "cell_type": "code",
   "execution_count": 3,
   "id": "56ecb60d-201d-4132-80bb-7c05776b0c5f",
   "metadata": {},
   "outputs": [],
   "source": [
    "loc = torch.tensor([1.0, -3.2])\n",
    "scale = torch.tensor([0.1, 2.1])\n",
    "\n",
    "upper = torch.tensor([2.5, 3.1])\n",
    "lower = torch.tensor([0.1, -2.0])\n",
    "\n",
    "parameter_dimensions = [len(loc), len(upper)]\n",
    "n_parameters = sum(parameter_dimensions)"
   ]
  },
  {
   "cell_type": "markdown",
   "id": "6273e7c5-e4a9-49df-a6a9-2e4c082cadaf",
   "metadata": {},
   "source": [
    "## Torch Distributions\n",
    "\n",
    "This requires the application of `Prior.conjugate_tensor_func` to convert the numpy arrays to tensors then the output tensors back to numpy arrays.\n",
    "\n",
    "We apply `Prior.conjugate_tensor_func` with a functional idiom."
   ]
  },
  {
   "cell_type": "code",
   "execution_count": 4,
   "id": "24c57580-7462-4543-b7fb-2103efe24233",
   "metadata": {},
   "outputs": [],
   "source": [
    "normal = torch.distributions.Normal(loc, scale)\n",
    "uniform = torch.distributions.Uniform(lower, upper)\n",
    "\n",
    "composite_prior_torch = Prior.composite_prior(\n",
    "    cdfs=list(map(Prior.conjugate_tensor_func, [normal.cdf, uniform.cdf])),\n",
    "    icdfs=list(map(Prior.conjugate_tensor_func, [normal.icdf, uniform.icdf])),\n",
    "    log_probs=list(map(Prior.conjugate_tensor_func, [normal.log_prob, uniform.log_prob])),\n",
    "    parameter_dimensions=parameter_dimensions,\n",
    ")"
   ]
  },
  {
   "cell_type": "code",
   "execution_count": 5,
   "id": "33e877d5-6d9d-415f-94bb-f0d857cb7d16",
   "metadata": {},
   "outputs": [
    {
     "data": {
      "image/png": "[encoded data removed]",
      "text/plain": [
       "<Figure size 432x288 with 1 Axes>"
      ]
     },
     "metadata": {
      "needs_background": "light"
     },
     "output_type": "display_data"
    }
   ],
   "source": [
    "samples = PriorTruncator(composite_prior_torch, bound=None).sample(10_000)\n",
    "for i in range(n_parameters):\n",
    "    _ = plt.hist(samples[:, i], bins=100, alpha=0.5)"
   ]
  },
  {
   "cell_type": "markdown",
   "id": "69862191-4efa-4956-ba04-99250510e153",
   "metadata": {},
   "source": [
    "## SciPy Distributions"
   ]
  },
  {
   "cell_type": "code",
   "execution_count": 6,
   "id": "623496ca-d7d5-42e9-9944-a92126d07307",
   "metadata": {},
   "outputs": [],
   "source": [
    "normal_scipy = scipy.stats.norm(loc, scale)\n",
    "uniform_scipy = scipy.stats.uniform(lower, upper)\n",
    "\n",
    "composite_prior_scipy = Prior.composite_prior(\n",
    "    cdfs=list(map(Prior.conjugate_tensor_func, [normal_scipy.cdf, uniform_scipy.cdf])),\n",
    "    icdfs=list(map(Prior.conjugate_tensor_func, [normal_scipy.ppf, uniform_scipy.ppf])),\n",
    "    log_probs=list(map(Prior.conjugate_tensor_func, [normal_scipy.logpdf, uniform_scipy.logpdf])),\n",
    "    parameter_dimensions=parameter_dimensions,\n",
    ")"
   ]
  },
  {
   "cell_type": "code",
   "execution_count": 7,
   "id": "89abb2a0-be33-454a-850e-11955aa46c67",
   "metadata": {},
   "outputs": [
    {
     "data": {
      "image/png": "[encoded data removed]",
      "text/plain": [
       "<Figure size 432x288 with 1 Axes>"
      ]
     },
     "metadata": {
      "needs_background": "light"
     },
     "output_type": "display_data"
    }
   ],
   "source": [
    "samples_scipy = PriorTruncator(composite_prior_torch, bound=None).sample(10_000)\n",
    "for i in range(n_parameters):\n",
    "    _ = plt.hist(samples_scipy[:, i], bins=100, alpha=0.5)"
   ]
  },
  {
   "cell_type": "code",
   "execution_count": null,
   "id": "a607125d-0bd1-4bcc-903e-ce8dc4670971",
   "metadata": {},
   "outputs": [],
   "source": []
  }
 ],
 "metadata": {
  "kernelspec": {
   "display_name": "Python 3 (ipykernel)",
   "language": "python",
   "name": "python3"
  },
  "language_info": {
   "codemirror_mode": {
    "name": "ipython",
    "version": 3
   },
   "file_extension": ".py",
   "mimetype": "text/x-python",
   "name": "python",
   "nbconvert_exporter": "python",
   "pygments_lexer": "ipython3",
   "version": "3.8.11"
  }
 },
 "nbformat": 4,
 "nbformat_minor": 5
}
