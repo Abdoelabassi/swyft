{
 "cells": [
  {
   "cell_type": "code",
   "execution_count": 24,
   "metadata": {},
   "outputs": [
    {
     "name": "stdout",
     "output_type": "stream",
     "text": [
      "The autoreload extension is already loaded. To reload it, use:\n",
      "  %reload_ext autoreload\n"
     ]
    }
   ],
   "source": [
    "import torch\n",
    "import corner\n",
    "import numpy as np\n",
    "import pylab as plt\n",
    "from swyft.intensity import BallMask, ComboMask, Prior1d, Prior, IntensityNew\n",
    "from tqdm import tqdm\n",
    "import swyft\n",
    "\n",
    "DEVICE = 'cuda'\n",
    "\n",
    "%load_ext autoreload\n",
    "%autoreload 2"
   ]
  },
  {
   "cell_type": "code",
   "execution_count": 25,
   "metadata": {},
   "outputs": [],
   "source": [
    "def model(par):\n",
    "    return dict(spec=np.linspace(-1, 1, 5)*par['A']+par['B'])\n",
    "\n",
    "def noise(obs, par):\n",
    "    obs['spec'] += np.random.randn(*obs['spec'].shape)*0.1\n",
    "    return obs"
   ]
  },
  {
   "cell_type": "markdown",
   "metadata": {},
   "source": [
    "### Storage"
   ]
  },
  {
   "cell_type": "code",
   "execution_count": 3,
   "metadata": {},
   "outputs": [
    {
     "name": "stdout",
     "output_type": "stream",
     "text": [
      "Loading existing cache.\n"
     ]
    }
   ],
   "source": [
    "#cache = swyft.MemoryCache(params = [\"A\", \"B\"], obs_shapes = {\"spec\": (5,)})\n",
    "cache = swyft.DirectoryCache(params = [\"A\", \"B\"], obs_shapes = {\"spec\": (5,)}, path = \"/home/weniger/zarr_test3\")"
   ]
  },
  {
   "cell_type": "markdown",
   "metadata": {},
   "source": [
    "### Prior"
   ]
  },
  {
   "cell_type": "code",
   "execution_count": 4,
   "metadata": {},
   "outputs": [],
   "source": [
    "prior_conf = {\"A\": [\"normal\", 0.0, 1.0], \"B\": [\"normal\",  0., 1.0]}\n",
    "prior = Prior(prior_conf)"
   ]
  },
  {
   "cell_type": "markdown",
   "metadata": {},
   "source": [
    "### Populating storage with simulations"
   ]
  },
  {
   "cell_type": "code",
   "execution_count": 5,
   "metadata": {},
   "outputs": [
    {
     "name": "stdout",
     "output_type": "stream",
     "text": [
      "No new simulator runs required.\n",
      "No simulations required.\n"
     ]
    }
   ],
   "source": [
    "N = 300\n",
    "cache.grow(prior, N)\n",
    "cache.simulate(model)"
   ]
  },
  {
   "cell_type": "code",
   "execution_count": 6,
   "metadata": {},
   "outputs": [
    {
     "name": "stdout",
     "output_type": "stream",
     "text": [
      "No new simulator runs required.\n",
      "No simulations required.\n"
     ]
    }
   ],
   "source": [
    "N = 500\n",
    "cache.grow(prior, N)\n",
    "cache.simulate(model)"
   ]
  },
  {
   "cell_type": "code",
   "execution_count": 26,
   "metadata": {},
   "outputs": [],
   "source": [
    "indices = cache.sample(prior, N)\n",
    "points = swyft.Points(cache, indices, noise)"
   ]
  },
  {
   "cell_type": "code",
   "execution_count": 8,
   "metadata": {},
   "outputs": [
    {
     "name": "stdout",
     "output_type": "stream",
     "text": [
      "n_features = 5\n",
      "Start training\n",
      "LR iteration 0\n",
      "Validation loss: 12.056039810180664\n",
      "Validation loss: 9.197838306427002\n",
      "Validation loss: 5.172750949859619\n",
      "Validation loss: 3.388021469116211\n",
      "Validation loss: 2.9589842557907104\n",
      "Validation loss: 2.177805781364441\n",
      "Validation loss: 2.4142584204673767\n",
      "Total epochs: 7\n",
      "LR iteration 1\n",
      "Validation loss: 2.014341354370117\n",
      "Validation loss: 1.773720532655716\n",
      "Validation loss: 1.8192808628082275\n",
      "Total epochs: 3\n"
     ]
    }
   ],
   "source": [
    "re = swyft.RatioEstimator([(\"A\"), (\"B\"), (\"A\", \"B\")], device=DEVICE)\n",
    "re.train(points, max_epochs=10, batch_size=16, lr_schedule=[1e-3, 1e-4])"
   ]
  },
  {
   "cell_type": "code",
   "execution_count": 9,
   "metadata": {},
   "outputs": [],
   "source": [
    "obs0, par0 = points[2]['obs'], points[2]['par']"
   ]
  },
  {
   "cell_type": "code",
   "execution_count": 10,
   "metadata": {},
   "outputs": [
    {
     "data": {
      "text/plain": [
       "<matplotlib.collections.PathCollection at 0x1523d00eceb8>"
      ]
     },
     "execution_count": 10,
     "metadata": {},
     "output_type": "execute_result"
    },
    {
     "data": {
      "image/png": "[encoded data removed]",
      "text/plain": [
       "<Figure size 432x288 with 1 Axes>"
      ]
     },
     "metadata": {
      "needs_background": "light"
     },
     "output_type": "display_data"
    }
   ],
   "source": [
    "pars = prior.sample(100000)\n",
    "lnL = re.lnL(obs0, pars)\n",
    "plt.hist2d(pars['A'], pars['B'], weights = np.exp(lnL[('A', 'B')]), bins = 100, density = True);\n",
    "plt.scatter(par0['A'], par0['B'], marker='o', color='r')"
   ]
  },
  {
   "cell_type": "code",
   "execution_count": 11,
   "metadata": {},
   "outputs": [
    {
     "data": {
      "text/plain": [
       "<swyft.estimation.RatioEstimator at 0x1523d0111240>"
      ]
     },
     "execution_count": 11,
     "metadata": {},
     "output_type": "execute_result"
    }
   ],
   "source": [
    "sd = re.state_dict()\n",
    "swyft.RatioEstimator.from_state_dict(sd)"
   ]
  },
  {
   "cell_type": "code",
   "execution_count": 12,
   "metadata": {},
   "outputs": [],
   "source": [
    "prior2 = prior.get_masked(obs0, re)"
   ]
  },
  {
   "cell_type": "code",
   "execution_count": 13,
   "metadata": {},
   "outputs": [
    {
     "data": {
      "text/plain": [
       "<swyft.intensity.Prior at 0x1523b878deb8>"
      ]
     },
     "execution_count": 13,
     "metadata": {},
     "output_type": "execute_result"
    }
   ],
   "source": [
    "sd = prior2.state_dict()\n",
    "Prior.from_state_dict(sd)"
   ]
  },
  {
   "cell_type": "code",
   "execution_count": 18,
   "metadata": {},
   "outputs": [
    {
     "name": "stderr",
     "output_type": "stream",
     "text": [
      "Simulate:   1%|          | 11/1935 [00:00<00:18, 102.30it/s]"
     ]
    },
    {
     "name": "stdout",
     "output_type": "stream",
     "text": [
      "Adding 1935 new samples. Run simulator!\n"
     ]
    },
    {
     "name": "stderr",
     "output_type": "stream",
     "text": [
      "Simulate: 100%|██████████| 1935/1935 [00:18<00:00, 103.19it/s]\n"
     ]
    }
   ],
   "source": [
    "cache.grow(prior2, 3000)\n",
    "cache.simulate(model)"
   ]
  },
  {
   "cell_type": "code",
   "execution_count": 19,
   "metadata": {},
   "outputs": [],
   "source": [
    "indices = cache.sample(prior2, N)\n",
    "points = swyft.Points(cache, indices, noise)"
   ]
  },
  {
   "cell_type": "code",
   "execution_count": 20,
   "metadata": {},
   "outputs": [
    {
     "name": "stdout",
     "output_type": "stream",
     "text": [
      "n_features = 5\n",
      "Start training\n",
      "LR iteration 0\n",
      "Validation loss: 12.31074047088623\n",
      "Validation loss: 11.054708480834961\n",
      "Validation loss: 8.954777240753174\n",
      "Validation loss: 6.87696647644043\n",
      "Validation loss: 6.718576431274414\n",
      "Validation loss: 6.915428638458252\n",
      "Total epochs: 6\n",
      "LR iteration 1\n",
      "Validation loss: 6.480524301528931\n",
      "Validation loss: 5.866288423538208\n",
      "Validation loss: 5.668644070625305\n",
      "Validation loss: 6.1691224575042725\n",
      "Total epochs: 4\n",
      "LR iteration 2\n",
      "Validation loss: 6.001288652420044\n",
      "Validation loss: 5.47780442237854\n",
      "Validation loss: 5.927480220794678\n",
      "Total epochs: 3\n",
      "LR iteration 3\n",
      "Validation loss: 5.66150963306427\n",
      "Validation loss: 5.765381336212158\n",
      "Total epochs: 2\n"
     ]
    }
   ],
   "source": [
    "re = swyft.RatioEstimator([(\"A\"), (\"B\"), (\"A\", \"B\")], device=DEVICE)\n",
    "re.train(points, max_epochs=10, batch_size=16, lr_schedule=[1e-3, 3e-4, 1e-4, 3e-5])"
   ]
  },
  {
   "cell_type": "code",
   "execution_count": 21,
   "metadata": {},
   "outputs": [
    {
     "data": {
      "text/plain": [
       "<matplotlib.collections.PathCollection at 0x1523b875ad68>"
      ]
     },
     "execution_count": 21,
     "metadata": {},
     "output_type": "execute_result"
    },
    {
     "data": {
      "image/png": "[encoded data removed]",
      "text/plain": [
       "<Figure size 432x288 with 1 Axes>"
      ]
     },
     "metadata": {
      "needs_background": "light"
     },
     "output_type": "display_data"
    }
   ],
   "source": [
    "pars = prior2.sample(100000)\n",
    "lnL = re.lnL(obs0, pars)\n",
    "plt.hist2d(pars['A'], pars['B'], weights = np.exp(lnL[('A', 'B')]), bins = 50, density = True);\n",
    "plt.scatter(par0['A'], par0['B'], marker='o', color='r')"
   ]
  },
  {
   "cell_type": "code",
   "execution_count": null,
   "metadata": {},
   "outputs": [],
   "source": []
  }
 ],
 "metadata": {
  "kernelspec": {
   "display_name": "Python 3",
   "language": "python",
   "name": "python3"
  },
  "language_info": {
   "codemirror_mode": {
    "name": "ipython",
    "version": 3
   },
   "file_extension": ".py",
   "mimetype": "text/x-python",
   "name": "python",
   "nbconvert_exporter": "python",
   "pygments_lexer": "ipython3",
   "version": "3.7.3"
  }
 },
 "nbformat": 4,
 "nbformat_minor": 4
}
