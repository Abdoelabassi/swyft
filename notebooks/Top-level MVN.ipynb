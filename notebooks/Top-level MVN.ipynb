{
 "cells": [
  {
   "cell_type": "markdown",
   "metadata": {},
   "source": [
    "# Example of high-level interface"
   ]
  },
  {
   "cell_type": "code",
   "execution_count": 1,
   "metadata": {},
   "outputs": [
    {
     "data": {
      "text/plain": [
       "<torch._C.Generator at 0x7f97a4d45f90>"
      ]
     },
     "execution_count": 1,
     "metadata": {},
     "output_type": "execute_result"
    }
   ],
   "source": [
    "import numpy as np\n",
    "import pylab as plt\n",
    "import swyft\n",
    "import torch\n",
    "%load_ext autoreload\n",
    "%autoreload 2\n",
    "\n",
    "np.random.seed(25)\n",
    "torch.manual_seed(25)"
   ]
  },
  {
   "cell_type": "markdown",
   "metadata": {},
   "source": [
    "## Boilerplate code (to be absorbed in some form into SWYFT)"
   ]
  },
  {
   "cell_type": "code",
   "execution_count": 2,
   "metadata": {},
   "outputs": [],
   "source": [
    "DEVICE = 'cuda:0'\n",
    "NDIM = 2 # number of parameters\n",
    "NBATCH = 64  # minibatch size\n",
    "NTRAIN = 3000\n",
    "NEPOCHS = NTRAIN // (NTRAIN // NBATCH) # training epochs\n",
    "NMAXEPOCHS = 10\n",
    "NSAMPLES = 3000 # traing batch size\n",
    "NWORKERS = 4 # number of cpu workers for dataloader"
   ]
  },
  {
   "cell_type": "code",
   "execution_count": 3,
   "metadata": {},
   "outputs": [],
   "source": [
    "class Data(torch.utils.data.Dataset):\n",
    "    def __init__(self, xz):\n",
    "        super().__init__()\n",
    "        self.xz = xz\n",
    "\n",
    "    def __len__(self):\n",
    "        return len(self.xz)\n",
    "\n",
    "    def __getitem__(self, idx):\n",
    "        return self.xz[idx]"
   ]
  },
  {
   "cell_type": "code",
   "execution_count": 4,
   "metadata": {},
   "outputs": [],
   "source": [
    "def gen_train_data(model, nsamples, zdim, mask = None):\n",
    "    # Generate training data\n",
    "    if mask is None:\n",
    "        z = swyft.sample_hypercube(nsamples, zdim)\n",
    "    else:\n",
    "        z = swyft.sample_constrained_hypercube(nsamples, zdim, mask)\n",
    "    \n",
    "    xz = swyft.simulate_xz(model, z)\n",
    "    dataset = Data(xz)\n",
    "    \n",
    "    return dataset"
   ]
  },
  {
   "cell_type": "code",
   "execution_count": 5,
   "metadata": {},
   "outputs": [],
   "source": [
    "def get_net(combinations = None):\n",
    "    pdim = 1 if combinations is None else len(combinations[0])\n",
    "    net = swyft.Network(ydim = 3, pnum = NDIM, pdim = pdim).to(DEVICE)\n",
    "    return net"
   ]
  },
  {
   "cell_type": "code",
   "execution_count": 6,
   "metadata": {},
   "outputs": [],
   "source": [
    "def train(net, dataset, combinations = None):\n",
    "    nvalid = 512\n",
    "    ntrain = len(dataset) - nvalid\n",
    "    dataset_train, dataset_valid = torch.utils.data.random_split(dataset, [ntrain, nvalid])\n",
    "    train_loader = torch.utils.data.DataLoader(dataset_train, batch_size=NBATCH, num_workers=NWORKERS, pin_memory=True, drop_last=True)\n",
    "    valid_loader = torch.utils.data.DataLoader(dataset_valid, batch_size=NBATCH, num_workers=NWORKERS, pin_memory=True, drop_last=True)\n",
    "    # Train!\n",
    "\n",
    "    train_loss, valid_loss = [], []\n",
    "    for i, lr in enumerate([1e-3, 1e-4, 1e-5]):\n",
    "        print(f'LR Iter {i}', end=\"\\r\")\n",
    "        tl, vl, sd = swyft.train(net, train_loader, valid_loader, early_stopping_patience = 20, lr = lr, max_epochs = NMAXEPOCHS, device=DEVICE, combinations = combinations)\n",
    "        vl_minimum = min(vl)\n",
    "        vl_min_idx = vl.index(vl_minimum)\n",
    "        train_loss.append(tl[:vl_min_idx + 1])\n",
    "        valid_loss.append(vl[:vl_min_idx + 1])\n",
    "        net.load_state_dict(sd)"
   ]
  },
  {
   "cell_type": "code",
   "execution_count": 7,
   "metadata": {},
   "outputs": [],
   "source": [
    "def posteriors(x0, net, dataset):\n",
    "    x = torch.tensor(x0).float().to(DEVICE)\n",
    "    z = torch.stack(swyft.get_z(dataset)).to(DEVICE)\n",
    "    lnL = swyft.get_lnL(net, x, z.unsqueeze(-1))\n",
    "    return z.cpu(), lnL.cpu()"
   ]
  },
  {
   "cell_type": "code",
   "execution_count": 8,
   "metadata": {},
   "outputs": [],
   "source": [
    "# instatiate with model and x0\n",
    "# run(nrounds_max, lr, init_mask, ntrain, early_stopping, maxepoch, threshold, storage, head, retain_networks)\n",
    "\n",
    "def run(NROUNDS):\n",
    "    netstore = []\n",
    "    poststore = []\n",
    "    datastore = []\n",
    "    maskstore = []\n",
    "    \n",
    "    for i in range(NROUNDS):\n",
    "        if i == 0:\n",
    "            mask = None\n",
    "        else:\n",
    "            mask = swyft.Mask(net, torch.tensor(x0).float().to(DEVICE), 1e-3)\n",
    "        net = get_net()\n",
    "        dataset = gen_train_data(model, NSAMPLES, NDIM, mask = mask)\n",
    "        train(net, dataset)\n",
    "        zgrid, lnLgrid = posteriors(x0, net, dataset)\n",
    "        \n",
    "        datastore.append(dataset)\n",
    "        netstore.append(net)\n",
    "        poststore.append((zgrid, lnLgrid))\n",
    "        maskstore.append(mask)\n",
    "    \n",
    "    return netstore, poststore, datastore, maskstore"
   ]
  },
  {
   "cell_type": "markdown",
   "metadata": {},
   "source": [
    "## Toy generative model"
   ]
  },
  {
   "cell_type": "code",
   "execution_count": 9,
   "metadata": {},
   "outputs": [],
   "source": [
    "def model(z, sigma = .03):\n",
    "    T = np.array([[1, 1.], [0, 1.], [0, 1.]])\n",
    "    n = np.random.randn(3)*sigma\n",
    "    x = T.dot(z) + n\n",
    "    return x"
   ]
  },
  {
   "cell_type": "markdown",
   "metadata": {},
   "source": [
    "## Mock data generation"
   ]
  },
  {
   "cell_type": "code",
   "execution_count": 10,
   "metadata": {},
   "outputs": [
    {
     "name": "stdout",
     "output_type": "stream",
     "text": [
      "[1.00684819 0.53080671 0.47481245] [0.5 0.5]\n"
     ]
    }
   ],
   "source": [
    "z0 = np.ones(2)*0.5\n",
    "x0 = model(z0)\n",
    "print(x0, z0)"
   ]
  },
  {
   "cell_type": "markdown",
   "metadata": {},
   "source": [
    "## Automatic inference 1-dim"
   ]
  },
  {
   "cell_type": "code",
   "execution_count": 11,
   "metadata": {},
   "outputs": [
    {
     "name": "stdout",
     "output_type": "stream",
     "text": [
      "LR Iter 2\r"
     ]
    },
    {
     "name": "stderr",
     "output_type": "stream",
     "text": [
      "100%|██████████| 47/47 [00:00<00:00, 654.84it/s]\n",
      "100%|██████████| 47/47 [00:00<00:00, 665.86it/s]\n",
      "100%|██████████| 47/47 [00:00<00:00, 663.75it/s]\n",
      "100%|██████████| 47/47 [00:00<00:00, 666.60it/s]\n",
      "100%|██████████| 47/47 [00:00<00:00, 669.49it/s]\n",
      "100%|██████████| 47/47 [00:00<00:00, 668.64it/s]\n",
      "100%|██████████| 47/47 [00:00<00:00, 644.38it/s]\n"
     ]
    },
    {
     "name": "stdout",
     "output_type": "stream",
     "text": [
      "Constrained posterior volume: 0.06271555555555555\n",
      "LR Iter 2\r"
     ]
    },
    {
     "name": "stderr",
     "output_type": "stream",
     "text": [
      "100%|██████████| 47/47 [00:00<00:00, 629.74it/s]\n"
     ]
    }
   ],
   "source": [
    "results = run(2)"
   ]
  },
  {
   "cell_type": "markdown",
   "metadata": {},
   "source": [
    "## Check posteriors"
   ]
  },
  {
   "cell_type": "code",
   "execution_count": 15,
   "metadata": {},
   "outputs": [
    {
     "data": {
      "image/png": "[encoded data removed]",
      "text/plain": [
       "<Figure size 1440x360 with 1 Axes>"
      ]
     },
     "metadata": {
      "needs_background": "light"
     },
     "output_type": "display_data"
    }
   ],
   "source": [
    "zgrid, lnLgrid = results[1][1]\n",
    "plt.figure(figsize=(20, 5))\n",
    "for i in range(NDIM):\n",
    "    plt.axvline(z0[i])\n",
    "    plt.scatter(zgrid[:,i], np.exp(lnLgrid[:,i]))"
   ]
  },
  {
   "cell_type": "markdown",
   "metadata": {},
   "source": [
    "## Inference of 2-dim posteriors"
   ]
  },
  {
   "cell_type": "code",
   "execution_count": 13,
   "metadata": {},
   "outputs": [],
   "source": [
    "#combinations = [[0, 1], [0, 1]]\n",
    "#net3 = get_net(combinations = combinations)\n",
    "#train(net3, dataset2, combinations = combinations)\n",
    "#zgrid, lnLgrid = posteriors(x0, net3, dataset2)"
   ]
  }
 ],
 "metadata": {
  "kernelspec": {
   "display_name": "Python 3",
   "language": "python",
   "name": "python3"
  },
  "language_info": {
   "codemirror_mode": {
    "name": "ipython",
    "version": 3
   },
   "file_extension": ".py",
   "mimetype": "text/x-python",
   "name": "python",
   "nbconvert_exporter": "python",
   "pygments_lexer": "ipython3",
   "version": "3.7.7"
  }
 },
 "nbformat": 4,
 "nbformat_minor": 4
}
