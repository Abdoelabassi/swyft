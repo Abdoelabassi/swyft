{
 "cells": [
  {
   "cell_type": "markdown",
   "metadata": {},
   "source": [
    "# Example of high-level interface"
   ]
  },
  {
   "cell_type": "code",
   "execution_count": 3,
   "metadata": {},
   "outputs": [
    {
     "name": "stdout",
     "output_type": "stream",
     "text": [
      "The autoreload extension is already loaded. To reload it, use:\n",
      "  %reload_ext autoreload\n"
     ]
    },
    {
     "data": {
      "text/plain": [
       "<torch._C.Generator at 0x7f5d8f3a3f70>"
      ]
     },
     "execution_count": 3,
     "metadata": {},
     "output_type": "execute_result"
    }
   ],
   "source": [
    "import numpy as np\n",
    "import pylab as plt\n",
    "import swyft\n",
    "import torch\n",
    "%load_ext autoreload\n",
    "%autoreload 2\n",
    "\n",
    "np.random.seed(25)\n",
    "torch.manual_seed(25)"
   ]
  },
  {
   "cell_type": "markdown",
   "metadata": {},
   "source": [
    "## Boilerplate code (to be absorbed in some form into SWYFT)"
   ]
  },
  {
   "cell_type": "code",
   "execution_count": 80,
   "metadata": {},
   "outputs": [],
   "source": [
    "DEVICE = 'cuda:0'\n",
    "NDIM = 2 # number of parameters\n",
    "NBATCH = 128  # minibatch size\n",
    "NTRAIN = 3000\n",
    "NEPOCHS = NTRAIN // (NTRAIN // NBATCH) # training epochs\n",
    "NMAXEPOCHS = 5\n",
    "NSAMPLES = 3000 # traing batch size\n",
    "NWORKERS = 4 # number of cpu workers for dataloader"
   ]
  },
  {
   "cell_type": "code",
   "execution_count": 81,
   "metadata": {},
   "outputs": [],
   "source": [
    "class Data(torch.utils.data.Dataset):\n",
    "    def __init__(self, xz):\n",
    "        super().__init__()\n",
    "        self.xz = xz\n",
    "\n",
    "    def __len__(self):\n",
    "        return len(self.xz)\n",
    "\n",
    "    def __getitem__(self, idx):\n",
    "        return self.xz[idx]"
   ]
  },
  {
   "cell_type": "code",
   "execution_count": 82,
   "metadata": {},
   "outputs": [],
   "source": [
    "def gen_train_data(model, nsamples, zdim, mask = None):\n",
    "    # Generate training data\n",
    "    if mask is None:\n",
    "        z = swyft.sample_hypercube(nsamples, zdim)\n",
    "    else:\n",
    "        z = swyft.sample_constrained_hypercube(nsamples, zdim, mask)\n",
    "    \n",
    "    xz = swyft.simulate_xz(model, z)\n",
    "    dataset = Data(xz)\n",
    "    \n",
    "    return dataset"
   ]
  },
  {
   "cell_type": "code",
   "execution_count": 111,
   "metadata": {},
   "outputs": [],
   "source": [
    "def get_net(combinations = None):\n",
    "    pdim = 1 if combinations is None else len(combinations[0])\n",
    "    net = swyft.Network(ydim = 3, pnum = NDIM, pdim = pdim).to(DEVICE)\n",
    "    return net"
   ]
  },
  {
   "cell_type": "code",
   "execution_count": 123,
   "metadata": {},
   "outputs": [],
   "source": [
    "def train(net, dataset, combinations = None):\n",
    "    nvalid = 512\n",
    "    ntrain = len(dataset) - nvalid\n",
    "    dataset_train, dataset_valid = torch.utils.data.random_split(dataset, [ntrain, nvalid])\n",
    "    train_loader = torch.utils.data.DataLoader(dataset_train, batch_size=NBATCH, num_workers=NWORKERS, pin_memory=True, drop_last=True)\n",
    "    valid_loader = torch.utils.data.DataLoader(dataset_valid, batch_size=NBATCH, num_workers=NWORKERS, pin_memory=True, drop_last=True)\n",
    "    # Train!\n",
    "\n",
    "    train_loss, valid_loss = [], []\n",
    "    for i, lr in enumerate([1e-3, 1e-4, 1e-5]):\n",
    "        print(f'LR Iter {i}', end=\"\\r\")\n",
    "        tl, vl, sd = swyft.train(net, train_loader, valid_loader, early_stopping_patience = 20, lr = lr, max_epochs = NMAXEPOCHS, device=DEVICE, combinations = combinations)\n",
    "        vl_minimum = min(vl)\n",
    "        vl_min_idx = vl.index(vl_minimum)\n",
    "        train_loss.append(tl[:vl_min_idx + 1])\n",
    "        valid_loss.append(vl[:vl_min_idx + 1])\n",
    "        net.load_state_dict(sd)"
   ]
  },
  {
   "cell_type": "code",
   "execution_count": 113,
   "metadata": {},
   "outputs": [],
   "source": [
    "def posteriors(x0, net, dataset):\n",
    "    x = torch.tensor(x0).float().to(DEVICE)\n",
    "    z = torch.stack(swyft.get_z(dataset)).to(DEVICE)\n",
    "    lnL = swyft.get_lnL(net, x, z.unsqueeze(-1))\n",
    "    return z.cpu(), lnL.cpu()"
   ]
  },
  {
   "cell_type": "markdown",
   "metadata": {},
   "source": [
    "## Toy generative model"
   ]
  },
  {
   "cell_type": "code",
   "execution_count": 114,
   "metadata": {},
   "outputs": [],
   "source": [
    "def model(z, sigma = .03):\n",
    "    T = np.array([[1, 1.], [0, 1.], [0, 1.]])\n",
    "    n = np.random.randn(3)*sigma\n",
    "    x = T.dot(z) + n\n",
    "    return x"
   ]
  },
  {
   "cell_type": "markdown",
   "metadata": {},
   "source": [
    "## Mock data generation"
   ]
  },
  {
   "cell_type": "code",
   "execution_count": 115,
   "metadata": {},
   "outputs": [
    {
     "name": "stdout",
     "output_type": "stream",
     "text": [
      "[0.9780972  0.49797139 0.51166308] [0.5 0.5]\n"
     ]
    }
   ],
   "source": [
    "z0 = np.ones(2)*0.5\n",
    "x0 = model(z0)\n",
    "print(x0, z0)"
   ]
  },
  {
   "cell_type": "markdown",
   "metadata": {},
   "source": [
    "## Inference (round 1)"
   ]
  },
  {
   "cell_type": "code",
   "execution_count": 116,
   "metadata": {},
   "outputs": [
    {
     "name": "stdout",
     "output_type": "stream",
     "text": [
      "LR Iter 2\r"
     ]
    }
   ],
   "source": [
    "net = get_net()\n",
    "dataset = gen_train_data(model, NSAMPLES, NDIM, mask = None)\n",
    "train(net, dataset)"
   ]
  },
  {
   "cell_type": "markdown",
   "metadata": {},
   "source": [
    "## Check posteriors"
   ]
  },
  {
   "cell_type": "code",
   "execution_count": 117,
   "metadata": {},
   "outputs": [
    {
     "name": "stderr",
     "output_type": "stream",
     "text": [
      "100%|██████████| 47/47 [00:00<00:00, 625.48it/s]\n"
     ]
    }
   ],
   "source": [
    "zgrid, lnLgrid = posteriors(x0, net, dataset)"
   ]
  },
  {
   "cell_type": "code",
   "execution_count": 118,
   "metadata": {},
   "outputs": [
    {
     "data": {
      "image/png": "[encoded data removed]",
      "text/plain": [
       "<Figure size 1440x360 with 1 Axes>"
      ]
     },
     "metadata": {
      "needs_background": "light"
     },
     "output_type": "display_data"
    }
   ],
   "source": [
    "# Likelihood (posteriors because prior was uniform) evaluated on a validation set\n",
    "\n",
    "plt.figure(figsize=(20, 5))\n",
    "for i in range(NDIM):\n",
    "    plt.axvline(z0[i])\n",
    "    plt.scatter(zgrid[:,i], np.exp(lnLgrid[:,i]), marker='.')"
   ]
  },
  {
   "cell_type": "markdown",
   "metadata": {},
   "source": [
    "## Infrence (round 2)"
   ]
  },
  {
   "cell_type": "code",
   "execution_count": 119,
   "metadata": {},
   "outputs": [
    {
     "name": "stderr",
     "output_type": "stream",
     "text": [
      "100%|██████████| 47/47 [00:00<00:00, 248.31it/s]\n",
      "100%|██████████| 47/47 [00:00<00:00, 660.69it/s]\n",
      "100%|██████████| 47/47 [00:00<00:00, 663.26it/s]\n",
      "100%|██████████| 47/47 [00:00<00:00, 662.87it/s]\n"
     ]
    },
    {
     "name": "stdout",
     "output_type": "stream",
     "text": [
      "Constrained posterior volume: 0.26966666666666667\n",
      "LR Iter 2\r"
     ]
    }
   ],
   "source": [
    "mask = swyft.Mask(net, torch.tensor(x0).float().to(DEVICE), 1e-1)\n",
    "dataset2 = gen_train_data(model, NSAMPLES, NDIM, mask = mask)\n",
    "net2 = get_net()\n",
    "train(net2, dataset2)"
   ]
  },
  {
   "cell_type": "markdown",
   "metadata": {},
   "source": [
    "## Check posteriors"
   ]
  },
  {
   "cell_type": "code",
   "execution_count": 120,
   "metadata": {},
   "outputs": [
    {
     "name": "stderr",
     "output_type": "stream",
     "text": [
      "100%|██████████| 47/47 [00:00<00:00, 636.16it/s]\n"
     ]
    }
   ],
   "source": [
    "zgrid, lnLgrid = posteriors(x0, net2, dataset2)"
   ]
  },
  {
   "cell_type": "code",
   "execution_count": 121,
   "metadata": {},
   "outputs": [
    {
     "data": {
      "image/png": "[encoded data removed]",
      "text/plain": [
       "<Figure size 1440x360 with 1 Axes>"
      ]
     },
     "metadata": {
      "needs_background": "light"
     },
     "output_type": "display_data"
    }
   ],
   "source": [
    "# Likelihood (posteriors because prior was uniform) evaluated on a validation set\n",
    "\n",
    "plt.figure(figsize=(20, 5))\n",
    "for i in range(NDIM):\n",
    "    plt.axvline(z0[i])\n",
    "    plt.scatter(zgrid[:,i], np.exp(lnLgrid[:,i]))"
   ]
  },
  {
   "cell_type": "markdown",
   "metadata": {},
   "source": [
    "## Inference of 2-dim posteriors"
   ]
  },
  {
   "cell_type": "code",
   "execution_count": 127,
   "metadata": {},
   "outputs": [
    {
     "name": "stdout",
     "output_type": "stream",
     "text": [
      "LR Iter 2\r"
     ]
    }
   ],
   "source": [
    "combinations = [[0, 1], [0, 1]]\n",
    "net3 = get_net(combinations = combinations)\n",
    "train(net3, dataset2, combinations = combinations)"
   ]
  },
  {
   "cell_type": "markdown",
   "metadata": {},
   "source": [
    "## Check 2-dim posteriors"
   ]
  },
  {
   "cell_type": "code",
   "execution_count": 131,
   "metadata": {},
   "outputs": [],
   "source": [
    "#zgrid, lnLgrid = posteriors(x0, net3, dataset2)"
   ]
  }
 ],
 "metadata": {
  "kernelspec": {
   "display_name": "Python 3",
   "language": "python",
   "name": "python3"
  },
  "language_info": {
   "codemirror_mode": {
    "name": "ipython",
    "version": 3
   },
   "file_extension": ".py",
   "mimetype": "text/x-python",
   "name": "python",
   "nbconvert_exporter": "python",
   "pygments_lexer": "ipython3",
   "version": "3.7.7"
  }
 },
 "nbformat": 4,
 "nbformat_minor": 4
}
