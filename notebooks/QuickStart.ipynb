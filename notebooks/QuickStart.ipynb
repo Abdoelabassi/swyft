{
 "cells": [
  {
   "cell_type": "code",
   "execution_count": 1,
   "metadata": {},
   "outputs": [
    {
     "data": {
      "text/plain": [
       "<torch._C.Generator at 0x2aab32a37930>"
      ]
     },
     "execution_count": 1,
     "metadata": {},
     "output_type": "execute_result"
    }
   ],
   "source": [
    "import numpy as np\n",
    "import pylab as plt\n",
    "import swyft\n",
    "import torch\n",
    "from scipy import stats\n",
    "%load_ext autoreload\n",
    "%autoreload 2\n",
    "\n",
    "np.random.seed(25)\n",
    "torch.manual_seed(25)"
   ]
  },
  {
   "cell_type": "code",
   "execution_count": 3,
   "metadata": {},
   "outputs": [],
   "source": [
    "DEVICE = 'cuda:0'\n",
    "MAX_EPOCHS = 100\n",
    "EXPECTED_N = 10000"
   ]
  },
  {
   "cell_type": "code",
   "execution_count": 19,
   "metadata": {},
   "outputs": [],
   "source": [
    "def simulator(z):\n",
    "    return np.array([z[0]])\n",
    "\n",
    "def noise(x, z = None, noise=0.01):\n",
    "    n = np.random.randn(*x.shape)*noise\n",
    "    return x + n\n",
    "\n",
    "z0 = np.array([0.55,0.45])\n",
    "zdim = len(z0)\n",
    "x0 = simulator(z0)  # Using Asimov data"
   ]
  },
  {
   "cell_type": "code",
   "execution_count": 20,
   "metadata": {},
   "outputs": [
    {
     "name": "stdout",
     "output_type": "stream",
     "text": [
      "Creating new cache.\n"
     ]
    }
   ],
   "source": [
    "cache = swyft.MemoryCache(zdim = zdim, xshape = x0.shape)"
   ]
  },
  {
   "cell_type": "code",
   "execution_count": 21,
   "metadata": {
    "scrolled": true
   },
   "outputs": [
    {
     "name": "stderr",
     "output_type": "stream",
     "text": [
      "Simulate:   3%|▎         | 260/9879 [00:00<00:03, 2591.80it/s]"
     ]
    },
    {
     "name": "stdout",
     "output_type": "stream",
     "text": [
      "Adding 9879 new samples. Run simulator!\n"
     ]
    },
    {
     "name": "stderr",
     "output_type": "stream",
     "text": [
      "Simulate: 100%|██████████| 9879/9879 [00:02<00:00, 3406.37it/s]\n"
     ]
    },
    {
     "name": "stdout",
     "output_type": "stream",
     "text": [
      "Initializing network...\n",
      "yshape (shape of features between head and legs): 1\n",
      "Start training\n",
      "No new simulator runs required.\n",
      "LR iteration 0\n",
      "Validation loss: 51.219619035720825\n",
      "Validation loss: 51.358163833618164\n",
      "Total epochs: 2\n",
      "LR iteration 1\n",
      "Validation loss: 50.790682554244995\n",
      "Validation loss: 50.96031332015991\n",
      "Total epochs: 2\n",
      "LR iteration 2\n",
      "Validation loss: 50.91681146621704\n",
      "Validation loss: 50.399630546569824\n",
      "Validation loss: 50.892493724823\n",
      "Total epochs: 3\n"
     ]
    },
    {
     "name": "stderr",
     "output_type": "stream",
     "text": [
      "Simulate:   4%|▍         | 357/8874 [00:00<00:02, 3564.63it/s]"
     ]
    },
    {
     "name": "stdout",
     "output_type": "stream",
     "text": [
      "Constrained posterior area: 0.10935603\n",
      "Adding 8874 new samples. Run simulator!\n"
     ]
    },
    {
     "name": "stderr",
     "output_type": "stream",
     "text": [
      "Simulate: 100%|██████████| 8874/8874 [00:02<00:00, 3482.91it/s]\n"
     ]
    },
    {
     "name": "stdout",
     "output_type": "stream",
     "text": [
      "Initializing network...\n",
      "yshape (shape of features between head and legs): 1\n",
      "Start training\n",
      "No new simulator runs required.\n",
      "LR iteration 0\n",
      "Validation loss: 83.54758167266846\n",
      "Validation loss: 74.73989868164062\n",
      "Validation loss: 73.6243736743927\n",
      "Validation loss: 72.32104444503784\n",
      "Validation loss: 70.56003642082214\n",
      "Validation loss: 71.882408618927\n",
      "Total epochs: 6\n",
      "LR iteration 1\n",
      "Validation loss: 70.83314275741577\n",
      "Validation loss: 70.58118939399719\n",
      "Validation loss: 69.9083182811737\n",
      "Validation loss: 70.342041015625\n",
      "Total epochs: 4\n",
      "LR iteration 2\n",
      "Validation loss: 70.88902401924133\n",
      "Validation loss: 70.60294437408447\n",
      "Validation loss: 70.65607738494873\n",
      "Total epochs: 3\n"
     ]
    },
    {
     "name": "stderr",
     "output_type": "stream",
     "text": [
      "Simulate: 100%|██████████| 2/2 [00:00<00:00, 1690.23it/s]"
     ]
    },
    {
     "name": "stdout",
     "output_type": "stream",
     "text": [
      "Constrained posterior area: 0.10931829\n",
      "Adding 2 new samples. Run simulator!\n",
      "Initializing network...\n",
      "yshape (shape of features between head and legs): 1\n",
      "Start training\n",
      "No new simulator runs required.\n"
     ]
    },
    {
     "name": "stderr",
     "output_type": "stream",
     "text": [
      "\n"
     ]
    },
    {
     "name": "stdout",
     "output_type": "stream",
     "text": [
      "LR iteration 0\n",
      "Validation loss: 77.68200445175171\n",
      "Validation loss: 75.38076829910278\n",
      "Validation loss: 74.99932765960693\n",
      "Validation loss: 73.78721237182617\n",
      "Validation loss: 73.47853708267212\n",
      "Validation loss: 73.22378540039062\n",
      "Validation loss: 74.04142951965332\n",
      "Total epochs: 7\n",
      "LR iteration 1\n",
      "Validation loss: 71.7378363609314\n",
      "Validation loss: 73.41283369064331\n",
      "Total epochs: 2\n",
      "LR iteration 2\n",
      "Validation loss: 74.81049108505249\n",
      "Validation loss: 72.39901304244995\n",
      "Validation loss: 72.23955535888672\n",
      "Validation loss: 73.48638772964478\n",
      "Total epochs: 4\n"
     ]
    },
    {
     "name": "stderr",
     "output_type": "stream",
     "text": [
      "Simulate: 100%|██████████| 504/504 [00:00<00:00, 3513.35it/s]"
     ]
    },
    {
     "name": "stdout",
     "output_type": "stream",
     "text": [
      "Constrained posterior area: 0.10351211\n",
      "Adding 504 new samples. Run simulator!\n"
     ]
    },
    {
     "name": "stderr",
     "output_type": "stream",
     "text": [
      "\n"
     ]
    },
    {
     "name": "stdout",
     "output_type": "stream",
     "text": [
      "Initializing network...\n",
      "yshape (shape of features between head and legs): 1\n",
      "Start training\n",
      "No new simulator runs required.\n",
      "LR iteration 0\n",
      "Validation loss: 74.41467475891113\n",
      "Validation loss: 72.52661752700806\n",
      "Validation loss: 72.55184841156006\n",
      "Total epochs: 3\n",
      "LR iteration 1\n",
      "Validation loss: 70.20968222618103\n",
      "Validation loss: 71.98707151412964\n",
      "Total epochs: 2\n",
      "LR iteration 2\n",
      "Validation loss: 71.61253643035889\n",
      "Validation loss: 70.34820294380188\n",
      "Validation loss: 71.1629433631897\n",
      "Total epochs: 3\n"
     ]
    }
   ],
   "source": [
    "intensity = None\n",
    "\n",
    "for _ in range(4):\n",
    "    if intensity is None:\n",
    "        intensity = swyft.get_unit_intensity(expected_n=EXPECTED_N, dim=zdim)\n",
    "    else:\n",
    "        intensity = swyft.get_constrained_intensity(\n",
    "            expected_n=EXPECTED_N,\n",
    "            ratio_estimator=re,\n",
    "            x0=x0,\n",
    "            threshold=1e-4,\n",
    "            factor_mask=intensity.factor_mask,\n",
    "        )\n",
    "    cache.grow(intensity)\n",
    "    cache.simulate(simulator)\n",
    "    points = swyft.Points(cache, intensity, noise)\n",
    "    re = swyft.RatioEstimator(x0, points, device=DEVICE)\n",
    "    re.train(max_epochs=MAX_EPOCHS, batch_size=32, lr_schedule=[1e-3, 3e-4, 1e-4])"
   ]
  },
  {
   "cell_type": "code",
   "execution_count": 22,
   "metadata": {},
   "outputs": [
    {
     "data": {
      "image/png": "[encoded data removed]",
      "text/plain": [
       "<Figure size 1080x360 with 2 Axes>"
      ]
     },
     "metadata": {
      "needs_background": "light"
     },
     "output_type": "display_data"
    }
   ],
   "source": [
    "swyft.plot1d(re, x0 = x0, z0 = z0, cmap = 'Greys')"
   ]
  },
  {
   "cell_type": "code",
   "execution_count": 47,
   "metadata": {},
   "outputs": [],
   "source": [
    "re2 = swyft.RatioEstimator(x0, points, combinations = [[0, 1]], device=DEVICE)"
   ]
  },
  {
   "cell_type": "code",
   "execution_count": 48,
   "metadata": {},
   "outputs": [
    {
     "name": "stdout",
     "output_type": "stream",
     "text": [
      "Initializing network...\n",
      "yshape (shape of features between head and legs): 1\n",
      "Start training\n",
      "LR iteration 0\n",
      "Validation loss: 9.356301993131638\n",
      "Validation loss: 8.709925025701523\n",
      "Validation loss: 6.607302263379097\n",
      "Validation loss: 5.968762546777725\n",
      "Validation loss: 4.795531056821346\n",
      "Validation loss: 4.422317683696747\n",
      "Validation loss: 7.411180155351758\n",
      "Total epochs: 7\n",
      "LR iteration 1\n",
      "Validation loss: 4.1008042357862\n",
      "Validation loss: 4.239965181797743\n",
      "Total epochs: 2\n",
      "LR iteration 2\n",
      "Validation loss: 3.691053457558155\n",
      "Validation loss: 3.9878901839256287\n",
      "Total epochs: 2\n"
     ]
    }
   ],
   "source": [
    "re2.train(max_epochs=MAX_EPOCHS, batch_size=32, lr_schedule=[1e-3, 3e-4, 1e-4])"
   ]
  },
  {
   "cell_type": "code",
   "execution_count": null,
   "metadata": {},
   "outputs": [],
   "source": []
  }
 ],
 "metadata": {
  "kernelspec": {
   "display_name": "Python 3",
   "language": "python",
   "name": "python3"
  },
  "language_info": {
   "codemirror_mode": {
    "name": "ipython",
    "version": 3
   },
   "file_extension": ".py",
   "mimetype": "text/x-python",
   "name": "python",
   "nbconvert_exporter": "python",
   "pygments_lexer": "ipython3",
   "version": "3.8.3"
  }
 },
 "nbformat": 4,
 "nbformat_minor": 4
}
