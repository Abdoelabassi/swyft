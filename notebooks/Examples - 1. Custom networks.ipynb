{
 "cells": [
  {
   "cell_type": "markdown",
   "metadata": {},
   "source": [
    "# Custom networks\n",
    "\n",
    "Observational data is often extremely complex and high dimensional. `swyft` is designed to share the processing of observational data before passing it to each marginal classifier for marginal likelihood-to-evidence ratio estimation. This can be a combination of learnable transformations along with static ones. This notebook demonstrates that techinque. We denote this part of the network the _head_.\n",
    "\n",
    "In this example, we aim to estimate the $x$ and $y$ coordinates and radius $r$ of a ring within an image."
   ]
  },
  {
   "cell_type": "code",
   "execution_count": 1,
   "metadata": {},
   "outputs": [],
   "source": [
    "%load_ext autoreload\n",
    "%autoreload 2"
   ]
  },
  {
   "cell_type": "code",
   "execution_count": 2,
   "metadata": {},
   "outputs": [],
   "source": [
    "# DON'T FORGET TO ACTIVATE THE GPU when on google colab (Edit > Notebook settings)\n",
    "from os import environ\n",
    "GOOGLE_COLAB = True if \"COLAB_GPU\" in environ else False\n",
    "if GOOGLE_COLAB:\n",
    "    !pip install git+https://github.com/undark-lab/swyft.git"
   ]
  },
  {
   "cell_type": "code",
   "execution_count": 3,
   "metadata": {},
   "outputs": [],
   "source": [
    "import numpy as np\n",
    "import pylab as plt\n",
    "import torch\n",
    "\n",
    "import swyft\n",
    "\n",
    "from swyft.inference.marginalratioestimator import MarginalRatioEstimator\n",
    "from swyft.networks.classifier import get_marginal_classifier"
   ]
  },
  {
   "cell_type": "code",
   "execution_count": 4,
   "metadata": {},
   "outputs": [
    {
     "name": "stderr",
     "output_type": "stream",
     "text": [
      "/home/ben/sci/swyft/env/lib/python3.8/site-packages/torch/cuda/__init__.py:52: UserWarning: CUDA initialization: Unexpected error from cudaGetDeviceCount(). Did you run some cuda functions before calling NumCudaDevices() that might have already set an error? Error 804: forward compatibility was attempted on non supported HW (Triggered internally at  /opt/conda/conda-bld/pytorch_1631630839582/work/c10/cuda/CUDAFunctions.cpp:115.)\n",
      "  return torch._C._cuda_getDeviceCount() > 0\n"
     ]
    }
   ],
   "source": [
    "# Set randomness\n",
    "np.random.seed(25)\n",
    "torch.manual_seed(25)\n",
    "\n",
    "# Import swyft\n",
    "device = 'cuda' if swyft.utils.is_cuda_available() else \"cpu\"\n",
    "n_parameters = 3\n",
    "observation_key = \"x\"\n",
    "n_training_samples = 10_0000\n",
    "marginal_indices_1d, marginal_indices_2d = swyft.utils.get_corner_marginal_indices(n_parameters)"
   ]
  },
  {
   "cell_type": "markdown",
   "metadata": {},
   "source": [
    "## Simulator and observation\n",
    "\n",
    "Generate the \"true observation,\" prepare the simulator.\n",
    "\n",
    "Seperate the simulator from additive noise where possible (this comes in the next section). This allows for data augmentation during training."
   ]
  },
  {
   "cell_type": "code",
   "execution_count": 5,
   "metadata": {},
   "outputs": [],
   "source": [
    "def simulator(v, w = 0.03):\n",
    "    \"Ring simulator\"\n",
    "    x1, y1, r = v\n",
    "    \n",
    "    grid = np.linspace(0, 1, 32, 32)\n",
    "    X, Y = np.meshgrid(grid, grid)\n",
    "    \n",
    "    R1 = ((X-x1)**2 + (Y-y1)**2)**0.5\n",
    "    mu = np.exp(-(R1-r)**2/w**2/2)\n",
    "    \n",
    "    # Add random distortions in terms of lines\n",
    "    for _ in range(20):\n",
    "        xr = np.random.rand(2)\n",
    "        mu += 0.8*np.exp(-(X*xr[0]+Y*(1-xr[0])-xr[1])**2/0.01**2)\n",
    "        \n",
    "    return {observation_key: np.expand_dims(np.array(mu), 0)}\n",
    "\n",
    "\n",
    "v_o = np.array([0.5, 0.5, 0.3])\n",
    "observation_o = simulator(v_o)\n",
    "\n",
    "n_observation_features = observation_o[observation_key].shape[0]\n",
    "observation_shapes = {key: value.shape for key, value in observation_o.items()}"
   ]
  },
  {
   "cell_type": "code",
   "execution_count": 6,
   "metadata": {},
   "outputs": [
    {
     "data": {
      "text/plain": [
       "<matplotlib.image.AxesImage at 0x7f9761508fa0>"
      ]
     },
     "execution_count": 6,
     "metadata": {},
     "output_type": "execute_result"
    },
    {
     "data": {
      "image/png": "[encoded data removed]",
      "text/plain": [
       "<Figure size 432x288 with 1 Axes>"
      ]
     },
     "metadata": {
      "needs_background": "light"
     },
     "output_type": "display_data"
    }
   ],
   "source": [
    "plt.imshow(observation_o[observation_key][0])"
   ]
  },
  {
   "cell_type": "code",
   "execution_count": 7,
   "metadata": {},
   "outputs": [],
   "source": [
    "simulator = swyft.Simulator(\n",
    "    simulator,\n",
    "    [\"x1\", \"y1\", \"r\"],\n",
    "    sim_shapes=observation_shapes\n",
    ")"
   ]
  },
  {
   "cell_type": "markdown",
   "metadata": {},
   "source": [
    "## prior, storage, additive noise model, and dataset\n",
    "\n",
    "We include the noise model with the dataset so that every draw from the dataset has different noise. It is a form of data augmentation."
   ]
  },
  {
   "cell_type": "code",
   "execution_count": 8,
   "metadata": {},
   "outputs": [
    {
     "name": "stdout",
     "output_type": "stream",
     "text": [
      "Creating new store.\n"
     ]
    }
   ],
   "source": [
    "store = swyft.Store.memory_store(simulator)"
   ]
  },
  {
   "cell_type": "code",
   "execution_count": 9,
   "metadata": {},
   "outputs": [],
   "source": [
    "def noise(obs, v, sigma=0.1):\n",
    "    mu = obs[observation_key]\n",
    "    n = np.random.randn(*mu.shape)*sigma\n",
    "    x = mu + n\n",
    "    return dict(x=x)"
   ]
  },
  {
   "cell_type": "code",
   "execution_count": 10,
   "metadata": {},
   "outputs": [
    {
     "name": "stdout",
     "output_type": "stream",
     "text": [
      "Store: Adding 99444 new samples to simulator store.\n"
     ]
    }
   ],
   "source": [
    "low = np.zeros(n_parameters)\n",
    "high = np.array([1., 1., 0.5])\n",
    "prior = swyft.get_uniform_prior(low, high)\n",
    "store.add(n_training_samples, prior)\n",
    "store.simulate()"
   ]
  },
  {
   "cell_type": "code",
   "execution_count": 11,
   "metadata": {},
   "outputs": [],
   "source": [
    "dataset = swyft.Dataset(\n",
    "    n_training_samples, \n",
    "    prior, \n",
    "    store, \n",
    "    simhook=noise\n",
    ")"
   ]
  },
  {
   "cell_type": "markdown",
   "metadata": {},
   "source": [
    "## Define the network architechture\n",
    "\n",
    "We will create a function to instantiate networks appropriate for our data. This function is very similar to the convenience function `swyft.networks.classifier.get_marginal_classifier`. \n",
    "\n",
    "The most natural way to design neural networks for `swyft` is to create functions which process hyperparameters and output instantiated `torch.nn.Modules`. We recommend using the `swyft.networks.classifier.Network` class to simplify the network design process. The necessary data processing required for `swyft` is automatically done in `Network`."
   ]
  },
  {
   "cell_type": "code",
   "execution_count": 12,
   "metadata": {},
   "outputs": [],
   "source": [
    "class CustomObservationTransform(torch.nn.Module):\n",
    "    def __init__(self, observation_key: str, observation_shapes: dict):\n",
    "        super().__init__()\n",
    "        self.observation_key = observation_key\n",
    "        self.n_features = 160  # This attribute must be defined!\n",
    "        \n",
    "        self.online_z_score = swyft.networks.OnlineDictStandardizingLayer(observation_shapes)\n",
    "        self.net = torch.nn.Sequential(\n",
    "            torch.nn.Conv2d(1, 10, 3),\n",
    "            torch.nn.MaxPool2d(2),\n",
    "            torch.nn.Conv2d(10, 20, 3),\n",
    "            torch.nn.MaxPool2d(2),\n",
    "            torch.nn.Conv2d(20, 40, 3),\n",
    "            torch.nn.MaxPool2d(2),\n",
    "            torch.nn.Flatten(),\n",
    "        )\n",
    "\n",
    "    def forward(self, obs: dict) -> torch.Tensor:\n",
    "        x = self.online_z_score(obs)\n",
    "        x = x[self.observation_key]\n",
    "        return self.net(x)\n",
    "\n",
    "\n",
    "def get_custom_marginal_classifier(\n",
    "    observation_key: str,\n",
    "    marginal_indices: tuple,\n",
    "    observation_shapes: dict,\n",
    "    n_parameters: int,\n",
    "    hidden_features: int,\n",
    "    num_blocks: int,\n",
    "    parameter_online_z_score: bool = True,\n",
    ") -> torch.nn.Module:\n",
    "    observation_transform = CustomObservationTransform(observation_key, observation_shapes)\n",
    "    n_observation_features = observation_transform.n_features\n",
    "\n",
    "    parameter_transform = swyft.networks.ParameterTransform(\n",
    "        n_parameters, marginal_indices, online_z_score=parameter_online_z_score\n",
    "    )\n",
    "    n_marginals, n_block_parameters = parameter_transform.marginal_block_shape\n",
    "\n",
    "    marginal_classifier = swyft.networks.MarginalClassifier(\n",
    "        n_marginals,\n",
    "        n_observation_features + n_block_parameters,\n",
    "        hidden_features=hidden_features,\n",
    "        num_blocks=num_blocks,\n",
    "    )\n",
    "\n",
    "    return swyft.networks.Network(\n",
    "        observation_transform,\n",
    "        parameter_transform,\n",
    "        marginal_classifier,\n",
    "    )"
   ]
  },
  {
   "cell_type": "markdown",
   "metadata": {},
   "source": [
    "## Train a 1d marginal estimator"
   ]
  },
  {
   "cell_type": "code",
   "execution_count": 13,
   "metadata": {},
   "outputs": [],
   "source": [
    "network_1d = get_custom_marginal_classifier(\n",
    "    observation_key=observation_key,\n",
    "    marginal_indices=marginal_indices_1d,\n",
    "    observation_shapes=observation_shapes,\n",
    "    n_parameters=n_parameters,\n",
    "    hidden_features=32,\n",
    "    num_blocks=2,\n",
    ")\n",
    "\n",
    "mre_1d = MarginalRatioEstimator(\n",
    "    marginal_indices=marginal_indices_1d,\n",
    "    network=network_1d,\n",
    "    device=device,\n",
    ")"
   ]
  },
  {
   "cell_type": "code",
   "execution_count": 14,
   "metadata": {},
   "outputs": [
    {
     "name": "stdout",
     "output_type": "stream",
     "text": [
      "training: lr=0.0005, epoch=2, validation loss=1.759"
     ]
    }
   ],
   "source": [
    "mre_1d.train(dataset, max_epochs=2)"
   ]
  },
  {
   "cell_type": "markdown",
   "metadata": {},
   "source": [
    "## Create a simple violin plot to view the 1d marginals"
   ]
  },
  {
   "cell_type": "code",
   "execution_count": 15,
   "metadata": {},
   "outputs": [],
   "source": [
    "n_rejection_samples = 5_000\n",
    "\n",
    "posterior_1d = swyft.MarginalPosterior(mre_1d, prior)\n",
    "samples_1d = posterior_1d.sample(n_rejection_samples, observation_o)"
   ]
  },
  {
   "cell_type": "code",
   "execution_count": 16,
   "metadata": {},
   "outputs": [
    {
     "data": {
      "image/png": "[encoded data removed]",
      "text/plain": [
       "<Figure size 432x288 with 1 Axes>"
      ]
     },
     "metadata": {
      "needs_background": "light"
     },
     "output_type": "display_data"
    }
   ],
   "source": [
    "_ = swyft.violin(samples_1d)"
   ]
  },
  {
   "cell_type": "code",
   "execution_count": null,
   "metadata": {},
   "outputs": [],
   "source": []
  }
 ],
 "metadata": {
  "kernelspec": {
   "display_name": "Python 3 (ipykernel)",
   "language": "python",
   "name": "python3"
  },
  "language_info": {
   "codemirror_mode": {
    "name": "ipython",
    "version": 3
   },
   "file_extension": ".py",
   "mimetype": "text/x-python",
   "name": "python",
   "nbconvert_exporter": "python",
   "pygments_lexer": "ipython3",
   "version": "3.8.11"
  }
 },
 "nbformat": 4,
 "nbformat_minor": 4
}
