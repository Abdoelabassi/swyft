{
 "cells": [
  {
   "cell_type": "markdown",
   "metadata": {},
   "source": [
    "# Contrastive learning density estimation\n",
    "\n",
    "Author: Christoph Weniger, June 2020"
   ]
  },
  {
   "cell_type": "code",
   "execution_count": 142,
   "metadata": {},
   "outputs": [],
   "source": [
    "import numpy as np\n",
    "import pylab as plt\n",
    "import swyft\n",
    "import torch\n",
    "from tqdm import tqdm"
   ]
  },
  {
   "cell_type": "code",
   "execution_count": 184,
   "metadata": {},
   "outputs": [],
   "source": [
    "DEVICE = 'cuda:0'\n",
    "NDIM = 3  # Dimensionality of parameter z\n",
    "NTRAIN = 3000\n",
    "NBATCH = 32\n",
    "NSAMPLES = 3000"
   ]
  },
  {
   "cell_type": "code",
   "execution_count": 241,
   "metadata": {},
   "outputs": [],
   "source": [
    "def model(z, sigma = 1.):\n",
    "    x = np.linspace(-5, 5, 50, 50)\n",
    "    X, Y = np.meshgrid(x,x)\n",
    "    diff = np.cos(X)*np.cos(Y)*z[0]\n",
    "    p = np.random.randn(*X.shape)*z[1]\n",
    "    psc = 10**p*z[2]\n",
    "    n = np.random.randn(*X.shape)*sigma\n",
    "    return (diff + psc + n)"
   ]
  },
  {
   "cell_type": "code",
   "execution_count": 242,
   "metadata": {},
   "outputs": [
    {
     "data": {
      "text/plain": [
       "<matplotlib.colorbar.Colorbar at 0x7f23c2e2ab90>"
      ]
     },
     "execution_count": 242,
     "metadata": {},
     "output_type": "execute_result"
    },
    {
     "data": {
      "image/png": "[encoded data removed]",
      "text/plain": [
       "<Figure size 432x288 with 2 Axes>"
      ]
     },
     "metadata": {
      "needs_background": "light"
     },
     "output_type": "display_data"
    }
   ],
   "source": [
    "z0 = np.array([0.5, 0.5, 0.5])\n",
    "x0 = model(z0)\n",
    "plt.imshow(x0)\n",
    "plt.colorbar()"
   ]
  },
  {
   "cell_type": "code",
   "execution_count": 243,
   "metadata": {},
   "outputs": [
    {
     "name": "stderr",
     "output_type": "stream",
     "text": [
      "100%|██████████| 3000/3000 [00:02<00:00, 1015.91it/s]\n"
     ]
    }
   ],
   "source": [
    "z_cpu = swyft.sample_z(NSAMPLES, NDIM)\n",
    "xz_cpu = swyft.sample_x(model, z_cpu)"
   ]
  },
  {
   "cell_type": "code",
   "execution_count": 244,
   "metadata": {},
   "outputs": [
    {
     "name": "stderr",
     "output_type": "stream",
     "text": [
      "100%|██████████| 3000/3000 [00:00<00:00, 8170.10it/s]\n"
     ]
    }
   ],
   "source": [
    "xz = []\n",
    "for entry in tqdm(xz_cpu):\n",
    "    ex = torch.tensor(entry['x'], dtype = torch.float, device = DEVICE)\n",
    "    ez = torch.tensor(entry['z'], dtype = torch.float, device = DEVICE)\n",
    "    xz.append(dict(x = ex, z = ez))\n",
    "z = swyft.get_z(xz)"
   ]
  },
  {
   "cell_type": "markdown",
   "metadata": {},
   "source": [
    "## Inference network\n",
    "\n",
    "### Head network for feature definition"
   ]
  },
  {
   "cell_type": "code",
   "execution_count": 245,
   "metadata": {},
   "outputs": [],
   "source": [
    "class Head(torch.nn.Module):\n",
    "    def __init__(self):\n",
    "        super().__init__()\n",
    "        self.conv1 = torch.nn.Conv2d(1, 10, 5)\n",
    "        self.conv2 = torch.nn.Conv2d(10, 20, 5)\n",
    "        self.conv3 = torch.nn.Conv2d(20, 40, 5)\n",
    "        self.pool = torch.nn.MaxPool2d(2)\n",
    "        \n",
    "    def forward(self, x):\n",
    "        nbatch = len(x)\n",
    "        \n",
    "        x = x.unsqueeze(1)\n",
    "        x = self.conv1(x)\n",
    "        x = self.pool(x)\n",
    "        x = self.conv2(x)\n",
    "        x = self.pool(x)\n",
    "        x = self.conv3(x)\n",
    "        x = self.pool(x)\n",
    "        x = x.view(nbatch, -1)\n",
    "\n",
    "        return x"
   ]
  },
  {
   "cell_type": "code",
   "execution_count": 246,
   "metadata": {},
   "outputs": [
    {
     "name": "stdout",
     "output_type": "stream",
     "text": [
      "160\n"
     ]
    }
   ],
   "source": [
    "ydim = Head().cuda()(torch.tensor(x0).float().cuda().unsqueeze(0)).shape[1]  # Number of output features per image\n",
    "print(ydim)"
   ]
  },
  {
   "cell_type": "code",
   "execution_count": 247,
   "metadata": {},
   "outputs": [],
   "source": [
    "net = swyft.Network(xdim = ydim, zdim = NDIM, head = Head().cuda()).to(DEVICE).train()"
   ]
  },
  {
   "cell_type": "code",
   "execution_count": 248,
   "metadata": {},
   "outputs": [
    {
     "name": "stderr",
     "output_type": "stream",
     "text": [
      "100%|██████████| 3000/3000 [00:41<00:00, 72.46it/s]\n"
     ]
    }
   ],
   "source": [
    "loss  = swyft.train(net, xz, n_train = NTRAIN, lr = 1e-3, device = DEVICE, n_batch = NBATCH)"
   ]
  },
  {
   "cell_type": "code",
   "execution_count": null,
   "metadata": {},
   "outputs": [
    {
     "name": "stderr",
     "output_type": "stream",
     "text": [
      "  7%|▋         | 215/3000 [00:02<00:38, 72.84it/s]"
     ]
    }
   ],
   "source": [
    "loss += swyft.train(net, xz, n_train = NTRAIN, lr = 1e-4, device = DEVICE, n_batch = NBATCH)"
   ]
  },
  {
   "cell_type": "code",
   "execution_count": null,
   "metadata": {},
   "outputs": [],
   "source": [
    "loss += swyft.train(net, xz, n_train = NTRAIN, lr = 1e-5, device = DEVICE, n_batch = NBATCH)"
   ]
  },
  {
   "cell_type": "code",
   "execution_count": null,
   "metadata": {},
   "outputs": [],
   "source": [
    "z0 = np.array([0.4, 0.5, 0.6])\n",
    "x0 = model(z0)\n",
    "post = swyft.get_posteriors(net, x0, z, device = DEVICE)"
   ]
  },
  {
   "cell_type": "code",
   "execution_count": null,
   "metadata": {},
   "outputs": [],
   "source": [
    "for i in range(NDIM):\n",
    "    zp = post[i]['z']\n",
    "    lnLp = np.exp(post[i]['lnL'])\n",
    "    plt.axvline(z0[i])\n",
    "    plt.scatter(zp, lnLp)\n",
    "#plt.ylim([-10, 0])"
   ]
  },
  {
   "cell_type": "code",
   "execution_count": null,
   "metadata": {},
   "outputs": [],
   "source": []
  }
 ],
 "metadata": {
  "kernelspec": {
   "display_name": "Python 3",
   "language": "python",
   "name": "python3"
  },
  "language_info": {
   "codemirror_mode": {
    "name": "ipython",
    "version": 3
   },
   "file_extension": ".py",
   "mimetype": "text/x-python",
   "name": "python",
   "nbconvert_exporter": "python",
   "pygments_lexer": "ipython3",
   "version": "3.7.7"
  }
 },
 "nbformat": 4,
 "nbformat_minor": 4
}
