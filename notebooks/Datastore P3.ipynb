{
 "cells": [
  {
   "cell_type": "code",
   "execution_count": 1,
   "metadata": {},
   "outputs": [],
   "source": [
    "import numpy as np\n",
    "from scipy import stats, random\n",
    "import pylab as plt\n",
    "from itertools import compress\n",
    "from tqdm import tqdm\n",
    "\n",
    "import pylab as plt"
   ]
  },
  {
   "cell_type": "code",
   "execution_count": 2,
   "metadata": {},
   "outputs": [],
   "source": [
    "# Datastore with N samples from normal distribution\n",
    "\n",
    "class DataStore:\n",
    "    def __init__(self, x = None, z = None, u = None):\n",
    "        \"\"\"Initialize datastore content. Default is empty.\"\"\"\n",
    "        # Initialize datastore content\n",
    "        self.x = x # samples\n",
    "        self.z = z # samples\n",
    "        self.u = lambda z: 0.  # intensity function\n",
    "        \n",
    "    def __len__(self):\n",
    "        \"\"\"Number of samples in the datastore.\"\"\"\n",
    "        if self.z is not None:\n",
    "            return len(self.z)\n",
    "        else:\n",
    "            return 0\n",
    "\n",
    "    def _max_u(self, u):\n",
    "        \"\"\"Replace DS intensity function with max between intensity functions.\"\"\"\n",
    "        if self.u is None:\n",
    "            self.u = u\n",
    "        else:\n",
    "            self.u = lambda z, u_prev = self.u: max(u_prev(z), u(z))\n",
    "    \n",
    "    def _append(self, x, z):\n",
    "        \"\"\"Append (x, z) to datastore content.\"\"\"\n",
    "        if x is None:\n",
    "            x = [None for i in range(len(z))]\n",
    "        if self.x is None:\n",
    "            self.x = x\n",
    "            self.z = z\n",
    "        else:\n",
    "            self.x += x\n",
    "            self.z = np.vstack([self.z, z])\n",
    "            \n",
    "    def grow(self, mu, p):\n",
    "        \"\"\"Grow number of samples in datastore.\"\"\"\n",
    "        \n",
    "        # Number of requested samples from p\n",
    "        N = np.random.poisson(mu, 1)[0]\n",
    "        \n",
    "        # Proposed new samples z from p\n",
    "        z_prop = p.sample(N)\n",
    "        \n",
    "        # Rejection sampling from proposal list\n",
    "        accepted = []\n",
    "        for z in tqdm(z_prop, desc = \"Adding samples.\"):\n",
    "            rej_prob = np.minimum(1, self.u(z)/mu/p.pdf(z))\n",
    "            w = np.random.rand(1)[0]\n",
    "            accepted.append(rej_prob < w)\n",
    "        z_accepted = z_prop[accepted, :]\n",
    "        print(\"Adding %i new samples.\"%len(z_accepted))\n",
    "        \n",
    "        # Add new entries to datastore and update intensity function\n",
    "        self._append(None, z_accepted)\n",
    "        self._max_u(lambda z: mu*p.pdf(z))\n",
    "        \n",
    "    def sample(self, mu, p):\n",
    "        accepted = []\n",
    "        if self.z is None:\n",
    "            print(\"Warning: Requires running grow!\")\n",
    "            return None, None\n",
    "        for z in tqdm(self.z, desc = \"Extracting samples.\"):\n",
    "            accept_prob  = mu*p.pdf(z)/self.u(z)\n",
    "            if accept_prob > 1.:\n",
    "                print(\"Warning: Requires running grow!\")\n",
    "                return None, None\n",
    "            w = np.random.rand(1)[0]\n",
    "            accepted.append(accept_prob > w)\n",
    "        x_sub = list(compress(self.x, accepted))\n",
    "        z_sub = self.z[accepted, :]\n",
    "        if any([x is None for x in x_sub]):\n",
    "            print(\"Warning: Requires simulator run!\")\n",
    "            x_sub = None\n",
    "        return x_sub, z_sub\n",
    "    \n",
    "    def get_z_without_x(self):\n",
    "        return self.z[[x is None for x in self.x]]\n",
    "    \n",
    "    def fill_sims(self, x, z):\n",
    "        for i in tqdm(range(len(z)), desc = \"Adding simulations\"):\n",
    "            j = np.where((self.z == z[i]).all(axis=1))[0][0]\n",
    "            self.x[j] = x[i]"
   ]
  },
  {
   "cell_type": "code",
   "execution_count": 3,
   "metadata": {},
   "outputs": [],
   "source": [
    "class Prior:\n",
    "    def __init__(self, z0, z1):\n",
    "        self.z0 = np.array(z0)\n",
    "        self.z1 = np.array(z1)\n",
    "        \n",
    "    def sample(self, N):\n",
    "        q = np.random.rand(N, len(self.z0))\n",
    "        q *= self.z1 - self.z0\n",
    "        q += self.z0\n",
    "        return q\n",
    "\n",
    "    def pdf(self, z):\n",
    "        if any(z < self.z0) or any(z > self.z1):\n",
    "            return 0.\n",
    "        else:\n",
    "            return 1./(self.z1 - self.z0).prod()"
   ]
  },
  {
   "cell_type": "code",
   "execution_count": 14,
   "metadata": {},
   "outputs": [
    {
     "name": "stderr",
     "output_type": "stream",
     "text": [
      "Adding samples.: 100%|██████████| 10152/10152 [00:00<00:00, 34614.24it/s]\n",
      "Adding samples.:  42%|████▏     | 4141/9860 [00:00<00:00, 20828.87it/s]"
     ]
    },
    {
     "name": "stdout",
     "output_type": "stream",
     "text": [
      "Adding 10152 new samples.\n"
     ]
    },
    {
     "name": "stderr",
     "output_type": "stream",
     "text": [
      "Adding samples.: 100%|██████████| 9860/9860 [00:00<00:00, 20386.07it/s]"
     ]
    },
    {
     "name": "stdout",
     "output_type": "stream",
     "text": [
      "Adding 0 new samples.\n"
     ]
    },
    {
     "name": "stderr",
     "output_type": "stream",
     "text": [
      "\n"
     ]
    }
   ],
   "source": [
    "ds = DataStore()\n",
    "p0 = Prior([0.0, 0.0], [1.0, 1.0])\n",
    "p1 = Prior([0.4, 0.4], [0.5, 0.5])\n",
    "p2 = Prior([0.4, 0.4], [0.6, 0.6])\n",
    "ds.grow(10000, p0)\n",
    "ds.grow(10000, p0)"
   ]
  },
  {
   "cell_type": "code",
   "execution_count": 15,
   "metadata": {},
   "outputs": [
    {
     "name": "stderr",
     "output_type": "stream",
     "text": [
      "Extracting samples.: 100%|██████████| 10152/10152 [00:00<00:00, 17822.61it/s]\n"
     ]
    },
    {
     "name": "stdout",
     "output_type": "stream",
     "text": [
      "Warning: Requires simulator run!\n"
     ]
    },
    {
     "data": {
      "text/plain": [
       "<matplotlib.collections.PathCollection at 0x7ffb960d8410>"
      ]
     },
     "execution_count": 15,
     "metadata": {},
     "output_type": "execute_result"
    },
    {
     "data": {
      "image/png": "[encoded data removed]",
      "text/plain": [
       "<Figure size 432x288 with 1 Axes>"
      ]
     },
     "metadata": {
      "needs_background": "light"
     },
     "output_type": "display_data"
    }
   ],
   "source": [
    "x, z = ds.sample(1000, p0)\n",
    "#z = ds.z\n",
    "plt.scatter(z[:,0], z[:,1], marker='.', alpha = 0.1)"
   ]
  },
  {
   "cell_type": "code",
   "execution_count": 16,
   "metadata": {},
   "outputs": [
    {
     "name": "stderr",
     "output_type": "stream",
     "text": [
      "Adding simulations: 100%|██████████| 10152/10152 [00:03<00:00, 2891.53it/s]\n"
     ]
    }
   ],
   "source": [
    "z = ds.get_z_without_x()\n",
    "x = list(np.sin(z))  # Toy data\n",
    "ds.fill_sims(x, z)"
   ]
  },
  {
   "cell_type": "code",
   "execution_count": 17,
   "metadata": {},
   "outputs": [
    {
     "name": "stderr",
     "output_type": "stream",
     "text": [
      "Extracting samples.: 100%|██████████| 10152/10152 [00:00<00:00, 17360.96it/s]\n",
      "Extracting samples.:   1%|          | 54/10152 [00:00<00:00, 19233.39it/s]\n",
      "Extracting samples.:   0%|          | 22/10152 [00:00<00:00, 10243.64it/s]"
     ]
    },
    {
     "name": "stdout",
     "output_type": "stream",
     "text": [
      "Warning: Requires running grow!\n",
      "Warning: Requires running grow!\n"
     ]
    },
    {
     "name": "stderr",
     "output_type": "stream",
     "text": [
      "\n"
     ]
    }
   ],
   "source": [
    "x, z = ds.sample(1000, p0)\n",
    "x, z = ds.sample(1000, p1)\n",
    "x, z = ds.sample(1000, p2)"
   ]
  },
  {
   "cell_type": "code",
   "execution_count": 30,
   "metadata": {},
   "outputs": [
    {
     "name": "stderr",
     "output_type": "stream",
     "text": [
      "Extracting samples.:   1%|          | 54/10152 [00:00<00:01, 9355.32it/s]"
     ]
    },
    {
     "name": "stdout",
     "output_type": "stream",
     "text": [
      "Warning: Requires running grow!\n"
     ]
    },
    {
     "name": "stderr",
     "output_type": "stream",
     "text": [
      "\n"
     ]
    }
   ],
   "source": [
    "x, z = ds.sample(1100, p1)"
   ]
  },
  {
   "cell_type": "code",
   "execution_count": null,
   "metadata": {},
   "outputs": [],
   "source": []
  }
 ],
 "metadata": {
  "kernelspec": {
   "display_name": "Python 3",
   "language": "python",
   "name": "python3"
  },
  "language_info": {
   "codemirror_mode": {
    "name": "ipython",
    "version": 3
   },
   "file_extension": ".py",
   "mimetype": "text/x-python",
   "name": "python",
   "nbconvert_exporter": "python",
   "pygments_lexer": "ipython3",
   "version": "3.7.7"
  }
 },
 "nbformat": 4,
 "nbformat_minor": 4
}
